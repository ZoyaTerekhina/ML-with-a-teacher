{
 "cells": [
  {
   "cell_type": "markdown",
   "metadata": {
    "toc": true
   },
   "source": [
    "<h1>Содержание<span class=\"tocSkip\"></span></h1>\n",
    "<div class=\"toc\"><ul class=\"toc-item\"><li><span><a href=\"#Подготовка-данных\" data-toc-modified-id=\"Подготовка-данных-1\"><span class=\"toc-item-num\">1&nbsp;&nbsp;</span>Подготовка данных</a></span></li><li><span><a href=\"#Исследование-задачи\" data-toc-modified-id=\"Исследование-задачи-2\"><span class=\"toc-item-num\">2&nbsp;&nbsp;</span>Исследование задачи</a></span><ul class=\"toc-item\"><li><span><a href=\"#Модель-&quot;Решающее-дерево&quot;:\" data-toc-modified-id=\"Модель-&quot;Решающее-дерево&quot;:-2.1\"><span class=\"toc-item-num\">2.1&nbsp;&nbsp;</span>Модель \"Решающее дерево\":</a></span></li><li><span><a href=\"#Модель-&quot;Случайный-лес&quot;:\" data-toc-modified-id=\"Модель-&quot;Случайный-лес&quot;:-2.2\"><span class=\"toc-item-num\">2.2&nbsp;&nbsp;</span>Модель \"Случайный лес\":</a></span></li><li><span><a href=\"#Модель-&quot;Логистическая-регрессия&quot;:\" data-toc-modified-id=\"Модель-&quot;Логистическая-регрессия&quot;:-2.3\"><span class=\"toc-item-num\">2.3&nbsp;&nbsp;</span>Модель \"Логистическая регрессия\":</a></span><ul class=\"toc-item\"><li><span><a href=\"#Вывод\" data-toc-modified-id=\"Вывод-2.3.1\"><span class=\"toc-item-num\">2.3.1&nbsp;&nbsp;</span>Вывод</a></span></li></ul></li></ul></li><li><span><a href=\"#Борьба-с-дисбалансом\" data-toc-modified-id=\"Борьба-с-дисбалансом-3\"><span class=\"toc-item-num\">3&nbsp;&nbsp;</span>Борьба с дисбалансом</a></span><ul class=\"toc-item\"><li><span><a href=\"#Взвешивание-классов\" data-toc-modified-id=\"Взвешивание-классов-3.1\"><span class=\"toc-item-num\">3.1&nbsp;&nbsp;</span>Взвешивание классов</a></span><ul class=\"toc-item\"><li><span><a href=\"#Логистическая-регрессия\" data-toc-modified-id=\"Логистическая-регрессия-3.1.1\"><span class=\"toc-item-num\">3.1.1&nbsp;&nbsp;</span>Логистическая регрессия</a></span></li><li><span><a href=\"#Решающее-дерево\" data-toc-modified-id=\"Решающее-дерево-3.1.2\"><span class=\"toc-item-num\">3.1.2&nbsp;&nbsp;</span>Решающее дерево</a></span></li><li><span><a href=\"#Случайный-лес\" data-toc-modified-id=\"Случайный-лес-3.1.3\"><span class=\"toc-item-num\">3.1.3&nbsp;&nbsp;</span>Случайный лес</a></span></li><li><span><a href=\"#Вывод\" data-toc-modified-id=\"Вывод-3.1.4\"><span class=\"toc-item-num\">3.1.4&nbsp;&nbsp;</span>Вывод</a></span></li></ul></li><li><span><a href=\"#Upsampling-и-Downsampling\" data-toc-modified-id=\"Upsampling-и-Downsampling-3.2\"><span class=\"toc-item-num\">3.2&nbsp;&nbsp;</span>Upsampling и Downsampling</a></span><ul class=\"toc-item\"><li><span><a href=\"#Логистическая-регрессия\" data-toc-modified-id=\"Логистическая-регрессия-3.2.1\"><span class=\"toc-item-num\">3.2.1&nbsp;&nbsp;</span>Логистическая регрессия</a></span></li><li><span><a href=\"#Решающее-дерево\" data-toc-modified-id=\"Решающее-дерево-3.2.2\"><span class=\"toc-item-num\">3.2.2&nbsp;&nbsp;</span>Решающее дерево</a></span></li><li><span><a href=\"#Случайный-лес\" data-toc-modified-id=\"Случайный-лес-3.2.3\"><span class=\"toc-item-num\">3.2.3&nbsp;&nbsp;</span>Случайный лес</a></span></li><li><span><a href=\"#Вывод\" data-toc-modified-id=\"Вывод-3.2.4\"><span class=\"toc-item-num\">3.2.4&nbsp;&nbsp;</span>Вывод</a></span></li></ul></li></ul></li><li><span><a href=\"#Тестирование-модели\" data-toc-modified-id=\"Тестирование-модели-4\"><span class=\"toc-item-num\">4&nbsp;&nbsp;</span>Тестирование модели</a></span><ul class=\"toc-item\"><li><span><a href=\"#Общий-вывод:\" data-toc-modified-id=\"Общий-вывод:-4.1\"><span class=\"toc-item-num\">4.1&nbsp;&nbsp;</span>Общий вывод:</a></span></li></ul></li><li><span><a href=\"#Чек-лист-готовности-проекта\" data-toc-modified-id=\"Чек-лист-готовности-проекта-5\"><span class=\"toc-item-num\">5&nbsp;&nbsp;</span>Чек-лист готовности проекта</a></span></li></ul></div>"
   ]
  },
  {
   "cell_type": "markdown",
   "metadata": {},
   "source": [
    "# Отток клиентов"
   ]
  },
  {
   "cell_type": "markdown",
   "metadata": {},
   "source": [
    "Из «Бета-Банка» стали уходить клиенты. Каждый месяц. Немного, но заметно. Банковские маркетологи посчитали: сохранять текущих клиентов дешевле, чем привлекать новых.\n",
    "\n",
    "Нужно спрогнозировать, уйдёт клиент из банка в ближайшее время или нет. Вам предоставлены исторические данные о поведении клиентов и расторжении договоров с банком. \n",
    "\n",
    "Постройте модель с предельно большим значением *F1*-меры. Чтобы сдать проект успешно, нужно довести метрику до 0.59. Проверьте *F1*-меру на тестовой выборке самостоятельно.\n",
    "\n",
    "Дополнительно измеряйте *AUC-ROC*, сравнивайте её значение с *F1*-мерой.\n",
    "\n",
    "Источник данных: [https://www.kaggle.com/barelydedicated/bank-customer-churn-modeling](https://www.kaggle.com/barelydedicated/bank-customer-churn-modeling)"
   ]
  },
  {
   "cell_type": "markdown",
   "metadata": {},
   "source": [
    "Признаки\n",
    "\n",
    "    RowNumber — индекс строки в данных\n",
    "    CustomerId — уникальный идентификатор клиента\n",
    "    Surname — фамилия\n",
    "    CreditScore — кредитный рейтинг\n",
    "    Geography — страна проживания\n",
    "    Gender — пол\n",
    "    Age — возраст\n",
    "    Tenure — сколько лет человек является клиентом банка\n",
    "    Balance — баланс на счёте\n",
    "    NumOfProducts — количество продуктов банка, используемых клиентом\n",
    "    HasCrCard — наличие кредитной карты\n",
    "    IsActiveMember — активность клиента\n",
    "    EstimatedSalary — предполагаемая зарплата\n",
    "    \n",
    "Целевой признак\n",
    "\n",
    "    Exited — факт ухода клиента"
   ]
  },
  {
   "cell_type": "markdown",
   "metadata": {},
   "source": [
    "## Подготовка данных"
   ]
  },
  {
   "cell_type": "code",
   "execution_count": 83,
   "metadata": {},
   "outputs": [
    {
     "name": "stdout",
     "output_type": "stream",
     "text": [
      "Requirement already satisfied: phik in c:\\users\\zst\\anaconda3\\lib\\site-packages (0.12.3)\n",
      "Requirement already satisfied: pandas>=0.25.1 in c:\\users\\zst\\anaconda3\\lib\\site-packages (from phik) (1.4.2)\n",
      "Requirement already satisfied: matplotlib>=2.2.3 in c:\\users\\zst\\anaconda3\\lib\\site-packages (from phik) (3.5.1)\n",
      "Requirement already satisfied: scipy>=1.5.2 in c:\\users\\zst\\anaconda3\\lib\\site-packages (from phik) (1.7.3)\n",
      "Requirement already satisfied: joblib>=0.14.1 in c:\\users\\zst\\anaconda3\\lib\\site-packages (from phik) (1.1.0)\n",
      "Requirement already satisfied: numpy>=1.18.0 in c:\\users\\zst\\anaconda3\\lib\\site-packages (from phik) (1.21.5)\n",
      "Requirement already satisfied: kiwisolver>=1.0.1 in c:\\users\\zst\\anaconda3\\lib\\site-packages (from matplotlib>=2.2.3->phik) (1.3.2)\n",
      "Requirement already satisfied: packaging>=20.0 in c:\\users\\zst\\anaconda3\\lib\\site-packages (from matplotlib>=2.2.3->phik) (21.3)\n",
      "Requirement already satisfied: pyparsing>=2.2.1 in c:\\users\\zst\\anaconda3\\lib\\site-packages (from matplotlib>=2.2.3->phik) (3.0.4)\n",
      "Requirement already satisfied: cycler>=0.10 in c:\\users\\zst\\anaconda3\\lib\\site-packages (from matplotlib>=2.2.3->phik) (0.11.0)\n",
      "Requirement already satisfied: python-dateutil>=2.7 in c:\\users\\zst\\anaconda3\\lib\\site-packages (from matplotlib>=2.2.3->phik) (2.8.2)\n",
      "Requirement already satisfied: pillow>=6.2.0 in c:\\users\\zst\\anaconda3\\lib\\site-packages (from matplotlib>=2.2.3->phik) (9.0.1)\n",
      "Requirement already satisfied: fonttools>=4.22.0 in c:\\users\\zst\\anaconda3\\lib\\site-packages (from matplotlib>=2.2.3->phik) (4.25.0)\n",
      "Requirement already satisfied: pytz>=2020.1 in c:\\users\\zst\\anaconda3\\lib\\site-packages (from pandas>=0.25.1->phik) (2021.3)\n",
      "Requirement already satisfied: six>=1.5 in c:\\users\\zst\\anaconda3\\lib\\site-packages (from python-dateutil>=2.7->matplotlib>=2.2.3->phik) (1.16.0)\n",
      "Note: you may need to restart the kernel to use updated packages.\n"
     ]
    }
   ],
   "source": [
    "pip install phik"
   ]
  },
  {
   "cell_type": "code",
   "execution_count": 84,
   "metadata": {},
   "outputs": [],
   "source": [
    "# импорт нужных библиотек и метрик\n",
    "import pandas as pd\n",
    "import seaborn as sns\n",
    "import numpy as np\n",
    "import sklearn\n",
    "import warnings\n",
    "import matplotlib.pyplot as plt \n",
    "\n",
    "\n",
    "import phik\n",
    "from phik.report import plot_correlation_matrix\n",
    "from phik import report\n",
    "\n",
    "from sklearn import tree\n",
    "warnings.filterwarnings('ignore')\n",
    "from sklearn.model_selection import train_test_split\n",
    "\n",
    "from sklearn.linear_model import LogisticRegression\n",
    "from sklearn.tree import DecisionTreeClassifier\n",
    "from sklearn.ensemble import RandomForestClassifier\n",
    "from sklearn.dummy import DummyClassifier\n",
    "\n",
    "from sklearn.model_selection import GridSearchCV\n",
    "\n",
    "from sklearn.metrics import accuracy_score\n",
    "from sklearn.metrics import mean_absolute_error\n",
    "from sklearn.metrics import confusion_matrix# матрица ошибок\n",
    "from sklearn.metrics import recall_score # полнота\n",
    "from sklearn.metrics import precision_score# точность\n",
    "from sklearn.metrics import f1_score # f1-метрика\n",
    "from sklearn.metrics import roc_auc_score\n",
    "from sklearn.metrics import roc_curve \n",
    "from sklearn.utils import shuffle\n",
    "\n",
    "from sklearn.preprocessing import StandardScaler # для стандартизации численных признаков\n",
    "pd.options.mode.chained_assignment = None # для игнорирования предупреждения\n",
    "# уберем ограничения на количество выводимых столбцов, что бы просмотреть все столбцы\n",
    "pd.set_option('display.max_columns', None)"
   ]
  },
  {
   "cell_type": "code",
   "execution_count": 85,
   "metadata": {},
   "outputs": [
    {
     "name": "stdout",
     "output_type": "stream",
     "text": [
      "<class 'pandas.core.frame.DataFrame'>\n",
      "RangeIndex: 10000 entries, 0 to 9999\n",
      "Data columns (total 14 columns):\n",
      " #   Column           Non-Null Count  Dtype  \n",
      "---  ------           --------------  -----  \n",
      " 0   RowNumber        10000 non-null  int64  \n",
      " 1   CustomerId       10000 non-null  int64  \n",
      " 2   Surname          10000 non-null  object \n",
      " 3   CreditScore      10000 non-null  int64  \n",
      " 4   Geography        10000 non-null  object \n",
      " 5   Gender           10000 non-null  object \n",
      " 6   Age              10000 non-null  int64  \n",
      " 7   Tenure           9091 non-null   float64\n",
      " 8   Balance          10000 non-null  float64\n",
      " 9   NumOfProducts    10000 non-null  int64  \n",
      " 10  HasCrCard        10000 non-null  int64  \n",
      " 11  IsActiveMember   10000 non-null  int64  \n",
      " 12  EstimatedSalary  10000 non-null  float64\n",
      " 13  Exited           10000 non-null  int64  \n",
      "dtypes: float64(3), int64(8), object(3)\n",
      "memory usage: 1.1+ MB\n"
     ]
    },
    {
     "data": {
      "text/html": [
       "<div>\n",
       "<style scoped>\n",
       "    .dataframe tbody tr th:only-of-type {\n",
       "        vertical-align: middle;\n",
       "    }\n",
       "\n",
       "    .dataframe tbody tr th {\n",
       "        vertical-align: top;\n",
       "    }\n",
       "\n",
       "    .dataframe thead th {\n",
       "        text-align: right;\n",
       "    }\n",
       "</style>\n",
       "<table border=\"1\" class=\"dataframe\">\n",
       "  <thead>\n",
       "    <tr style=\"text-align: right;\">\n",
       "      <th></th>\n",
       "      <th>RowNumber</th>\n",
       "      <th>CustomerId</th>\n",
       "      <th>Surname</th>\n",
       "      <th>CreditScore</th>\n",
       "      <th>Geography</th>\n",
       "      <th>Gender</th>\n",
       "      <th>Age</th>\n",
       "      <th>Tenure</th>\n",
       "      <th>Balance</th>\n",
       "      <th>NumOfProducts</th>\n",
       "      <th>HasCrCard</th>\n",
       "      <th>IsActiveMember</th>\n",
       "      <th>EstimatedSalary</th>\n",
       "      <th>Exited</th>\n",
       "    </tr>\n",
       "  </thead>\n",
       "  <tbody>\n",
       "    <tr>\n",
       "      <th>0</th>\n",
       "      <td>1</td>\n",
       "      <td>15634602</td>\n",
       "      <td>Hargrave</td>\n",
       "      <td>619</td>\n",
       "      <td>France</td>\n",
       "      <td>Female</td>\n",
       "      <td>42</td>\n",
       "      <td>2.0</td>\n",
       "      <td>0.00</td>\n",
       "      <td>1</td>\n",
       "      <td>1</td>\n",
       "      <td>1</td>\n",
       "      <td>101348.88</td>\n",
       "      <td>1</td>\n",
       "    </tr>\n",
       "    <tr>\n",
       "      <th>1</th>\n",
       "      <td>2</td>\n",
       "      <td>15647311</td>\n",
       "      <td>Hill</td>\n",
       "      <td>608</td>\n",
       "      <td>Spain</td>\n",
       "      <td>Female</td>\n",
       "      <td>41</td>\n",
       "      <td>1.0</td>\n",
       "      <td>83807.86</td>\n",
       "      <td>1</td>\n",
       "      <td>0</td>\n",
       "      <td>1</td>\n",
       "      <td>112542.58</td>\n",
       "      <td>0</td>\n",
       "    </tr>\n",
       "    <tr>\n",
       "      <th>2</th>\n",
       "      <td>3</td>\n",
       "      <td>15619304</td>\n",
       "      <td>Onio</td>\n",
       "      <td>502</td>\n",
       "      <td>France</td>\n",
       "      <td>Female</td>\n",
       "      <td>42</td>\n",
       "      <td>8.0</td>\n",
       "      <td>159660.80</td>\n",
       "      <td>3</td>\n",
       "      <td>1</td>\n",
       "      <td>0</td>\n",
       "      <td>113931.57</td>\n",
       "      <td>1</td>\n",
       "    </tr>\n",
       "    <tr>\n",
       "      <th>3</th>\n",
       "      <td>4</td>\n",
       "      <td>15701354</td>\n",
       "      <td>Boni</td>\n",
       "      <td>699</td>\n",
       "      <td>France</td>\n",
       "      <td>Female</td>\n",
       "      <td>39</td>\n",
       "      <td>1.0</td>\n",
       "      <td>0.00</td>\n",
       "      <td>2</td>\n",
       "      <td>0</td>\n",
       "      <td>0</td>\n",
       "      <td>93826.63</td>\n",
       "      <td>0</td>\n",
       "    </tr>\n",
       "    <tr>\n",
       "      <th>4</th>\n",
       "      <td>5</td>\n",
       "      <td>15737888</td>\n",
       "      <td>Mitchell</td>\n",
       "      <td>850</td>\n",
       "      <td>Spain</td>\n",
       "      <td>Female</td>\n",
       "      <td>43</td>\n",
       "      <td>2.0</td>\n",
       "      <td>125510.82</td>\n",
       "      <td>1</td>\n",
       "      <td>1</td>\n",
       "      <td>1</td>\n",
       "      <td>79084.10</td>\n",
       "      <td>0</td>\n",
       "    </tr>\n",
       "  </tbody>\n",
       "</table>\n",
       "</div>"
      ],
      "text/plain": [
       "   RowNumber  CustomerId   Surname  CreditScore Geography  Gender  Age  \\\n",
       "0          1    15634602  Hargrave          619    France  Female   42   \n",
       "1          2    15647311      Hill          608     Spain  Female   41   \n",
       "2          3    15619304      Onio          502    France  Female   42   \n",
       "3          4    15701354      Boni          699    France  Female   39   \n",
       "4          5    15737888  Mitchell          850     Spain  Female   43   \n",
       "\n",
       "   Tenure    Balance  NumOfProducts  HasCrCard  IsActiveMember  \\\n",
       "0     2.0       0.00              1          1               1   \n",
       "1     1.0   83807.86              1          0               1   \n",
       "2     8.0  159660.80              3          1               0   \n",
       "3     1.0       0.00              2          0               0   \n",
       "4     2.0  125510.82              1          1               1   \n",
       "\n",
       "   EstimatedSalary  Exited  \n",
       "0        101348.88       1  \n",
       "1        112542.58       0  \n",
       "2        113931.57       1  \n",
       "3         93826.63       0  \n",
       "4         79084.10       0  "
      ]
     },
     "execution_count": 85,
     "metadata": {},
     "output_type": "execute_result"
    }
   ],
   "source": [
    "# импорт данных\n",
    "data = pd.read_csv('./Churn.csv')\n",
    "#data = pd.read_csv('/datasets/Churn.csv')\n",
    "data.info()\n",
    "data.head(5)"
   ]
  },
  {
   "cell_type": "markdown",
   "metadata": {},
   "source": [
    "Итак, мы имеем датасет из 14 колонок и 10000 строк. \n",
    "Далее:\n",
    "1. Приведем к читаемому виду наименование колонок\n",
    "2. C типами данных особо не будем заморачиваться в виду того, что позже \"масштабируем\" все численные признаки.\n",
    "3. Посмотрим причину отсутвия некоторого количества данных в колонке Tenure и есть ли возможность замены\n",
    "4. Проверим наличие дубликатов в датасете"
   ]
  },
  {
   "cell_type": "code",
   "execution_count": 86,
   "metadata": {},
   "outputs": [
    {
     "data": {
      "text/plain": [
       "Index(['row_number', 'customer_id', 'surname', 'credit_score', 'geography',\n",
       "       'gender', 'age', 'tenure', 'balance', 'num_of_products', 'has_cr_card',\n",
       "       'is_active_member', 'estimated_salary', 'exited'],\n",
       "      dtype='object')"
      ]
     },
     "execution_count": 86,
     "metadata": {},
     "output_type": "execute_result"
    }
   ],
   "source": [
    "# Приводим наименование колонок к \"красивому виду\":\n",
    "data = data.rename(columns={'RowNumber':'row_number', 'CustomerId':'customer_id', 'Surname':'surname', \n",
    "                              'CreditScore':'credit_score','Geography':'geography','Gender':'gender',\n",
    "                              'Age':'age', 'Tenure':'tenure','Balance':'balance','NumOfProducts':'num_of_products',\n",
    "                              'HasCrCard':'has_cr_card','IsActiveMember':'is_active_member','EstimatedSalary':'estimated_salary',\n",
    "                              'Exited':'exited'})\n",
    "data.columns"
   ]
  },
  {
   "cell_type": "code",
   "execution_count": 87,
   "metadata": {},
   "outputs": [
    {
     "data": {
      "text/plain": [
       "tenure              0.0909\n",
       "row_number          0.0000\n",
       "customer_id         0.0000\n",
       "surname             0.0000\n",
       "credit_score        0.0000\n",
       "geography           0.0000\n",
       "gender              0.0000\n",
       "age                 0.0000\n",
       "balance             0.0000\n",
       "num_of_products     0.0000\n",
       "has_cr_card         0.0000\n",
       "is_active_member    0.0000\n",
       "estimated_salary    0.0000\n",
       "exited              0.0000\n",
       "dtype: float64"
      ]
     },
     "execution_count": 87,
     "metadata": {},
     "output_type": "execute_result"
    }
   ],
   "source": [
    "# процент пропущенных значений по столбцам\n",
    "data.isna().mean().sort_values(ascending=False)"
   ]
  },
  {
   "cell_type": "markdown",
   "metadata": {},
   "source": [
    "Примерно, 9,09% данных пропущено в колонке tenure"
   ]
  },
  {
   "cell_type": "code",
   "execution_count": 88,
   "metadata": {},
   "outputs": [
    {
     "data": {
      "text/plain": [
       "0"
      ]
     },
     "execution_count": 88,
     "metadata": {},
     "output_type": "execute_result"
    }
   ],
   "source": [
    "# Посчитаем дубликаты:\n",
    "data.duplicated().sum()"
   ]
  },
  {
   "cell_type": "markdown",
   "metadata": {},
   "source": [
    "Полностью дублирующих строк нет."
   ]
  },
  {
   "cell_type": "code",
   "execution_count": null,
   "metadata": {},
   "outputs": [],
   "source": [
    "# проведем корреляционный анализ, чтобы посмотреть возможность убрать лишние признаки из набора данных\n",
    "#Проверим наличие ложной корреляции, посмотрим скатерплоты\n",
    "sns.pairplot(data, hue='exited')"
   ]
  },
  {
   "cell_type": "markdown",
   "metadata": {},
   "source": [
    "По графикам  не обнаружено ложной корреляции И положительной между столбцами, все числовые столбцы оставляем в датафрейме для обучения модели."
   ]
  },
  {
   "cell_type": "code",
   "execution_count": null,
   "metadata": {},
   "outputs": [],
   "source": [
    "# матрица корреляций\n",
    "plt.figure(figsize=(18, 10))\n",
    "sns.heatmap(data.corr(), annot=True, cmap='YlGnBu', cbar=False, robust=True, linewidths=.2)\n",
    "plt.show()"
   ]
  },
  {
   "cell_type": "markdown",
   "metadata": {},
   "source": [
    "Полностью кореллирующих данных нет."
   ]
  },
  {
   "cell_type": "markdown",
   "metadata": {},
   "source": [
    "<div class=\"alert alert-block alert-warning\">\n",
    "<b>Изменения:</b> для рассмотрения корреляции по всем признакам используем phik-матрицу ниже\n",
    "</div>"
   ]
  },
  {
   "cell_type": "code",
   "execution_count": null,
   "metadata": {},
   "outputs": [],
   "source": [
    "phik_overview = data.phik_matrix()\n",
    "phik_overview.round(2)\n",
    "plot_correlation_matrix(phik_overview.values, \n",
    "                        x_labels=phik_overview.columns, \n",
    "                        y_labels=phik_overview.index, \n",
    "                        vmin=0, vmax=1, color_map=\"Greens\", \n",
    "                        title=r\"correlation $\\phi_K$\", \n",
    "                        fontsize_factor=1.5, \n",
    "                        figsize=(10, 8))\n",
    "plt.tight_layout()"
   ]
  },
  {
   "cell_type": "code",
   "execution_count": null,
   "metadata": {},
   "outputs": [],
   "source": [
    "# такием признаки, как индекс строки и фамилия клиента, ID не влияют на дальнейшее исследование\n",
    "# поэтому удалим данные признаки\n",
    "data = data.drop(['surname', 'row_number', 'customer_id'], axis=1)"
   ]
  },
  {
   "cell_type": "code",
   "execution_count": null,
   "metadata": {},
   "outputs": [],
   "source": [
    "# посмотрим на уникальные значения столбца tenure\n",
    "data['tenure'].unique()"
   ]
  },
  {
   "cell_type": "code",
   "execution_count": null,
   "metadata": {},
   "outputs": [],
   "source": [
    "tenure_nan = data['tenure'].isna() # выводим пропущенные значения по столбцу tenure\n",
    "data[tenure_nan].head(10)"
   ]
  },
  {
   "cell_type": "markdown",
   "metadata": {},
   "source": [
    "не получается проследить какой-то взаимосвязи, позволяющей восставновить данные. Скорее всего они были утеряны, либо на этапе выгрузки таблицы, либо же не внесены вовсе. Т.к. процент этих данных небольшой, всего 9%, то, думаю, их можно удалить "
   ]
  },
  {
   "cell_type": "code",
   "execution_count": null,
   "metadata": {},
   "outputs": [],
   "source": [
    "#Удаляем из таблицы строки, в которых отсутствуют значения tenure\n",
    "#data = data.dropna(axis='index', how='any', subset=['tenure']).reset_index(drop=True)\n"
   ]
  },
  {
   "cell_type": "markdown",
   "metadata": {},
   "source": [
    "<div class=\"alert alert-block alert-warning\">\n",
    "<b>Изменения:</b> не будем удалять данные из датасета, а заполним пропуски значением (-1). \n",
    "</div>"
   ]
  },
  {
   "cell_type": "code",
   "execution_count": null,
   "metadata": {},
   "outputs": [],
   "source": [
    "data.loc[data['tenure'].isna(), 'tenure'] = -1\n",
    "data['tenure'] = data['tenure'].astype('object')\n",
    "datas = pd.get_dummies(data, drop_first=True)"
   ]
  },
  {
   "cell_type": "code",
   "execution_count": null,
   "metadata": {},
   "outputs": [],
   "source": [
    "data['tenure'].unique() # проверим отсутвие пропусков"
   ]
  },
  {
   "cell_type": "markdown",
   "metadata": {},
   "source": [
    "Итак:"
   ]
  },
  {
   "cell_type": "code",
   "execution_count": null,
   "metadata": {},
   "outputs": [],
   "source": [
    "data.info()"
   ]
  },
  {
   "cell_type": "markdown",
   "metadata": {},
   "source": [
    "Преобразуем категориальные признаки в численные с помощью техники прямого кодирования( One-Hot Encoding, OHE). Применим прямое кодирование ко всему датафрейму"
   ]
  },
  {
   "cell_type": "code",
   "execution_count": null,
   "metadata": {},
   "outputs": [],
   "source": [
    "data_ohe = pd.get_dummies(data, drop_first=True)\n",
    "data_ohe.head()"
   ]
  },
  {
   "cell_type": "code",
   "execution_count": null,
   "metadata": {},
   "outputs": [],
   "source": [
    "# размер таблицы\n",
    "data_ohe.shape"
   ]
  },
  {
   "cell_type": "code",
   "execution_count": null,
   "metadata": {},
   "outputs": [],
   "source": [
    "data_ohe.info()"
   ]
  },
  {
   "cell_type": "code",
   "execution_count": null,
   "metadata": {},
   "outputs": [],
   "source": [
    "# выделим целевой признак и признаки\n",
    "target = data_ohe['exited']\n",
    "features = data_ohe.drop('exited', axis=1)"
   ]
  },
  {
   "cell_type": "markdown",
   "metadata": {},
   "source": [
    "Разделим исходные данные на обучающую, валидационную и тестовую выборки. \n",
    "Разбиение сделаем в соотношении 3:1:1, т.е. 60%х20%х20%\n"
   ]
  },
  {
   "cell_type": "code",
   "execution_count": null,
   "metadata": {},
   "outputs": [],
   "source": [
    "# Для начала выделим валидационную выборку (20%  от общего количества данных данных):\n",
    "features_part, features_valid, target_part, target_valid = train_test_split(features, \n",
    "                                                                            target, \n",
    "                                                                            test_size=0.20, \n",
    "                                                                            random_state=12345,\n",
    "                                                                            stratify=target)\n",
    "# Теперь оставшиеся данные разобъем на обучающую и тестовую выборки (для тестовой выборки возьмем 25% от осташихся 80% данных после выделения валидационной выборки)) ):\n",
    "features_train, features_test, target_train, target_test = train_test_split(features_part, \n",
    "                                                                            target_part, \n",
    "                                                                            test_size=0.25, \n",
    "                                                                            random_state=12345,\n",
    "                                                                            stratify=target_part)"
   ]
  },
  {
   "cell_type": "markdown",
   "metadata": {},
   "source": [
    "Проверим размеры полученных выборок:"
   ]
  },
  {
   "cell_type": "code",
   "execution_count": null,
   "metadata": {},
   "outputs": [],
   "source": [
    "print('Размер обучающей выборки:')\n",
    "print(features_train.shape)\n",
    "print(target_train.shape)\n",
    "print('Размер валидационной выборки:')\n",
    "print(features_valid.shape)\n",
    "print(target_valid.shape)\n",
    "print('Размер тестовой выборки:')\n",
    "print(features_test.shape)\n",
    "print(target_test.shape)"
   ]
  },
  {
   "cell_type": "markdown",
   "metadata": {},
   "source": [
    "Стандартизируем численные признаки"
   ]
  },
  {
   "cell_type": "code",
   "execution_count": null,
   "metadata": {},
   "outputs": [],
   "source": [
    "numeric = ['credit_score', 'age', 'balance', \n",
    "           'num_of_products', 'has_cr_card', 'is_active_member', 'estimated_salary'] # список всех численных признаков"
   ]
  },
  {
   "cell_type": "code",
   "execution_count": null,
   "metadata": {},
   "outputs": [],
   "source": [
    "scaler = StandardScaler()\n",
    "scaler.fit(features_train[numeric])\n",
    "features_train[numeric] = scaler.transform(features_train[numeric])\n",
    "features_valid[numeric] = scaler.transform(features_valid[numeric])\n",
    "features_test[numeric] = scaler.transform(features_test[numeric])\n",
    "# посмотрим, что получилось\n",
    "features_train.head()"
   ]
  },
  {
   "cell_type": "markdown",
   "metadata": {},
   "source": [
    "## Исследование задачи"
   ]
  },
  {
   "cell_type": "code",
   "execution_count": null,
   "metadata": {},
   "outputs": [],
   "source": [
    "# проверим сбалансированность данных. Для этого посчитаем, как часто в целевом признаке встречается класс «1» или «0».\n",
    "class_frequency = data_ohe['exited'].value_counts(normalize=True)\n",
    "print(class_frequency)\n",
    "class_frequency.plot(kind='bar')"
   ]
  },
  {
   "cell_type": "markdown",
   "metadata": {},
   "source": [
    "Наблюдаем дисбаланс классов. Класс \"0\" примерно в 4 раза больше класса \"1\".\n",
    "\n",
    "Далее рассмотри три модели, обучим их без учета дисбаланса."
   ]
  },
  {
   "cell_type": "markdown",
   "metadata": {},
   "source": [
    "### Модель \"Решающее дерево\":"
   ]
  },
  {
   "cell_type": "code",
   "execution_count": null,
   "metadata": {},
   "outputs": [],
   "source": [
    "best_model = None\n",
    "best_accuracy = 0\n",
    "best_depth = 0\n",
    "accuracy_train_plot = []\n",
    "accuracy_valid_plot = []\n",
    "best_f1 = 0\n",
    "best_auc_roc = 0\n",
    "\n",
    "for depth in range(1,11):  # цикл для max_depth от 1 до 10 \n",
    "    model = DecisionTreeClassifier(max_depth= depth,random_state=12345)# создаем объект (модель) импортируемой структуры данных\n",
    "    model_DecisionTreeClassifier = model.fit(features_train, target_train) # обучим модель, используя ранее выделенную обучающую выборку\n",
    "    predictions_train = model_DecisionTreeClassifier.predict(features_train)\n",
    "    accuracy_train = accuracy_score(target_train, predictions_train)\n",
    "    accuracy_train_plot.append(accuracy_train)\n",
    "    \n",
    "    predictions_valid = model_DecisionTreeClassifier.predict(features_valid)# находим предсказания на валидационной выборке \n",
    "    accuracy_valid = accuracy_score(target_valid, predictions_valid)\n",
    "    accuracy_valid_plot.append(accuracy_valid)\n",
    "    \n",
    "    f1_valid = f1_score(target_valid, predictions_valid)\n",
    "    \n",
    "    probabilities_valid = model_DecisionTreeClassifier.predict_proba(features_valid)\n",
    "    probabilities_one_valid = probabilities_valid[:, 1]\n",
    "\n",
    "    auc_roc_valid = roc_auc_score(target_valid,probabilities_one_valid)\n",
    "    \n",
    "    if f1_valid > best_f1:\n",
    "            best_model = model_DecisionTreeClassifier\n",
    "            best_accuracy = accuracy_valid\n",
    "            best_depth = depth\n",
    "            best_f1 = f1_valid\n",
    "            best_auc_roc = auc_roc_valid\n",
    "            \n",
    "print(\"Глубина дерева =\", best_depth)\n",
    "\n",
    "print('Доля правильных ответов (Accuracy) наилучшей модели на валидационной выборке:','{:.4f}'.format(best_accuracy))\n",
    "print('F1-мера модели на валидационной выборке:', '{:.4f}'.format(best_f1))\n",
    "print('Auc_Roc модели на валидационной выборке:', '{:.4f}'.format(best_auc_roc))"
   ]
  },
  {
   "cell_type": "markdown",
   "metadata": {},
   "source": [
    "Посмотрим, как при изменении гиперпараметров меняется точность на train и validation датасете."
   ]
  },
  {
   "cell_type": "code",
   "execution_count": null,
   "metadata": {},
   "outputs": [],
   "source": [
    "plt.plot(accuracy_train_plot, label='точность на обучающей выборке')\n",
    "plt.plot(accuracy_valid_plot, label='точность на валидационной выборке')\n",
    "plt.title('График изменения точности модели при изменении глубины', fontsize=10)\n",
    "plt.xlabel('глубина', fontsize=10, color='blue')\n",
    "plt.ylabel('точность', fontsize=10, color='blue')\n",
    "plt.legend()\n",
    "plt.grid(True)"
   ]
  },
  {
   "cell_type": "markdown",
   "metadata": {},
   "source": [
    "Как видно из графика после глубины равной 5-6 модель явно начинает переобучаться и нет смысла брать глубину больше."
   ]
  },
  {
   "cell_type": "code",
   "execution_count": null,
   "metadata": {},
   "outputs": [],
   "source": [
    "# Проанализируем частоты классов в результатах предсказаний решающего дерева\n",
    "model = DecisionTreeClassifier(max_depth= 6,random_state=12345)# создаем объект (модель) импортируемой структуры данных\n",
    "model = model.fit(features_train, target_train) \n",
    "# Преобразуем результат к pd.Series\n",
    "predicted_valid = pd.Series(model.predict(features_valid))\n",
    "# Подсчет классов и перевод в относительные величины\n",
    "class_frequency = predicted_valid.value_counts(normalize=True)\n",
    "print(class_frequency)\n",
    "class_frequency.plot(kind='bar')\n",
    "print('F1-мера', f1_score(target_valid, predicted_valid))"
   ]
  },
  {
   "cell_type": "markdown",
   "metadata": {},
   "source": [
    "Частота предсказания 0 моделью \"решающее дерево\" выше, чем 1"
   ]
  },
  {
   "cell_type": "markdown",
   "metadata": {},
   "source": [
    "### Модель \"Случайный лес\":"
   ]
  },
  {
   "cell_type": "code",
   "execution_count": null,
   "metadata": {},
   "outputs": [],
   "source": [
    "#model = RandomForestClassifier()\n",
    "##parametrs = { 'n_estimators': range (5, 50, 1),\n",
    "##              'max_depth': range (4,30, 1)\n",
    "##            }\n",
    "#parametrs = { 'n_estimators': range (10, 150, 10),\n",
    "#              'max_depth': range (4,15, 1)\n",
    "#            }\n",
    "#model_RandomForestClassifier = GridSearchCV(model, parametrs, cv=3)\n",
    "#model_RandomForestClassifier.fit(features_train,target_train)"
   ]
  },
  {
   "cell_type": "markdown",
   "metadata": {},
   "source": [
    "<div class=\"alert alert-block alert-warning\">\n",
    "<b>Изменения:</b> внесла изменения в гипперпараметры модели, см. выше (предыдущие закомментила), соотвестсвенно, будут изменены некоторы данные ниже в анализе частот классов в результате предсказаний, а также метрики\n",
    "</div>"
   ]
  },
  {
   "cell_type": "code",
   "execution_count": null,
   "metadata": {},
   "outputs": [],
   "source": [
    "#print('Лучшая по гиперпараметрам модель:', model_RandomForestClassifier.best_estimator_)"
   ]
  },
  {
   "cell_type": "code",
   "execution_count": null,
   "metadata": {},
   "outputs": [],
   "source": [
    "#predictions_RandomForestClassifier = model_RandomForestClassifier.best_estimator_.predict(features_valid)\n",
    "# Метрики:"
   ]
  },
  {
   "cell_type": "code",
   "execution_count": null,
   "metadata": {},
   "outputs": [],
   "source": [
    "#accuracy_model_RandomForestClassifier = accuracy_score(target_valid, predictions_RandomForestClassifier)\n",
    "\n",
    "#f1_model_RandomForestClassifier = f1_score(target_valid, predictions_RandomForestClassifier)\n",
    "\n",
    "#probabilities_valid_RFC = model_RandomForestClassifier.predict_proba(features_valid)\n",
    "#probabilities_one_valid = probabilities_valid_RFC[:, 1]\n",
    "\n",
    "#auc_roc_model_RandomForestClassifier = roc_auc_score(target_valid,probabilities_one_valid)\n",
    "#print('Доля правильных ответов (Accuracy) модели на валидационной выборке:', '{:.4f}'.format(accuracy_model_RandomForestClassifier))\n",
    "#print('F1-мера модели на валидационной выборке:', '{:.4f}'.format(f1_model_RandomForestClassifier))\n",
    "#print('Auc_Roc модели на валидационной выборке:', '{:.4f}'.format(auc_roc_model_RandomForestClassifier))"
   ]
  },
  {
   "cell_type": "code",
   "execution_count": null,
   "metadata": {},
   "outputs": [],
   "source": [
    "# Проанализируем частоты классов в результатах предсказаний случайного леса\n",
    "#model = RandomForestClassifier(max_depth=14, n_estimators=110,random_state=12345)\n",
    "#model = model.fit(features_train, target_train)\n",
    "# Преобразуем результат к pd.Series\n",
    "#predicted_valid = pd.Series(model.predict(features_valid))\n",
    "# Подсчет классов и перевод в относительные величины\n",
    "#class_frequency = predicted_valid.value_counts(normalize=True)\n",
    "#print(class_frequency)\n",
    "#class_frequency.plot(kind='bar')"
   ]
  },
  {
   "cell_type": "markdown",
   "metadata": {},
   "source": [
    "Доля предсказаний 0 моделью Случайный лес значительно выше, чем 1"
   ]
  },
  {
   "cell_type": "markdown",
   "metadata": {},
   "source": [
    "### Модель \"Логистическая регрессия\":"
   ]
  },
  {
   "cell_type": "code",
   "execution_count": null,
   "metadata": {},
   "outputs": [],
   "source": [
    "#Обучим модель и проверим ее на валидационной выборке:\n",
    "\n",
    "model_LogisticRegression = LogisticRegression(random_state=12345, solver='liblinear') \n",
    "model_LogisticRegression.fit(features_train, target_train)\n",
    "predictions_valid_LR = model_LogisticRegression.predict(features_valid) \n",
    "# Метрики:\n",
    "accuracy_model_LogisticRegression = accuracy_score(target_valid, predictions_valid_LR)\n",
    "\n",
    "f1_model_LogisticRegression = f1_score(target_valid, predictions_valid_LR)\n",
    "\n",
    "probabilities_valid_LR = model_LogisticRegression.predict_proba(features_valid)\n",
    "probabilities_one_valid = probabilities_valid_LR[:, 1]\n",
    "\n",
    "auc_roc_model_LogisticRegression = roc_auc_score(target_valid,probabilities_one_valid)\n",
    "print('Доля правильных ответов (Accuracy) модели на валидационной выборке:', '{:.4f}'.format(accuracy_model_LogisticRegression))\n",
    "\n",
    "print('F1-мера модели на валидационной выборке:', '{:.4f}'.format(f1_model_LogisticRegression))\n",
    "print('Auc_Roc модели на валидационной выборке:', '{:.4f}'.format(auc_roc_model_LogisticRegression))\n"
   ]
  },
  {
   "cell_type": "markdown",
   "metadata": {},
   "source": [
    "<div class=\"alert alert-block alert-warning\">\n",
    "<b>Изменения:</b> ниже рассмотрела модель логистической регрессии с поиском оптимальных гипперпараметров С и max_iter.\n",
    "    Создала новую модель для сравнения, не удаляя первоначальную\n",
    "</div>"
   ]
  },
  {
   "cell_type": "code",
   "execution_count": null,
   "metadata": {},
   "outputs": [],
   "source": [
    "model_new = LogisticRegression(random_state=12345, solver='liblinear') \n",
    "parametrs ={ 'C': np.logspace(0,4,30), 'max_iter' :[10, 100,1000]}\n",
    "model_LogisticRegression_p = GridSearchCV(model_new, parametrs, cv=4, scoring='f1')\n",
    "model_LogisticRegression_p.fit(features_train,target_train)"
   ]
  },
  {
   "cell_type": "code",
   "execution_count": null,
   "metadata": {},
   "outputs": [],
   "source": [
    "print('Лучшая по гиперпараметрам модель:', model_LogisticRegression_p.best_estimator_)"
   ]
  },
  {
   "cell_type": "code",
   "execution_count": null,
   "metadata": {},
   "outputs": [],
   "source": [
    "predictions_valid_best_param = model_LogisticRegression_p.best_estimator_.predict(features_valid) \n",
    "# Метрики:\n",
    "accuracy_model_LogisticRegression_p = accuracy_score(target_valid, predictions_valid_best_param)\n",
    "\n",
    "f1_model_LogisticRegression_p = f1_score(target_valid, predictions_valid_best_param)\n",
    "\n",
    "probabilities_valid_best_param = model_LogisticRegression_p.predict_proba(features_valid)\n",
    "probabilities_one_valid = probabilities_valid_best_param[:, 1]\n",
    "\n",
    "auc_roc_model_LogisticRegression_p = roc_auc_score(target_valid,probabilities_one_valid)\n",
    "print('Доля правильных ответов (Accuracy) модели на валидационной выборке:', '{:.4f}'.format(accuracy_model_LogisticRegression_p))\n",
    "\n",
    "print('F1-мера модели на валидационной выборке:', '{:.4f}'.format(f1_model_LogisticRegression_p))\n",
    "print('Auc_Roc модели на валидационной выборке:', '{:.4f}'.format(auc_roc_model_LogisticRegression_p))"
   ]
  },
  {
   "cell_type": "markdown",
   "metadata": {},
   "source": [
    "<div class=\"alert alert-block alert-warning\">\n",
    "<b>Комментарии студента:</b> Варьируя параметрами метрику F1 поднять не удалось, но получить идентичные результаты с тем, что мы получили без перебора параметров, удалось.\n",
    "</div>"
   ]
  },
  {
   "cell_type": "code",
   "execution_count": null,
   "metadata": {},
   "outputs": [],
   "source": [
    "# Проанализируем частоты классов в результатах предсказаний логистической регрессии ( созданной без параметров)\n",
    "# Преобразуем результат к pd.Series \n",
    "predicted_valid = pd.Series(predictions_valid_LR)\n",
    "# Подсчет классов и перевод в относительные величины\n",
    "class_frequency = predicted_valid.value_counts(normalize=True)\n",
    "print(class_frequency)\n",
    "class_frequency.plot(kind='bar')\n",
    "print('F1-мера', f1_score(target_valid, predicted_valid))"
   ]
  },
  {
   "cell_type": "markdown",
   "metadata": {},
   "source": [
    "Логистическая регрессия прездсказывает практически одни 0"
   ]
  },
  {
   "cell_type": "markdown",
   "metadata": {},
   "source": [
    "#### Вывод\n",
    "Проверка дисбаланса классов целевого признака показала, что дисбаланс, примерно, в 4 раза\n",
    "\n",
    "На данном этапе исследования задачи мы построили три модели без учета дисбаланса класса и вывели метрики, каждой из них.\n",
    "Получить значение f1- меры, указанное в ТЗ проекта на данном этапе не удалось.\n",
    "\n",
    "Сбалансируем данные и еще раз проверим работу моделей уже с учетом дисбаланса."
   ]
  },
  {
   "cell_type": "markdown",
   "metadata": {},
   "source": [
    "## Борьба с дисбалансом"
   ]
  },
  {
   "cell_type": "markdown",
   "metadata": {},
   "source": [
    "Сначала для борьбы с дисбалансом используем метод взвешивания классов и посмотрим, как изменится метрика f1 при этом для каждой модели:"
   ]
  },
  {
   "cell_type": "markdown",
   "metadata": {},
   "source": [
    "### Взвешивание классов"
   ]
  },
  {
   "cell_type": "markdown",
   "metadata": {},
   "source": [
    "#### Логистическая регрессия"
   ]
  },
  {
   "cell_type": "code",
   "execution_count": null,
   "metadata": {},
   "outputs": [],
   "source": [
    "# логистическая регрессия\n",
    "model = LogisticRegression(random_state=12345, solver='liblinear',class_weight='balanced')\n",
    "model_LogisticRegression_CW = model.fit(features_train, target_train)\n",
    "predictions_valid_LR_CW = model_LogisticRegression_CW.predict(features_valid)\n",
    "f1_model_LogisticRegression = f1_score(target_valid, predictions_valid_LR_CW)\n",
    "\n",
    "probabilities_valid_LR_CW = model_LogisticRegression_CW.predict_proba(features_valid)\n",
    "probabilities_one_valid = probabilities_valid_LR_CW[:, 1]\n",
    "\n",
    "auc_roc_valid_LR_CW = roc_auc_score(target_valid,probabilities_one_valid)\n",
    "print('F1-мера модели на валидационной выборке:', '{:.4f}'.format(f1_model_LogisticRegression))\n",
    "print('Auc_Roc модели на валидационной выборке:', '{:.4f}'.format(auc_roc_valid_LR_CW))"
   ]
  },
  {
   "cell_type": "code",
   "execution_count": null,
   "metadata": {},
   "outputs": [],
   "source": [
    "# Проанализируем частоты классов в результатах предсказаний логистической регрессии со взвешенными классами \n",
    "# Преобразуем результат к pd.Series \n",
    "predicted_valid_LR_CW = pd.Series(predictions_valid_LR_CW)\n",
    "# Подсчет классов и перевод в относительные величины\n",
    "class_frequency = predicted_valid_LR_CW.value_counts(normalize=True)\n",
    "print(class_frequency)\n",
    "class_frequency.plot(kind='bar') "
   ]
  },
  {
   "cell_type": "markdown",
   "metadata": {},
   "source": [
    "F1 немного увеличилась, однако не соответсвует значению ТЗ. Баланс между предсказаниями 0 и 1 немного выровнился."
   ]
  },
  {
   "cell_type": "code",
   "execution_count": null,
   "metadata": {},
   "outputs": [],
   "source": [
    "# Построим ROC- кривую:\n",
    "fpr, tpr, thresholds = roc_curve(target_valid, probabilities_one_valid)\n",
    "\n",
    "plt.figure()\n",
    "plt.plot(fpr, tpr)\n",
    "\n",
    "# ROC-кривая случайной модели\n",
    "plt.plot([0, 1], [0, 1], linestyle='--')\n",
    "plt.xlim([0.0, 1.0])\n",
    "plt.ylim([0.0, 1.0])\n",
    "plt.xlabel('False Positive Rate')\n",
    "plt.ylabel('True Positive Rate')\n",
    "plt.title('ROC-кривая')\n",
    "plt.show()"
   ]
  },
  {
   "cell_type": "markdown",
   "metadata": {},
   "source": [
    "#### Решающее дерево"
   ]
  },
  {
   "cell_type": "code",
   "execution_count": null,
   "metadata": {},
   "outputs": [],
   "source": [
    "#решающее дерево\n",
    "best_model = None\n",
    "best_accuracy = 0\n",
    "best_depth = 0\n",
    "accuracy_train_plot = []\n",
    "accuracy_valid_plot = []\n",
    "best_f1 = 0\n",
    "\n",
    "best_auc_roc = 0\n",
    "\n",
    "for depth in range(1,30):   \n",
    "    model = DecisionTreeClassifier(max_depth= depth,random_state=12345, class_weight='balanced')# создаем объект (модель) импортируемой структуры данных\n",
    "    model_DecisionTreeClassifier_CW = model.fit(features_train, target_train) # обучим модель, используя ранее выделенную обучающую выборку\n",
    "    predictions_train_DTC_CW = model_DecisionTreeClassifier_CW.predict(features_train)\n",
    "    accuracy_train = accuracy_score(target_train, predictions_train_DTC_CW)\n",
    "    accuracy_train_plot.append(accuracy_train)\n",
    "    \n",
    "    predictions_valid_DTC_CW = model_DecisionTreeClassifier_CW.predict(features_valid)# находим предсказания на валидационной выборке \n",
    "    accuracy_valid = accuracy_score(target_valid, predictions_valid_DTC_CW)\n",
    "    accuracy_valid_plot.append(accuracy_valid)\n",
    "    \n",
    "    f1_valid = f1_score(target_valid, predictions_valid_DTC_CW)\n",
    "    \n",
    "\n",
    "    probabilities_valid_DTC_CW = model_DecisionTreeClassifier_CW.predict_proba(features_valid)\n",
    "    probabilities_one_valid = probabilities_valid_DTC_CW[:, 1]\n",
    "\n",
    "    auc_roc_valid = roc_auc_score(target_valid,probabilities_one_valid)\n",
    "    \n",
    "    if f1_valid > best_f1:\n",
    "            best_model = model_DecisionTreeClassifier_CW\n",
    "            best_accuracy = accuracy_valid\n",
    "            best_depth = depth\n",
    "            best_f1 = f1_valid\n",
    "            \n",
    "            best_auc_roc = auc_roc_valid\n",
    "            \n",
    "print(\"Глубина дерева =\", best_depth)\n",
    "\n",
    "print('Доля правильных ответов (Accuracy) наилучшей модели на валидационной выборке:','{:.4f}'.format(best_accuracy))\n",
    "\n",
    "print('F1-мера модели на валидационной выборке:', '{:.4f}'.format(best_f1))\n",
    "print('Auc_Roc модели на валидационной выборке:', '{:.4f}'.format(best_auc_roc))"
   ]
  },
  {
   "cell_type": "code",
   "execution_count": null,
   "metadata": {},
   "outputs": [],
   "source": [
    "plt.plot(accuracy_train_plot, label='точность на обучающей выборке')\n",
    "plt.plot(accuracy_valid_plot, label='точность на валидационной выборке')\n",
    "plt.title('График изменения точности модели при изменении глубины', fontsize=10)\n",
    "plt.xlabel('глубина', fontsize=10, color='blue')\n",
    "plt.ylabel('точность', fontsize=10, color='blue')\n",
    "plt.legend()\n",
    "plt.grid(True)"
   ]
  },
  {
   "cell_type": "markdown",
   "metadata": {},
   "source": [
    "Исходя из графика, брать глубину более 19-20 нет смысла. Далее модель переобучается"
   ]
  },
  {
   "cell_type": "code",
   "execution_count": null,
   "metadata": {},
   "outputs": [],
   "source": [
    "# Проанализируем частоты классов в результатах предсказаний решающего дерева\n",
    "model = DecisionTreeClassifier(max_depth= best_depth,random_state=12345)# создаем объект (модель) импортируемой структуры данных\n",
    "model = model.fit(features_train, target_train) \n",
    "# Преобразуем результат к pd.Series\n",
    "predicted_valid = pd.Series(model.predict(features_valid))\n",
    "# Подсчет классов и перевод в относительные величины\n",
    "class_frequency = predicted_valid.value_counts(normalize=True)\n",
    "print(class_frequency)\n",
    "class_frequency.plot(kind='bar')"
   ]
  },
  {
   "cell_type": "markdown",
   "metadata": {},
   "source": [
    "#### Случайный лес"
   ]
  },
  {
   "cell_type": "code",
   "execution_count": null,
   "metadata": {},
   "outputs": [],
   "source": [
    "#случайный лес\n",
    "#model_RandomForestClassifier_CW = RandomForestClassifier(random_state=12345, class_weight='balanced')\n",
    "#parametrs = { 'n_estimators': range (11, 150, 10),\n",
    "#              'max_depth': range (4,15, 1)\n",
    "#            }\n",
    "#model_RandomForestClassifier_CW = GridSearchCV(model_RandomForestClassifier_CW, parametrs, cv=3)\n",
    "#model_RandomForestClassifier_CW.fit(features_train,target_train)"
   ]
  },
  {
   "cell_type": "code",
   "execution_count": null,
   "metadata": {},
   "outputs": [],
   "source": [
    "#print('Лучшая по гиперпараметрам модель:', model_RandomForestClassifier_CW.best_estimator_)"
   ]
  },
  {
   "cell_type": "code",
   "execution_count": null,
   "metadata": {},
   "outputs": [],
   "source": [
    "# Обучим модель, с найденными параметрами и найдем нужные нам метрики:\n",
    "#predictions_RandomForestClassifier_CW = model_RandomForestClassifier_CW.best_estimator_.predict(features_valid)\n",
    "# Метрики:\n",
    "#accuracy_model_RandomForestClassifier_CW = accuracy_score(target_valid, predictions_RandomForestClassifier_CW)\n",
    "#recall_model_RandomForestClassifier_CW = recall_score(target_valid,predictions_RandomForestClassifier_CW)\n",
    "#precision_model_RandomForestClassifier_CW = precision_score(target_valid, predictions_RandomForestClassifier_CW)\n",
    "#f1_model_RandomForestClassifier_CW = f1_score(target_valid, predictions_RandomForestClassifier_CW)\n",
    "\n",
    "#probabilities_valid_RFC_CW = model_RandomForestClassifier_CW.predict_proba(features_valid)\n",
    "#probabilities_one_valid = probabilities_valid_RFC_CW[:, 1]\n",
    "\n",
    "#auc_roc_model_RandomForestClassifier_CW = roc_auc_score(target_valid,probabilities_one_valid)\n",
    "#print('Доля правильных ответов (Accuracy) модели на валидационной выборке:', '{:.4f}'.format(accuracy_model_RandomForestClassifier_CW))\n",
    "\n",
    "#print('F1-мера модели на валидационной выборке:', '{:.4f}'.format(f1_model_RandomForestClassifier_CW))\n",
    "#print('Auc_Roc модели на валидационной выборке:', '{:.4f}'.format(auc_roc_model_RandomForestClassifier_CW))\n"
   ]
  },
  {
   "cell_type": "code",
   "execution_count": null,
   "metadata": {},
   "outputs": [],
   "source": [
    "# Проанализируем частоты классов в результатах предсказаний случайного леса\n",
    "#model = RandomForestClassifier(max_depth=14, n_estimators=71, random_state=12345,class_weight='balanced')\n",
    "#model = model.fit(features_train, target_train) \n",
    "# Преобразуем результат к pd.Series\n",
    "#predicted_valid = pd.Series(model.predict(features_valid))\n",
    "# Подсчет классов и перевод в относительные величины\n",
    "#class_frequency = predicted_valid.value_counts(normalize=True)\n",
    "#print(class_frequency)\n",
    "#class_frequency.plot(kind='bar')"
   ]
  },
  {
   "cell_type": "code",
   "execution_count": null,
   "metadata": {},
   "outputs": [],
   "source": [
    "# Построим ROC- кривую:\n",
    "#probabilities_valid= model.predict_proba(features_valid)\n",
    "#probabilities_one_valid = probabilities_valid[:, 1]\n",
    "\n",
    "#fpr, tpr, thresholds = roc_curve(target_valid, probabilities_one_valid)\n",
    "\n",
    "#plt.figure()\n",
    "#plt.plot(fpr, tpr)\n",
    "\n",
    "# ROC-кривая случайной модели\n",
    "#plt.plot([0, 1], [0, 1], linestyle='--')\n",
    "#plt.xlim([0.0, 1.0])\n",
    "#plt.ylim([0.0, 1.0])\n",
    "#plt.xlabel('False Positive Rate')\n",
    "#plt.ylabel('True Positive Rate')\n",
    "#plt.title('ROC-кривая')\n",
    "#plt.show()"
   ]
  },
  {
   "cell_type": "markdown",
   "metadata": {},
   "source": [
    "#### Вывод\n",
    "В результате взвешивания классов для борьбы с дисбалансом мы смогли получить метрику f1>0.59 в моделе случайный лес (с параметрами: max_depth=16, n_estimators=41), однако попробуем другие способы борьбы с дисбалансом для достижения лучшего результата.\n",
    "\n",
    "Применим другие способы борьбы с дисбалансом: \n",
    "- Увеличим число обектов обучающей выборки меньшего класса с помощью функции upsampling\n",
    "- Уменьшим число объектов обучающей выборки большего класса с помощью функции downsampling"
   ]
  },
  {
   "cell_type": "markdown",
   "metadata": {},
   "source": [
    "### Upsampling и Downsampling"
   ]
  },
  {
   "cell_type": "code",
   "execution_count": null,
   "metadata": {},
   "outputs": [],
   "source": [
    "# Функция для увеличения выборки. Увеличим число объектов меньшего класса с помощью функции upsampling:\n",
    "def upsample(features, target, repeat):\n",
    "    features_zeros = features[target == 0]\n",
    "    features_ones = features[target == 1]\n",
    "    target_zeros = target[target == 0]\n",
    "    target_ones = target[target == 1]\n",
    "\n",
    "    features_upsampled = pd.concat([features_zeros] + [features_ones] * repeat)\n",
    "    target_upsampled = pd.concat([target_zeros] + [target_ones] * repeat)\n",
    "    features_upsampled, target_upsampled = shuffle(features_upsampled, target_upsampled, random_state=12345)\n",
    "\n",
    "    return features_upsampled, target_upsampled"
   ]
  },
  {
   "cell_type": "code",
   "execution_count": null,
   "metadata": {},
   "outputs": [],
   "source": [
    "# увеличим обучающую выборку\n",
    "features_upsampled, target_upsampled = upsample(features_train, target_train, 4)\n",
    "# Проверим данные\n",
    "features_zeros = features_upsampled[target_upsampled == 0]\n",
    "features_ones = features_upsampled[target_upsampled == 1]\n",
    "\n",
    "\n",
    "print(features_zeros.shape[0])\n",
    "print(features_ones.shape[0])\n"
   ]
  },
  {
   "cell_type": "code",
   "execution_count": null,
   "metadata": {},
   "outputs": [],
   "source": [
    "# Функция для уменьшения выборки. Уменьшим число объектов большего класса с помощью функции downsampling:\n",
    "def downsample(features, target, fraction):\n",
    "\n",
    "    features_zeros = features[target == 0]\n",
    "    features_ones = features[target == 1]\n",
    "    target_zeros = target[target == 0]\n",
    "    target_ones = target[target == 1]\n",
    "    \n",
    "    features_downsampled = pd.concat([features_zeros.sample(frac=fraction, random_state=12345)] + [features_ones])\n",
    "    target_downsampled = pd.concat([target_zeros.sample(frac=fraction, random_state=12345)] + [target_ones])\n",
    "\n",
    "    features_downsampled, target_downsampled = shuffle(features_downsampled, target_downsampled, random_state=12345)\n",
    "\n",
    "    return features_downsampled, target_downsampled"
   ]
  },
  {
   "cell_type": "code",
   "execution_count": null,
   "metadata": {},
   "outputs": [],
   "source": [
    "# уменьшим обучающую выборку\n",
    "features_downsampled, target_downsampled = downsample(features_train, target_train, 0.26)\n",
    "# Проверим данные\n",
    "features_zeros = features_downsampled[target_downsampled == 0]\n",
    "features_ones = features_downsampled[target_downsampled == 1]\n",
    "\n",
    "\n",
    "print(features_zeros.shape[0])\n",
    "print(features_ones.shape[0])"
   ]
  },
  {
   "cell_type": "markdown",
   "metadata": {},
   "source": [
    "#### Логистическая регрессия"
   ]
  },
  {
   "cell_type": "code",
   "execution_count": null,
   "metadata": {},
   "outputs": [],
   "source": [
    "# Обучим модель логистической регрессии на увеличенных данных\n",
    "model = LogisticRegression(random_state=12345,solver='liblinear')\n",
    "model_LR_ups = model.fit(features_upsampled,target_upsampled)\n",
    "predictions_valid_LR_ups = model_LR_ups.predict(features_valid)\n",
    "# Метрики:\n",
    "accuracy_model_LR_ups = accuracy_score(target_valid, predictions_valid_LR_ups)\n",
    "\n",
    "f1_model_LR_ups = f1_score(target_valid, predictions_valid_LR_ups)\n",
    "\n",
    "probabilities_valid_LR_ups = model_LR_ups.predict_proba(features_valid)\n",
    "probabilities_one_valid_LR_ups = probabilities_valid_LR_ups[:, 1]\n",
    "\n",
    "auc_roc_model_LR_ups = roc_auc_score(target_valid,probabilities_one_valid_LR_ups)\n",
    "print('Доля правильных ответов (Accuracy) модели на валидационной выборке:', '{:.4f}'.format(accuracy_model_LR_ups))\n",
    "\n",
    "print('F1-мера модели на валидационной выборке:', '{:.4f}'.format(f1_model_LR_ups))\n",
    "print('Auc_Roc модели на валидационной выборке:', '{:.4f}'.format(auc_roc_model_LR_ups))"
   ]
  },
  {
   "cell_type": "markdown",
   "metadata": {},
   "source": [
    "Как можно видеть, f1-мера увеличилась, но не достигла значения нужного нам по ТЗ"
   ]
  },
  {
   "cell_type": "code",
   "execution_count": null,
   "metadata": {},
   "outputs": [],
   "source": [
    "# Построим ROC- кривую:\n",
    "fpr, tpr, thresholds = roc_curve(target_valid, probabilities_one_valid_LR_ups)\n",
    "\n",
    "plt.figure()\n",
    "plt.plot(fpr, tpr)\n",
    "\n",
    "# ROC-кривая случайной модели\n",
    "plt.plot([0, 1], [0, 1], linestyle='--')\n",
    "plt.xlim([0.0, 1.0])\n",
    "plt.ylim([0.0, 1.0])\n",
    "plt.xlabel('False Positive Rate')\n",
    "plt.ylabel('True Positive Rate')\n",
    "plt.title('ROC-кривая')\n",
    "plt.show()"
   ]
  },
  {
   "cell_type": "code",
   "execution_count": null,
   "metadata": {},
   "outputs": [],
   "source": [
    "# Обучим модель логистической регрессии на уменьшенных данных\n",
    "\n",
    "model = LogisticRegression(random_state=12345,solver='liblinear')\n",
    "model_LR_dws = model.fit(features_downsampled,target_downsampled)\n",
    "predictions_valid_LR_dws = model_LR_dws.predict(features_valid)\n",
    "# Метрики:\n",
    "accuracy_model_LR_dws = accuracy_score(target_valid, predictions_valid_LR_dws)\n",
    "\n",
    "f1_model_LR_dws = f1_score(target_valid, predictions_valid_LR_dws)\n",
    "\n",
    "probabilities_valid_LR_dws = model_LR_dws.predict_proba(features_valid)\n",
    "probabilities_one_valid_LR_dws = probabilities_valid_LR_dws[:, 1]\n",
    "\n",
    "auc_roc_model_LR_dws = roc_auc_score(target_valid,probabilities_one_valid_LR_dws)\n",
    "print('Доля правильных ответов (Accuracy) модели на валидационной выборке:', '{:.4f}'.format(accuracy_model_LR_dws))\n",
    "\n",
    "print('F1-мера модели на валидационной выборке:', '{:.4f}'.format(f1_model_LR_dws))\n",
    "print('Auc_Roc модели на валидационной выборке:', '{:.4f}'.format(auc_roc_model_LR_dws))"
   ]
  },
  {
   "cell_type": "markdown",
   "metadata": {},
   "source": [
    "При данном способе, f1-мера изменилась, но не достигла значения нужного нам по ТЗ"
   ]
  },
  {
   "cell_type": "code",
   "execution_count": null,
   "metadata": {},
   "outputs": [],
   "source": [
    "# Построим ROC- кривую:\n",
    "fpr, tpr, thresholds = roc_curve(target_valid, probabilities_one_valid_LR_dws)\n",
    "\n",
    "plt.figure()\n",
    "plt.plot(fpr, tpr)\n",
    "\n",
    "# ROC-кривая случайной модели\n",
    "plt.plot([0, 1], [0, 1], linestyle='--')\n",
    "plt.xlim([0.0, 1.0])\n",
    "plt.ylim([0.0, 1.0])\n",
    "plt.xlabel('False Positive Rate')\n",
    "plt.ylabel('True Positive Rate')\n",
    "plt.title('ROC-кривая')\n",
    "plt.show()"
   ]
  },
  {
   "cell_type": "markdown",
   "metadata": {},
   "source": [
    "#### Решающее дерево"
   ]
  },
  {
   "cell_type": "code",
   "execution_count": null,
   "metadata": {},
   "outputs": [],
   "source": [
    "#Обучим модель решающего дерева на увеличенных данных"
   ]
  },
  {
   "cell_type": "code",
   "execution_count": null,
   "metadata": {},
   "outputs": [],
   "source": [
    "#решающее дерево\n",
    "best_model = None\n",
    "best_accuracy = 0\n",
    "best_depth = 0\n",
    "accuracy_train_plot = []\n",
    "accuracy_valid_plot = []\n",
    "best_f1 = 0\n",
    "\n",
    "best_auc_roc = 0\n",
    "\n",
    "for depth in range(1,60): \n",
    "    model = DecisionTreeClassifier(max_depth= depth,random_state=12345)# создаем объект (модель) импортируемой структуры данных\n",
    "    model_DecisionTreeClassifier_ups = model.fit(features_upsampled,target_upsampled) # обучим модель, используя ранее выделенную обучающую выборку\n",
    "    predictions_train_DTC_ups = model_DecisionTreeClassifier_ups.predict(features_train)\n",
    "    accuracy_train = accuracy_score(target_train, predictions_train_DTC_ups)\n",
    "    accuracy_train_plot.append(accuracy_train)\n",
    "    \n",
    "    predictions_valid_DTC_ups = model_DecisionTreeClassifier_ups.predict(features_valid)# находим предсказания на валидационной выборке \n",
    "    accuracy_valid = accuracy_score(target_valid, predictions_valid_DTC_ups)\n",
    "    accuracy_valid_plot.append(accuracy_valid)\n",
    "    \n",
    "    f1_valid = f1_score(target_valid, predictions_valid_DTC_ups)\n",
    "    \n",
    "\n",
    "\n",
    "    probabilities_valid_DTC_ups = model_DecisionTreeClassifier_ups.predict_proba(features_valid)\n",
    "    probabilities_one_valid = probabilities_valid_DTC_ups[:, 1]\n",
    "\n",
    "    auc_roc_valid = roc_auc_score(target_valid,probabilities_one_valid)\n",
    "    \n",
    "    if accuracy_valid > best_accuracy:\n",
    "            best_model = model_DecisionTreeClassifier_ups\n",
    "            best_accuracy = accuracy_valid\n",
    "            best_depth = depth\n",
    "            best_f1 = f1_valid\n",
    "            best_auc_roc = auc_roc_valid\n",
    "            \n",
    "print(\"Глубина дерева =\", best_depth)\n",
    "\n",
    "print('Доля правильных ответов (Accuracy) наилучшей модели на валидационной выборке:','{:.4f}'.format(best_accuracy))\n",
    "\n",
    "print('F1-мера модели на валидационной выборке:', '{:.4f}'.format(best_f1))\n",
    "print('Auc_Roc модели на валидационной выборке:', '{:.4f}'.format(best_auc_roc))"
   ]
  },
  {
   "cell_type": "code",
   "execution_count": null,
   "metadata": {},
   "outputs": [],
   "source": [
    "# Построим ROC- кривую:\n",
    "model = DecisionTreeClassifier(max_depth= 17,random_state=12345)# создаем объект (модель) импортируемой структуры данных\n",
    "model = model.fit(features_train, target_train)\n",
    "probabilities_valid= model.predict_proba(features_valid)\n",
    "probabilities_one_valid = probabilities_valid[:, 1]\n",
    "\n",
    "fpr, tpr, thresholds = roc_curve(target_valid, probabilities_one_valid)\n",
    "\n",
    "plt.figure()\n",
    "plt.plot(fpr, tpr)\n",
    "\n",
    "# ROC-кривая случайной модели\n",
    "plt.plot([0, 1], [0, 1], linestyle='--')\n",
    "plt.xlim([0.0, 1.0])\n",
    "plt.ylim([0.0, 1.0])\n",
    "plt.xlabel('False Positive Rate')\n",
    "plt.ylabel('True Positive Rate')\n",
    "plt.title('ROC-кривая')\n",
    "plt.show()"
   ]
  },
  {
   "cell_type": "markdown",
   "metadata": {},
   "source": [
    "Нужного нам значения метрика f1 пока не достигла"
   ]
  },
  {
   "cell_type": "code",
   "execution_count": null,
   "metadata": {},
   "outputs": [],
   "source": [
    "#Обучим модель решающего дерева на Уменьшенных данных"
   ]
  },
  {
   "cell_type": "code",
   "execution_count": null,
   "metadata": {},
   "outputs": [],
   "source": [
    "#решающее дерево\n",
    "best_model = None\n",
    "best_accuracy = 0\n",
    "best_depth = 0\n",
    "accuracy_train_plot = []\n",
    "accuracy_valid_plot = []\n",
    "best_f1 = 0\n",
    "\n",
    "best_auc_roc = 0\n",
    "\n",
    "for depth in range(1,60):  # цикл для max_depth от 1 до 10 \n",
    "    model = DecisionTreeClassifier(max_depth= depth,random_state=12345)# создаем объект (модель) импортируемой структуры данных\n",
    "    model_DecisionTreeClassifier_dws = model.fit(features_downsampled,target_downsampled) # обучим модель, используя ранее выделенную обучающую выборку\n",
    "    predictions_train_DTC_dws = model_DecisionTreeClassifier_dws.predict(features_train)\n",
    "    accuracy_train = accuracy_score(target_train, predictions_train_DTC_dws)\n",
    "    accuracy_train_plot.append(accuracy_train)\n",
    "    \n",
    "    predictions_valid_DTC_dws = model_DecisionTreeClassifier_dws.predict(features_valid)# находим предсказания на валидационной выборке \n",
    "    accuracy_valid = accuracy_score(target_valid, predictions_valid_DTC_dws)\n",
    "    accuracy_valid_plot.append(accuracy_valid)\n",
    "    \n",
    "    f1_valid = f1_score(target_valid, predictions_valid_DTC_dws)\n",
    "    \n",
    "\n",
    "    probabilities_valid_DTC_dws = model_DecisionTreeClassifier_dws.predict_proba(features_valid)\n",
    "    probabilities_one_valid = probabilities_valid_DTC_dws[:, 1]\n",
    "\n",
    "    auc_roc_valid = roc_auc_score(target_valid,probabilities_one_valid)\n",
    "    \n",
    "    if accuracy_valid > best_accuracy:\n",
    "            best_model = model_DecisionTreeClassifier_dws\n",
    "            best_accuracy = accuracy_valid\n",
    "            best_depth = depth\n",
    "            best_f1 = f1_valid\n",
    "            \n",
    "            best_auc_roc = auc_roc_valid\n",
    "            \n",
    "print(\"Глубина дерева =\", best_depth)\n",
    "\n",
    "print('Доля правильных ответов (Accuracy) наилучшей модели на валидационной выборке:','{:.4f}'.format(best_accuracy))\n",
    "\n",
    "print('F1-мера модели на валидационной выборке:', '{:.4f}'.format(best_f1))\n",
    "print('Auc_Roc модели на валидационной выборке:', '{:.4f}'.format(best_auc_roc))"
   ]
  },
  {
   "cell_type": "markdown",
   "metadata": {},
   "source": [
    "Метрика F1 увеличилась и стала ближе к требуемому значению, но все еще низкая"
   ]
  },
  {
   "cell_type": "code",
   "execution_count": null,
   "metadata": {},
   "outputs": [],
   "source": [
    "# Построим ROC- кривую:\n",
    "model = DecisionTreeClassifier(max_depth= 6,random_state=12345)# создаем объект (модель) импортируемой структуры данных\n",
    "model = model.fit(features_train, target_train)\n",
    "probabilities_valid= model.predict_proba(features_valid)\n",
    "probabilities_one_valid = probabilities_valid[:, 1]\n",
    "\n",
    "fpr, tpr, thresholds = roc_curve(target_valid, probabilities_one_valid)\n",
    "\n",
    "plt.figure()\n",
    "plt.plot(fpr, tpr)\n",
    "\n",
    "# ROC-кривая случайной модели\n",
    "plt.plot([0, 1], [0, 1], linestyle='--')\n",
    "plt.xlim([0.0, 1.0])\n",
    "plt.ylim([0.0, 1.0])\n",
    "plt.xlabel('False Positive Rate')\n",
    "plt.ylabel('True Positive Rate')\n",
    "plt.title('ROC-кривая')\n",
    "plt.show()"
   ]
  },
  {
   "cell_type": "markdown",
   "metadata": {},
   "source": [
    "#### Случайный лес"
   ]
  },
  {
   "cell_type": "code",
   "execution_count": null,
   "metadata": {},
   "outputs": [],
   "source": [
    "#Обучим модель случайного леса на уменьшенных обучающих данных\n",
    "#model_RandomForestClassifier_dws = RandomForestClassifier(random_state=12345)\n",
    "#parametrs = { 'n_estimators': range (11, 150, 10),\n",
    "#              'max_depth': range (4,15, 1)\n",
    "#            }\n",
    "#model_RandomForestClassifier_dws = GridSearchCV(model_RandomForestClassifier_dws, parametrs, cv=3)\n",
    "#model_RandomForestClassifier_dws.fit(features_downsampled,target_downsampled)\n",
    "\n",
    "#predictions_RandomForestClassifier_dws = model_RandomForestClassifier_dws.best_estimator_.predict(features_valid)\n",
    "# Метрики:\n",
    "#accuracy_model_RandomForestClassifier_dws = accuracy_score(target_valid, predictions_RandomForestClassifier_dws)\n",
    "\n",
    "#f1_model_RandomForestClassifier_dws = f1_score(target_valid, predictions_RandomForestClassifier_dws)\n",
    "\n",
    "#probabilities_valid_RFC_dws = model_RandomForestClassifier_dws.predict_proba(features_valid)\n",
    "#probabilities_one_valid = probabilities_valid_RFC_dws[:, 1]\n",
    "\n",
    "#auc_roc_model_RandomForestClassifier_dws = roc_auc_score(target_valid,probabilities_one_valid)\n",
    "#print('Доля правильных ответов (Accuracy) модели на валидационной выборке:', '{:.4f}'.format(accuracy_model_RandomForestClassifier_dws))\n",
    "\n",
    "#print('F1-мера модели на валидационной выборке:', '{:.4f}'.format(f1_model_RandomForestClassifier_dws))\n",
    "#print('Auc_Roc модели на валидационной выборке:', '{:.4f}'.format(auc_roc_model_RandomForestClassifier_dws))"
   ]
  },
  {
   "cell_type": "markdown",
   "metadata": {},
   "source": [
    "F1-мера близка к требуемому значению, но все еще не такая, как нам нужно"
   ]
  },
  {
   "cell_type": "code",
   "execution_count": null,
   "metadata": {},
   "outputs": [],
   "source": [
    "#print('Лучшая по гиперпараметрам модель:', model_RandomForestClassifier_dws.best_estimator_)"
   ]
  },
  {
   "cell_type": "code",
   "execution_count": null,
   "metadata": {},
   "outputs": [],
   "source": [
    "# Построим ROC- кривую:\n",
    "#model = RandomForestClassifier(max_depth=12, n_estimators=91, random_state=12345)\n",
    "#model = model.fit(features_downsampled,target_downsampled) \n",
    "#probabilities_valid= model.predict_proba(features_valid)\n",
    "#probabilities_one_valid = probabilities_valid[:, 1]\n",
    "\n",
    "#fpr, tpr, thresholds = roc_curve(target_valid, probabilities_one_valid)\n",
    "\n",
    "#plt.figure()\n",
    "#plt.plot(fpr, tpr)\n",
    "\n",
    "# ROC-кривая случайной модели\n",
    "#plt.plot([0, 1], [0, 1], linestyle='--')\n",
    "#plt.xlim([0.0, 1.0])\n",
    "#plt.ylim([0.0, 1.0])\n",
    "#plt.xlabel('False Positive Rate')\n",
    "#plt.ylabel('True Positive Rate')\n",
    "#plt.title('ROC-кривая')\n",
    "#plt.show()\n"
   ]
  },
  {
   "cell_type": "code",
   "execution_count": null,
   "metadata": {},
   "outputs": [],
   "source": [
    "#Обучим модель случайного леса на увеличенных обучающих данных\n",
    "#model_RandomForestClassifier_ups = RandomForestClassifier(random_state=12345)\n",
    "#parametrs = { 'n_estimators': range (1, 50, 1),\n",
    "#              'max_depth': range (1,20, 1)\n",
    "#            }\n",
    "#model_RandomForestClassifier_ups = GridSearchCV(model_RandomForestClassifier_ups, parametrs, cv=3)\n",
    "#model_RandomForestClassifier_ups.fit(features_upsampled,target_upsampled)\n",
    "\n",
    "#predictions_RandomForestClassifier_ups = model_RandomForestClassifier_ups.best_estimator_.predict(features_valid)\n",
    "# Метрики:\n",
    "#accuracy_model_RandomForestClassifier_ups = accuracy_score(target_valid, predictions_RandomForestClassifier_ups)\n",
    "\n",
    "#f1_model_RandomForestClassifier_ups = f1_score(target_valid, predictions_RandomForestClassifier_ups)\n",
    "\n",
    "#probabilities_valid_RFC_ups = model_RandomForestClassifier_ups.predict_proba(features_valid)\n",
    "#probabilities_one_valid = probabilities_valid_RFC_ups[:, 1]\n",
    "\n",
    "#auc_roc_model_RandomForestClassifier_ups = roc_auc_score(target_valid,probabilities_one_valid)\n",
    "#print('Доля правильных ответов (Accuracy) модели на валидационной выборке:', '{:.4f}'.format(accuracy_model_RandomForestClassifier_ups))\n",
    "\n",
    "#print('F1-мера модели на валидационной выборке:', '{:.4f}'.format(f1_model_RandomForestClassifier_ups))\n",
    "#print('Auc_Roc модели на валидационной выборке:', '{:.4f}'.format(auc_roc_model_RandomForestClassifier_ups))"
   ]
  },
  {
   "cell_type": "markdown",
   "metadata": {},
   "source": [
    "Метрика F1 превысила необходимо по ТЗ значение в 0.59. Мы достигли нужного нам результата. (F1=0.6031)"
   ]
  },
  {
   "cell_type": "code",
   "execution_count": null,
   "metadata": {},
   "outputs": [],
   "source": [
    "#print('Лучшая по гиперпараметрам модель:', model_RandomForestClassifier_ups.best_estimator_)"
   ]
  },
  {
   "cell_type": "code",
   "execution_count": null,
   "metadata": {},
   "outputs": [],
   "source": [
    "# Построим ROC- кривую:\n",
    "#model = RandomForestClassifier(max_depth=18, n_estimators=49, random_state=12345)\n",
    "#model_RFC = model.fit(features_upsampled,target_upsampled) \n",
    "#probabilities_valid= model.predict_proba(features_valid)\n",
    "#probabilities_one_valid = probabilities_valid[:, 1]\n",
    "\n",
    "#fpr, tpr, thresholds = roc_curve(target_valid, probabilities_one_valid)\n",
    "\n",
    "#plt.figure()\n",
    "#plt.plot(fpr, tpr)\n",
    "\n",
    "# ROC-кривая случайной модели\n",
    "#plt.plot([0, 1], [0, 1], linestyle='--')\n",
    "#plt.xlim([0.0, 1.0])\n",
    "#plt.ylim([0.0, 1.0])\n",
    "#plt.xlabel('False Positive Rate')\n",
    "#plt.ylabel('True Positive Rate')\n",
    "#plt.title('ROC-кривая')\n",
    "#plt.show()"
   ]
  },
  {
   "cell_type": "markdown",
   "metadata": {},
   "source": [
    "#### Вывод\n",
    "Итак, в результате борьбы с дисбалансом лучшей оказалась модель Случайного леса. Причем показала она хорошие результаты на валидационной выборке и при взвешивании классов и при обучении на увеличенной обучающей выборке - увеличенном количестве объектов меньшего класса с помощью функции upsampling.\n",
    "Значение метрики F1 незначительно, но выше при обучении Случайного леса на увеличенной обучающей выборке, поэтому именно на этой модели мы остановимся и протестируем ее на тестовой выборке"
   ]
  },
  {
   "cell_type": "markdown",
   "metadata": {},
   "source": [
    "## Тестирование модели"
   ]
  },
  {
   "cell_type": "markdown",
   "metadata": {},
   "source": [
    "В ходе исследования наиболее эффективной себя показала модель случайного леса,обученная на увеличенной выборке\n",
    "с параметрами максимальной глубины 18 и количеством деревьев 49\n",
    "(max_depth=18, n_estimators=49)\n",
    "Имеено на данную модель протестируем с использованием тестовой выборки:"
   ]
  },
  {
   "cell_type": "code",
   "execution_count": null,
   "metadata": {},
   "outputs": [],
   "source": [
    "#model = RandomForestClassifier(max_depth=18, n_estimators=49, random_state=12345)\n",
    "#model_test = model.fit(features_upsampled,target_upsampled)\n",
    "#predictions_test = model_test.predict(features_test)\n",
    "#accuracy_test = accuracy_score(target_test, predictions_test)\n",
    "#f1_test = f1_score(target_test, predictions_test)\n",
    "\n",
    "#probabilities_test = model_test.predict_proba(features_test)\n",
    "#probabilities_one_test = probabilities_test[:, 1]\n",
    "\n",
    "#auc_roc_test = roc_auc_score(target_test,probabilities_one_test)\n",
    "#print('Доля правильных ответов (Accuracy) модели на тестовой выборке:', '{:.4f}'.format(accuracy_test))\n",
    "\n",
    "#print('F1-мера модели на тестовой выборке:', '{:.4f}'.format(f1_test))\n",
    "#print('Auc_Roc модели на тестовой выборке:', '{:.4f}'.format(auc_roc_test))"
   ]
  },
  {
   "cell_type": "markdown",
   "metadata": {},
   "source": [
    "Итак, на тестовой выборке наша модель дает F1>0.59, что соотвествует ТЗ данного проекта."
   ]
  },
  {
   "cell_type": "markdown",
   "metadata": {},
   "source": [
    "Для проверки адекватности модели воспользуемся сравнением с простейшей моделью DummyClassifier"
   ]
  },
  {
   "cell_type": "code",
   "execution_count": null,
   "metadata": {},
   "outputs": [],
   "source": [
    "dummy_clf = DummyClassifier(strategy=\"most_frequent\", random_state=0)\n",
    "dummy_clf = dummy_clf.fit(features_upsampled,target_upsampled)\n",
    "accuracy = dummy_clf.score(features_test,  target_test)\n",
    "predict = dummy_clf.predict(features_test)\n",
    "f1 = f1_score(target_test, predict)\n",
    "\n",
    "print('Доля правильных ответов (Accuracy) модели на валидационной выборке:', '{:.4f}'.format(accuracy))\n",
    "\n",
    "print('F1-мера модели на валидационной выборке:', '{:.4f}'.format(f1))\n"
   ]
  },
  {
   "cell_type": "markdown",
   "metadata": {},
   "source": [
    "Проверка на адекватность показала,что результат работы обученной модели лучше случайных результатов."
   ]
  },
  {
   "cell_type": "markdown",
   "metadata": {},
   "source": [
    "### Общий вывод:\n",
    "В ходе нашей работы мы подготовили данные датасета и провели исследование, в ходе которого выявили дисбаланс классов. Класс \"0\" примерно в 4 раза больше класса \"1\".\n",
    "\n",
    "Далее рассмотрели три модели (Решающее дерево, Случайный лес и Логистическую регрессию) и обучили их без учета дисбаланса.\n",
    "Полученные метрики F1 были меньше необходимого по ТЗ проекта значения (0.59)\n",
    "\n",
    "На следующем этапе работы мы попытались улучшить качество моделей, учитывая дисбаланс классов.\n",
    "Для борьбы с дисбалансом использовалось несколько методов:\n",
    "\n",
    "1. Взвешивание классов\n",
    "2. Увеличение числа обектов обучающей выборки меньшего класса с помощью функции upsampling\n",
    "3. Уменьшение числа объектов обучающей выборки большего класса с помощью функции downsampling \n",
    "\n",
    "В результате борьбы с дисбалансом лучшей оказалась модель Случайного леса. Причем показала она хорошие результаты на валидационной выборке и при взвешивании классов и при обучении на увеличенной обучающей выборке - увеличенном количестве объектов меньшего класса с помощью функции upsampling. Значение метрики F1 (0.6031) незначительно, но выше при обучении Случайного леса на увеличенной обучающей выборке, поэтому именно на этой модели (с параметрами максимальной глубины 19 и количеством деревьев 40 (max_depth=19, n_estimators=40)) мы остановились и протестировали ее на тестовой выборке.\n",
    "\n",
    "На тестовой выборке наша модель дала F1=0.6079  (было до правок 0.5916), что больше 0.59 и соотвествует ТЗ данного проекта.\n",
    "\n",
    "Проверка модели на адекватность показала,что результат работы обученной модели лучше случайных результатов."
   ]
  },
  {
   "cell_type": "markdown",
   "metadata": {},
   "source": [
    "## Чек-лист готовности проекта"
   ]
  },
  {
   "cell_type": "markdown",
   "metadata": {},
   "source": [
    "Поставьте 'x' в выполненных пунктах. Далее нажмите Shift+Enter."
   ]
  },
  {
   "cell_type": "markdown",
   "metadata": {},
   "source": [
    "- [x]  Jupyter Notebook открыт\n",
    "- [x]  Весь код выполняется без ошибок\n",
    "- [x]  Ячейки с кодом расположены в порядке исполнения\n",
    "- [х]  Выполнен шаг 1: данные подготовлены\n",
    "- [х]  Выполнен шаг 2: задача исследована\n",
    "    - [х]  Исследован баланс классов\n",
    "    - [х]  Изучены модели без учёта дисбаланса\n",
    "    - [х]  Написаны выводы по результатам исследования\n",
    "- [х]  Выполнен шаг 3: учтён дисбаланс\n",
    "    - [х]  Применено несколько способов борьбы с дисбалансом\n",
    "    - [х]  Написаны выводы по результатам исследования\n",
    "- [х]  Выполнен шаг 4: проведено тестирование\n",
    "- [х]  Удалось достичь *F1*-меры не менее 0.59\n",
    "- [х]  Исследована метрика *AUC-ROC*"
   ]
  }
 ],
 "metadata": {
  "ExecuteTimeLog": [
   {
    "duration": 1166,
    "start_time": "2022-11-22T08:33:59.495Z"
   },
   {
    "duration": 164,
    "start_time": "2022-11-22T08:34:00.663Z"
   },
   {
    "duration": 75,
    "start_time": "2022-11-22T08:39:55.074Z"
   },
   {
    "duration": 1297,
    "start_time": "2022-11-24T08:28:59.900Z"
   },
   {
    "duration": 114,
    "start_time": "2022-11-24T08:29:01.199Z"
   },
   {
    "duration": 154,
    "start_time": "2022-11-24T08:29:01.314Z"
   },
   {
    "duration": 46,
    "start_time": "2022-11-24T08:29:22.568Z"
   },
   {
    "duration": 9,
    "start_time": "2022-11-24T08:31:56.476Z"
   },
   {
    "duration": 10,
    "start_time": "2022-11-24T08:40:01.498Z"
   },
   {
    "duration": 19,
    "start_time": "2022-11-24T08:42:36.294Z"
   },
   {
    "duration": 1106,
    "start_time": "2022-11-27T11:14:49.786Z"
   },
   {
    "duration": 186,
    "start_time": "2022-11-27T11:14:50.894Z"
   },
   {
    "duration": 7,
    "start_time": "2022-11-27T11:14:51.082Z"
   },
   {
    "duration": 11,
    "start_time": "2022-11-27T11:14:51.091Z"
   },
   {
    "duration": 15,
    "start_time": "2022-11-27T11:14:51.104Z"
   },
   {
    "duration": 3,
    "start_time": "2022-11-27T11:29:44.341Z"
   },
   {
    "duration": 57,
    "start_time": "2022-11-27T11:29:44.346Z"
   },
   {
    "duration": 6,
    "start_time": "2022-11-27T11:29:44.404Z"
   },
   {
    "duration": 12,
    "start_time": "2022-11-27T11:29:44.412Z"
   },
   {
    "duration": 12,
    "start_time": "2022-11-27T11:29:44.426Z"
   },
   {
    "duration": 106,
    "start_time": "2022-11-27T11:29:44.440Z"
   },
   {
    "duration": 472,
    "start_time": "2022-11-27T11:30:25.397Z"
   },
   {
    "duration": 58,
    "start_time": "2022-11-27T11:30:25.871Z"
   },
   {
    "duration": 6,
    "start_time": "2022-11-27T11:30:25.930Z"
   },
   {
    "duration": 18,
    "start_time": "2022-11-27T11:30:25.938Z"
   },
   {
    "duration": 12,
    "start_time": "2022-11-27T11:30:25.957Z"
   },
   {
    "duration": 53634,
    "start_time": "2022-11-27T11:30:25.970Z"
   },
   {
    "duration": 1075,
    "start_time": "2022-11-27T11:38:23.593Z"
   },
   {
    "duration": 4,
    "start_time": "2022-11-27T11:43:35.830Z"
   },
   {
    "duration": 21,
    "start_time": "2022-11-27T11:44:19.811Z"
   },
   {
    "duration": 5,
    "start_time": "2022-11-27T11:44:27.346Z"
   },
   {
    "duration": 9,
    "start_time": "2022-11-27T11:47:19.377Z"
   },
   {
    "duration": 14,
    "start_time": "2022-11-27T11:50:34.442Z"
   },
   {
    "duration": 4,
    "start_time": "2022-11-27T11:55:34.894Z"
   },
   {
    "duration": 14,
    "start_time": "2022-11-27T11:56:18.370Z"
   },
   {
    "duration": 191,
    "start_time": "2022-11-27T16:35:48.843Z"
   },
   {
    "duration": 4,
    "start_time": "2022-11-27T16:36:01.160Z"
   },
   {
    "duration": 139,
    "start_time": "2022-11-27T16:36:01.166Z"
   },
   {
    "duration": 10,
    "start_time": "2022-11-27T16:36:01.310Z"
   },
   {
    "duration": 28,
    "start_time": "2022-11-27T16:36:01.322Z"
   },
   {
    "duration": 20,
    "start_time": "2022-11-27T16:36:01.352Z"
   },
   {
    "duration": 69325,
    "start_time": "2022-11-27T16:36:01.373Z"
   },
   {
    "duration": 1062,
    "start_time": "2022-11-27T16:37:10.700Z"
   },
   {
    "duration": 4,
    "start_time": "2022-11-27T16:37:11.764Z"
   },
   {
    "duration": 53,
    "start_time": "2022-11-27T16:37:11.769Z"
   },
   {
    "duration": 20,
    "start_time": "2022-11-27T16:37:11.824Z"
   },
   {
    "duration": 2,
    "start_time": "2022-11-27T16:37:11.846Z"
   },
   {
    "duration": 186,
    "start_time": "2022-11-27T16:37:11.849Z"
   },
   {
    "duration": 15,
    "start_time": "2022-11-27T16:37:12.037Z"
   },
   {
    "duration": 28,
    "start_time": "2022-11-27T16:48:19.224Z"
   },
   {
    "duration": 8,
    "start_time": "2022-11-27T16:55:20.058Z"
   },
   {
    "duration": 5,
    "start_time": "2022-11-27T16:56:22.717Z"
   },
   {
    "duration": 5,
    "start_time": "2022-11-27T16:56:34.694Z"
   },
   {
    "duration": 11,
    "start_time": "2022-11-27T16:56:42.520Z"
   },
   {
    "duration": 20,
    "start_time": "2022-11-27T17:04:21.093Z"
   },
   {
    "duration": 18,
    "start_time": "2022-11-27T17:04:35.916Z"
   },
   {
    "duration": 19,
    "start_time": "2022-11-27T17:05:25.479Z"
   },
   {
    "duration": 17,
    "start_time": "2022-11-27T17:06:11.316Z"
   },
   {
    "duration": 4,
    "start_time": "2022-11-27T17:07:17.268Z"
   },
   {
    "duration": 5,
    "start_time": "2022-11-27T17:12:09.067Z"
   },
   {
    "duration": 4,
    "start_time": "2022-11-27T17:23:35.956Z"
   },
   {
    "duration": 11,
    "start_time": "2022-11-27T17:23:37.165Z"
   },
   {
    "duration": 5,
    "start_time": "2022-11-27T17:23:39.149Z"
   },
   {
    "duration": 4,
    "start_time": "2022-11-27T17:27:56.894Z"
   },
   {
    "duration": 16,
    "start_time": "2022-11-27T17:35:08.822Z"
   },
   {
    "duration": 5,
    "start_time": "2022-11-27T17:35:36.915Z"
   },
   {
    "duration": 71,
    "start_time": "2022-11-27T17:35:36.923Z"
   },
   {
    "duration": 7,
    "start_time": "2022-11-27T17:35:36.996Z"
   },
   {
    "duration": 14,
    "start_time": "2022-11-27T17:35:37.005Z"
   },
   {
    "duration": 11,
    "start_time": "2022-11-27T17:35:37.020Z"
   },
   {
    "duration": 57191,
    "start_time": "2022-11-27T17:35:37.032Z"
   },
   {
    "duration": 931,
    "start_time": "2022-11-27T17:36:34.226Z"
   },
   {
    "duration": 5,
    "start_time": "2022-11-27T17:36:35.160Z"
   },
   {
    "duration": 11,
    "start_time": "2022-11-27T17:36:35.177Z"
   },
   {
    "duration": 17,
    "start_time": "2022-11-27T17:36:35.190Z"
   },
   {
    "duration": 8,
    "start_time": "2022-11-27T17:36:35.210Z"
   },
   {
    "duration": 10,
    "start_time": "2022-11-27T17:36:35.220Z"
   },
   {
    "duration": 15,
    "start_time": "2022-11-27T17:36:35.232Z"
   },
   {
    "duration": 45,
    "start_time": "2022-11-27T17:36:35.249Z"
   },
   {
    "duration": 4,
    "start_time": "2022-11-27T17:36:35.295Z"
   },
   {
    "duration": 7,
    "start_time": "2022-11-27T17:36:35.301Z"
   },
   {
    "duration": 21,
    "start_time": "2022-11-27T17:36:35.310Z"
   },
   {
    "duration": 6,
    "start_time": "2022-11-27T17:36:35.333Z"
   },
   {
    "duration": 38,
    "start_time": "2022-11-27T17:36:35.341Z"
   },
   {
    "duration": 11,
    "start_time": "2022-11-27T17:43:35.201Z"
   },
   {
    "duration": 15,
    "start_time": "2022-11-27T17:44:48.908Z"
   },
   {
    "duration": 14,
    "start_time": "2022-11-27T17:47:42.049Z"
   },
   {
    "duration": 3,
    "start_time": "2022-11-27T17:48:09.307Z"
   },
   {
    "duration": 26,
    "start_time": "2022-11-27T17:48:11.965Z"
   },
   {
    "duration": 10,
    "start_time": "2022-11-27T17:49:18.559Z"
   },
   {
    "duration": 12,
    "start_time": "2022-11-27T17:49:44.204Z"
   },
   {
    "duration": 7,
    "start_time": "2022-11-27T17:58:45.553Z"
   },
   {
    "duration": 118,
    "start_time": "2022-11-27T18:00:28.974Z"
   },
   {
    "duration": 112,
    "start_time": "2022-11-27T18:00:58.801Z"
   },
   {
    "duration": 81,
    "start_time": "2022-11-28T09:54:40.091Z"
   },
   {
    "duration": 4,
    "start_time": "2022-11-28T09:55:05.825Z"
   },
   {
    "duration": 69,
    "start_time": "2022-11-28T09:55:05.832Z"
   },
   {
    "duration": 7,
    "start_time": "2022-11-28T09:55:05.903Z"
   },
   {
    "duration": 12,
    "start_time": "2022-11-28T09:55:05.912Z"
   },
   {
    "duration": 17,
    "start_time": "2022-11-28T09:55:05.926Z"
   },
   {
    "duration": 58033,
    "start_time": "2022-11-28T09:55:05.945Z"
   },
   {
    "duration": 1077,
    "start_time": "2022-11-28T09:56:03.981Z"
   },
   {
    "duration": 5,
    "start_time": "2022-11-28T09:56:05.060Z"
   },
   {
    "duration": 8,
    "start_time": "2022-11-28T09:56:05.077Z"
   },
   {
    "duration": 21,
    "start_time": "2022-11-28T09:56:05.087Z"
   },
   {
    "duration": 19,
    "start_time": "2022-11-28T09:56:05.110Z"
   },
   {
    "duration": 9,
    "start_time": "2022-11-28T09:56:05.131Z"
   },
   {
    "duration": 39,
    "start_time": "2022-11-28T09:56:05.143Z"
   },
   {
    "duration": 23,
    "start_time": "2022-11-28T09:56:05.184Z"
   },
   {
    "duration": 4,
    "start_time": "2022-11-28T09:56:05.209Z"
   },
   {
    "duration": 18,
    "start_time": "2022-11-28T09:56:05.215Z"
   },
   {
    "duration": 5,
    "start_time": "2022-11-28T09:56:05.235Z"
   },
   {
    "duration": 55,
    "start_time": "2022-11-28T09:56:05.243Z"
   },
   {
    "duration": 10,
    "start_time": "2022-11-28T09:56:05.299Z"
   },
   {
    "duration": 8,
    "start_time": "2022-11-28T09:56:05.311Z"
   },
   {
    "duration": 38,
    "start_time": "2022-11-28T09:56:05.321Z"
   },
   {
    "duration": 173,
    "start_time": "2022-11-28T09:56:05.361Z"
   },
   {
    "duration": 79,
    "start_time": "2022-11-28T09:56:05.536Z"
   },
   {
    "duration": 5,
    "start_time": "2022-11-28T10:55:54.276Z"
   },
   {
    "duration": 107,
    "start_time": "2022-11-28T10:55:54.282Z"
   },
   {
    "duration": 8,
    "start_time": "2022-11-28T10:55:54.391Z"
   },
   {
    "duration": 25,
    "start_time": "2022-11-28T10:55:54.401Z"
   },
   {
    "duration": 70,
    "start_time": "2022-11-28T10:55:54.428Z"
   },
   {
    "duration": 65239,
    "start_time": "2022-11-28T10:55:54.500Z"
   },
   {
    "duration": 1154,
    "start_time": "2022-11-28T10:56:59.742Z"
   },
   {
    "duration": 6,
    "start_time": "2022-11-28T10:57:00.897Z"
   },
   {
    "duration": 43,
    "start_time": "2022-11-28T10:57:00.905Z"
   },
   {
    "duration": 67,
    "start_time": "2022-11-28T10:57:00.950Z"
   },
   {
    "duration": 35,
    "start_time": "2022-11-28T10:57:01.019Z"
   },
   {
    "duration": 56,
    "start_time": "2022-11-28T10:57:01.056Z"
   },
   {
    "duration": 46,
    "start_time": "2022-11-28T10:57:01.116Z"
   },
   {
    "duration": 65,
    "start_time": "2022-11-28T10:57:01.164Z"
   },
   {
    "duration": 37,
    "start_time": "2022-11-28T10:57:01.231Z"
   },
   {
    "duration": 45,
    "start_time": "2022-11-28T10:57:01.269Z"
   },
   {
    "duration": 8,
    "start_time": "2022-11-28T10:57:01.315Z"
   },
   {
    "duration": 65,
    "start_time": "2022-11-28T10:57:01.325Z"
   },
   {
    "duration": 45,
    "start_time": "2022-11-28T10:57:01.392Z"
   },
   {
    "duration": 16,
    "start_time": "2022-11-28T10:57:01.439Z"
   },
   {
    "duration": 48,
    "start_time": "2022-11-28T10:57:01.457Z"
   },
   {
    "duration": 151,
    "start_time": "2022-11-28T10:57:01.507Z"
   },
   {
    "duration": 94,
    "start_time": "2022-11-28T10:57:01.660Z"
   },
   {
    "duration": 4,
    "start_time": "2022-11-28T11:08:46.464Z"
   },
   {
    "duration": 74,
    "start_time": "2022-11-28T11:08:46.470Z"
   },
   {
    "duration": 6,
    "start_time": "2022-11-28T11:08:46.546Z"
   },
   {
    "duration": 16,
    "start_time": "2022-11-28T11:08:46.554Z"
   },
   {
    "duration": 24,
    "start_time": "2022-11-28T11:08:46.572Z"
   },
   {
    "duration": 66763,
    "start_time": "2022-11-28T11:08:46.598Z"
   },
   {
    "duration": 1084,
    "start_time": "2022-11-28T11:09:53.363Z"
   },
   {
    "duration": 4,
    "start_time": "2022-11-28T11:09:54.450Z"
   },
   {
    "duration": 46,
    "start_time": "2022-11-28T11:09:54.456Z"
   },
   {
    "duration": 18,
    "start_time": "2022-11-28T11:09:54.504Z"
   },
   {
    "duration": 6,
    "start_time": "2022-11-28T11:09:54.523Z"
   },
   {
    "duration": 24,
    "start_time": "2022-11-28T11:09:54.531Z"
   },
   {
    "duration": 15,
    "start_time": "2022-11-28T11:09:54.558Z"
   },
   {
    "duration": 24,
    "start_time": "2022-11-28T11:09:54.575Z"
   },
   {
    "duration": 4,
    "start_time": "2022-11-28T11:09:54.601Z"
   },
   {
    "duration": 15,
    "start_time": "2022-11-28T11:09:54.607Z"
   },
   {
    "duration": 4,
    "start_time": "2022-11-28T11:09:54.624Z"
   },
   {
    "duration": 65,
    "start_time": "2022-11-28T11:09:54.630Z"
   },
   {
    "duration": 5,
    "start_time": "2022-11-28T11:09:54.697Z"
   },
   {
    "duration": 8,
    "start_time": "2022-11-28T11:09:54.704Z"
   },
   {
    "duration": 33,
    "start_time": "2022-11-28T11:09:54.714Z"
   },
   {
    "duration": 164,
    "start_time": "2022-11-28T11:09:54.748Z"
   },
   {
    "duration": 196,
    "start_time": "2022-11-28T11:09:54.914Z"
   },
   {
    "duration": 218,
    "start_time": "2022-11-28T11:09:55.112Z"
   },
   {
    "duration": 18,
    "start_time": "2022-11-28T11:13:20.044Z"
   },
   {
    "duration": 20245,
    "start_time": "2022-11-28T11:18:18.391Z"
   },
   {
    "duration": 3679,
    "start_time": "2022-11-28T11:20:35.021Z"
   },
   {
    "duration": 2400,
    "start_time": "2022-11-28T11:20:52.547Z"
   },
   {
    "duration": 3400,
    "start_time": "2022-11-28T11:21:15.396Z"
   },
   {
    "duration": 3337,
    "start_time": "2022-11-28T11:21:38.357Z"
   },
   {
    "duration": 3668,
    "start_time": "2022-11-28T11:22:00.527Z"
   },
   {
    "duration": 3401,
    "start_time": "2022-11-28T11:22:14.096Z"
   },
   {
    "duration": 4056,
    "start_time": "2022-11-28T11:22:31.962Z"
   },
   {
    "duration": 3491,
    "start_time": "2022-11-28T11:22:49.079Z"
   },
   {
    "duration": 10,
    "start_time": "2022-11-28T11:42:25.466Z"
   },
   {
    "duration": 5,
    "start_time": "2022-11-28T11:43:11.292Z"
   },
   {
    "duration": 4,
    "start_time": "2022-11-28T11:43:14.308Z"
   },
   {
    "duration": 10,
    "start_time": "2022-11-28T11:43:23.671Z"
   },
   {
    "duration": 11,
    "start_time": "2022-11-28T11:44:07.089Z"
   },
   {
    "duration": 14,
    "start_time": "2022-11-28T11:46:30.335Z"
   },
   {
    "duration": 5,
    "start_time": "2022-11-28T11:46:34.556Z"
   },
   {
    "duration": 91,
    "start_time": "2022-11-28T11:46:34.563Z"
   },
   {
    "duration": 7,
    "start_time": "2022-11-28T11:46:34.656Z"
   },
   {
    "duration": 20,
    "start_time": "2022-11-28T11:46:34.665Z"
   },
   {
    "duration": 22,
    "start_time": "2022-11-28T11:46:34.691Z"
   },
   {
    "duration": 70854,
    "start_time": "2022-11-28T11:46:34.715Z"
   },
   {
    "duration": 1019,
    "start_time": "2022-11-28T11:47:45.571Z"
   },
   {
    "duration": 6,
    "start_time": "2022-11-28T11:47:46.592Z"
   },
   {
    "duration": 12,
    "start_time": "2022-11-28T11:47:46.599Z"
   },
   {
    "duration": 15,
    "start_time": "2022-11-28T11:47:46.613Z"
   },
   {
    "duration": 6,
    "start_time": "2022-11-28T11:47:46.629Z"
   },
   {
    "duration": 9,
    "start_time": "2022-11-28T11:47:46.637Z"
   },
   {
    "duration": 43,
    "start_time": "2022-11-28T11:47:46.649Z"
   },
   {
    "duration": 18,
    "start_time": "2022-11-28T11:47:46.694Z"
   },
   {
    "duration": 16,
    "start_time": "2022-11-28T11:47:46.714Z"
   },
   {
    "duration": 15,
    "start_time": "2022-11-28T11:47:46.732Z"
   },
   {
    "duration": 20,
    "start_time": "2022-11-28T11:47:46.749Z"
   },
   {
    "duration": 37,
    "start_time": "2022-11-28T11:47:46.771Z"
   },
   {
    "duration": 20,
    "start_time": "2022-11-28T11:47:46.811Z"
   },
   {
    "duration": 37,
    "start_time": "2022-11-28T11:47:46.832Z"
   },
   {
    "duration": 63,
    "start_time": "2022-11-28T11:47:46.870Z"
   },
   {
    "duration": 189,
    "start_time": "2022-11-28T11:47:46.934Z"
   },
   {
    "duration": 181,
    "start_time": "2022-11-28T11:47:47.124Z"
   },
   {
    "duration": 217,
    "start_time": "2022-11-28T11:47:47.307Z"
   },
   {
    "duration": 3499,
    "start_time": "2022-11-28T11:47:47.526Z"
   },
   {
    "duration": 6,
    "start_time": "2022-11-28T11:47:51.027Z"
   },
   {
    "duration": 11,
    "start_time": "2022-11-28T11:47:51.035Z"
   },
   {
    "duration": 10,
    "start_time": "2022-11-28T11:58:22.892Z"
   },
   {
    "duration": 5,
    "start_time": "2022-11-28T11:58:28.156Z"
   },
   {
    "duration": 62,
    "start_time": "2022-11-28T11:58:28.163Z"
   },
   {
    "duration": 7,
    "start_time": "2022-11-28T11:58:28.226Z"
   },
   {
    "duration": 16,
    "start_time": "2022-11-28T11:58:28.234Z"
   },
   {
    "duration": 18,
    "start_time": "2022-11-28T11:58:28.252Z"
   },
   {
    "duration": 73880,
    "start_time": "2022-11-28T11:58:28.271Z"
   },
   {
    "duration": 1104,
    "start_time": "2022-11-28T11:59:42.153Z"
   },
   {
    "duration": 4,
    "start_time": "2022-11-28T11:59:43.259Z"
   },
   {
    "duration": 31,
    "start_time": "2022-11-28T11:59:43.265Z"
   },
   {
    "duration": 28,
    "start_time": "2022-11-28T11:59:43.298Z"
   },
   {
    "duration": 26,
    "start_time": "2022-11-28T11:59:43.330Z"
   },
   {
    "duration": 44,
    "start_time": "2022-11-28T11:59:43.358Z"
   },
   {
    "duration": 25,
    "start_time": "2022-11-28T11:59:43.404Z"
   },
   {
    "duration": 28,
    "start_time": "2022-11-28T11:59:43.432Z"
   },
   {
    "duration": 38,
    "start_time": "2022-11-28T11:59:43.462Z"
   },
   {
    "duration": 32,
    "start_time": "2022-11-28T11:59:43.502Z"
   },
   {
    "duration": 19,
    "start_time": "2022-11-28T11:59:43.536Z"
   },
   {
    "duration": 32,
    "start_time": "2022-11-28T11:59:43.557Z"
   },
   {
    "duration": 23,
    "start_time": "2022-11-28T11:59:43.590Z"
   },
   {
    "duration": 27,
    "start_time": "2022-11-28T11:59:43.614Z"
   },
   {
    "duration": 58,
    "start_time": "2022-11-28T11:59:43.643Z"
   },
   {
    "duration": 178,
    "start_time": "2022-11-28T11:59:43.703Z"
   },
   {
    "duration": 205,
    "start_time": "2022-11-28T11:59:43.894Z"
   },
   {
    "duration": 256,
    "start_time": "2022-11-28T11:59:44.102Z"
   },
   {
    "duration": 3700,
    "start_time": "2022-11-28T11:59:44.360Z"
   },
   {
    "duration": 17,
    "start_time": "2022-11-28T11:59:48.062Z"
   },
   {
    "duration": 13,
    "start_time": "2022-11-28T11:59:48.085Z"
   },
   {
    "duration": 14,
    "start_time": "2022-11-28T11:59:48.100Z"
   },
   {
    "duration": 7,
    "start_time": "2022-11-28T12:01:10.231Z"
   },
   {
    "duration": 11,
    "start_time": "2022-11-28T12:05:46.828Z"
   },
   {
    "duration": 5,
    "start_time": "2022-11-28T12:05:53.135Z"
   },
   {
    "duration": 76,
    "start_time": "2022-11-28T12:05:53.142Z"
   },
   {
    "duration": 7,
    "start_time": "2022-11-28T12:05:53.220Z"
   },
   {
    "duration": 13,
    "start_time": "2022-11-28T12:05:53.229Z"
   },
   {
    "duration": 20,
    "start_time": "2022-11-28T12:05:53.246Z"
   },
   {
    "duration": 77162,
    "start_time": "2022-11-28T12:05:53.267Z"
   },
   {
    "duration": 1059,
    "start_time": "2022-11-28T12:07:10.432Z"
   },
   {
    "duration": 5,
    "start_time": "2022-11-28T12:07:11.492Z"
   },
   {
    "duration": 9,
    "start_time": "2022-11-28T12:07:11.498Z"
   },
   {
    "duration": 16,
    "start_time": "2022-11-28T12:07:11.508Z"
   },
   {
    "duration": 6,
    "start_time": "2022-11-28T12:07:11.526Z"
   },
   {
    "duration": 11,
    "start_time": "2022-11-28T12:07:11.533Z"
   },
   {
    "duration": 47,
    "start_time": "2022-11-28T12:07:11.546Z"
   },
   {
    "duration": 17,
    "start_time": "2022-11-28T12:07:11.597Z"
   },
   {
    "duration": 5,
    "start_time": "2022-11-28T12:07:11.615Z"
   },
   {
    "duration": 13,
    "start_time": "2022-11-28T12:07:11.621Z"
   },
   {
    "duration": 4,
    "start_time": "2022-11-28T12:07:11.636Z"
   },
   {
    "duration": 41,
    "start_time": "2022-11-28T12:07:11.641Z"
   },
   {
    "duration": 6,
    "start_time": "2022-11-28T12:07:11.688Z"
   },
   {
    "duration": 9,
    "start_time": "2022-11-28T12:07:11.695Z"
   },
   {
    "duration": 41,
    "start_time": "2022-11-28T12:07:11.706Z"
   },
   {
    "duration": 172,
    "start_time": "2022-11-28T12:07:11.749Z"
   },
   {
    "duration": 172,
    "start_time": "2022-11-28T12:07:11.923Z"
   },
   {
    "duration": 220,
    "start_time": "2022-11-28T12:07:12.096Z"
   },
   {
    "duration": 3368,
    "start_time": "2022-11-28T12:07:12.318Z"
   },
   {
    "duration": 10,
    "start_time": "2022-11-28T12:07:15.689Z"
   },
   {
    "duration": 12,
    "start_time": "2022-11-28T12:07:15.701Z"
   },
   {
    "duration": 9,
    "start_time": "2022-11-28T12:07:15.714Z"
   },
   {
    "duration": 9,
    "start_time": "2022-11-28T12:07:15.725Z"
   },
   {
    "duration": 4,
    "start_time": "2022-11-29T09:50:05.404Z"
   },
   {
    "duration": 1690,
    "start_time": "2022-11-29T10:39:19.858Z"
   },
   {
    "duration": 189,
    "start_time": "2022-11-29T10:39:21.550Z"
   },
   {
    "duration": 7,
    "start_time": "2022-11-29T10:39:21.741Z"
   },
   {
    "duration": 9,
    "start_time": "2022-11-29T10:39:21.749Z"
   },
   {
    "duration": 12,
    "start_time": "2022-11-29T10:39:21.760Z"
   },
   {
    "duration": 59122,
    "start_time": "2022-11-29T10:39:21.774Z"
   },
   {
    "duration": 975,
    "start_time": "2022-11-29T10:40:20.898Z"
   },
   {
    "duration": 5,
    "start_time": "2022-11-29T10:40:21.874Z"
   },
   {
    "duration": 8,
    "start_time": "2022-11-29T10:40:21.881Z"
   },
   {
    "duration": 15,
    "start_time": "2022-11-29T10:40:21.892Z"
   },
   {
    "duration": 7,
    "start_time": "2022-11-29T10:40:21.908Z"
   },
   {
    "duration": 35,
    "start_time": "2022-11-29T10:40:21.917Z"
   },
   {
    "duration": 15,
    "start_time": "2022-11-29T10:40:21.953Z"
   },
   {
    "duration": 22,
    "start_time": "2022-11-29T10:40:21.970Z"
   },
   {
    "duration": 5,
    "start_time": "2022-11-29T10:40:21.994Z"
   },
   {
    "duration": 18,
    "start_time": "2022-11-29T10:40:22.001Z"
   },
   {
    "duration": 34,
    "start_time": "2022-11-29T10:40:22.020Z"
   },
   {
    "duration": 13,
    "start_time": "2022-11-29T10:40:22.055Z"
   },
   {
    "duration": 5,
    "start_time": "2022-11-29T10:40:22.070Z"
   },
   {
    "duration": 5,
    "start_time": "2022-11-29T10:40:22.077Z"
   },
   {
    "duration": 31,
    "start_time": "2022-11-29T10:40:22.084Z"
   },
   {
    "duration": 158,
    "start_time": "2022-11-29T10:40:22.117Z"
   },
   {
    "duration": 190,
    "start_time": "2022-11-29T10:40:22.277Z"
   },
   {
    "duration": 182,
    "start_time": "2022-11-29T10:40:22.469Z"
   },
   {
    "duration": 3466,
    "start_time": "2022-11-29T10:40:22.653Z"
   },
   {
    "duration": 6,
    "start_time": "2022-11-29T10:40:26.120Z"
   },
   {
    "duration": 26,
    "start_time": "2022-11-29T10:40:26.128Z"
   },
   {
    "duration": 8,
    "start_time": "2022-11-29T10:40:26.157Z"
   },
   {
    "duration": 12,
    "start_time": "2022-11-29T10:40:26.167Z"
   },
   {
    "duration": 10,
    "start_time": "2022-11-29T10:40:26.181Z"
   },
   {
    "duration": 7,
    "start_time": "2022-11-29T10:41:17.298Z"
   },
   {
    "duration": 120,
    "start_time": "2022-11-29T10:43:46.566Z"
   },
   {
    "duration": 5,
    "start_time": "2022-11-29T10:44:49.298Z"
   },
   {
    "duration": 63,
    "start_time": "2022-11-29T10:44:49.306Z"
   },
   {
    "duration": 6,
    "start_time": "2022-11-29T10:44:49.371Z"
   },
   {
    "duration": 10,
    "start_time": "2022-11-29T10:44:49.379Z"
   },
   {
    "duration": 14,
    "start_time": "2022-11-29T10:44:49.391Z"
   },
   {
    "duration": 60171,
    "start_time": "2022-11-29T10:44:49.406Z"
   },
   {
    "duration": 1035,
    "start_time": "2022-11-29T10:45:49.579Z"
   },
   {
    "duration": 5,
    "start_time": "2022-11-29T10:45:50.615Z"
   },
   {
    "duration": 9,
    "start_time": "2022-11-29T10:45:50.622Z"
   },
   {
    "duration": 31,
    "start_time": "2022-11-29T10:45:50.632Z"
   },
   {
    "duration": 6,
    "start_time": "2022-11-29T10:45:50.665Z"
   },
   {
    "duration": 8,
    "start_time": "2022-11-29T10:45:50.674Z"
   },
   {
    "duration": 15,
    "start_time": "2022-11-29T10:45:50.683Z"
   },
   {
    "duration": 18,
    "start_time": "2022-11-29T10:45:50.700Z"
   },
   {
    "duration": 33,
    "start_time": "2022-11-29T10:45:50.719Z"
   },
   {
    "duration": 13,
    "start_time": "2022-11-29T10:45:50.754Z"
   },
   {
    "duration": 5,
    "start_time": "2022-11-29T10:45:50.769Z"
   },
   {
    "duration": 20,
    "start_time": "2022-11-29T10:45:50.776Z"
   },
   {
    "duration": 8,
    "start_time": "2022-11-29T10:45:50.798Z"
   },
   {
    "duration": 4,
    "start_time": "2022-11-29T10:45:50.808Z"
   },
   {
    "duration": 54,
    "start_time": "2022-11-29T10:45:50.814Z"
   },
   {
    "duration": 139,
    "start_time": "2022-11-29T10:45:50.870Z"
   },
   {
    "duration": 193,
    "start_time": "2022-11-29T10:45:51.011Z"
   },
   {
    "duration": 179,
    "start_time": "2022-11-29T10:45:51.207Z"
   },
   {
    "duration": 3673,
    "start_time": "2022-11-29T10:45:51.387Z"
   },
   {
    "duration": 6,
    "start_time": "2022-11-29T10:45:55.062Z"
   },
   {
    "duration": 6,
    "start_time": "2022-11-29T10:45:55.069Z"
   },
   {
    "duration": 8,
    "start_time": "2022-11-29T10:45:55.077Z"
   },
   {
    "duration": 8,
    "start_time": "2022-11-29T10:45:55.087Z"
   },
   {
    "duration": 8,
    "start_time": "2022-11-29T10:45:55.097Z"
   },
   {
    "duration": 124,
    "start_time": "2022-11-29T10:57:01.335Z"
   },
   {
    "duration": 192,
    "start_time": "2022-11-29T10:57:49.561Z"
   },
   {
    "duration": 6,
    "start_time": "2022-11-29T10:57:53.141Z"
   },
   {
    "duration": 72,
    "start_time": "2022-11-29T10:57:53.149Z"
   },
   {
    "duration": 6,
    "start_time": "2022-11-29T10:57:53.223Z"
   },
   {
    "duration": 11,
    "start_time": "2022-11-29T10:57:53.231Z"
   },
   {
    "duration": 13,
    "start_time": "2022-11-29T10:57:53.245Z"
   },
   {
    "duration": 63389,
    "start_time": "2022-11-29T10:57:53.260Z"
   },
   {
    "duration": 1052,
    "start_time": "2022-11-29T10:58:56.651Z"
   },
   {
    "duration": 5,
    "start_time": "2022-11-29T10:58:57.704Z"
   },
   {
    "duration": 26,
    "start_time": "2022-11-29T10:58:57.711Z"
   },
   {
    "duration": 15,
    "start_time": "2022-11-29T10:58:57.739Z"
   },
   {
    "duration": 6,
    "start_time": "2022-11-29T10:58:57.755Z"
   },
   {
    "duration": 6,
    "start_time": "2022-11-29T10:58:57.762Z"
   },
   {
    "duration": 15,
    "start_time": "2022-11-29T10:58:57.770Z"
   },
   {
    "duration": 18,
    "start_time": "2022-11-29T10:58:57.788Z"
   },
   {
    "duration": 4,
    "start_time": "2022-11-29T10:58:57.808Z"
   },
   {
    "duration": 40,
    "start_time": "2022-11-29T10:58:57.813Z"
   },
   {
    "duration": 5,
    "start_time": "2022-11-29T10:58:57.855Z"
   },
   {
    "duration": 12,
    "start_time": "2022-11-29T10:58:57.862Z"
   },
   {
    "duration": 5,
    "start_time": "2022-11-29T10:58:57.876Z"
   },
   {
    "duration": 7,
    "start_time": "2022-11-29T10:58:57.883Z"
   },
   {
    "duration": 32,
    "start_time": "2022-11-29T10:58:57.892Z"
   },
   {
    "duration": 156,
    "start_time": "2022-11-29T10:58:57.926Z"
   },
   {
    "duration": 190,
    "start_time": "2022-11-29T10:58:58.084Z"
   },
   {
    "duration": 185,
    "start_time": "2022-11-29T10:58:58.276Z"
   },
   {
    "duration": 3752,
    "start_time": "2022-11-29T10:58:58.462Z"
   },
   {
    "duration": 7,
    "start_time": "2022-11-29T10:59:02.216Z"
   },
   {
    "duration": 30,
    "start_time": "2022-11-29T10:59:02.224Z"
   },
   {
    "duration": 11,
    "start_time": "2022-11-29T10:59:02.256Z"
   },
   {
    "duration": 14,
    "start_time": "2022-11-29T10:59:02.269Z"
   },
   {
    "duration": 168,
    "start_time": "2022-11-29T10:59:02.285Z"
   },
   {
    "duration": 8,
    "start_time": "2022-11-29T10:59:28.028Z"
   },
   {
    "duration": 119,
    "start_time": "2022-11-29T10:59:39.842Z"
   },
   {
    "duration": 6,
    "start_time": "2022-11-29T11:13:36.183Z"
   },
   {
    "duration": 10,
    "start_time": "2022-11-29T11:13:36.850Z"
   },
   {
    "duration": 5,
    "start_time": "2022-11-29T11:14:35.234Z"
   },
   {
    "duration": 5,
    "start_time": "2022-11-29T11:14:45.875Z"
   },
   {
    "duration": 519406,
    "start_time": "2022-11-29T11:14:46.376Z"
   },
   {
    "duration": 3,
    "start_time": "2022-11-29T11:23:25.784Z"
   },
   {
    "duration": 5,
    "start_time": "2022-11-29T11:26:29.840Z"
   },
   {
    "duration": 159,
    "start_time": "2022-11-29T11:31:08.520Z"
   },
   {
    "duration": 13,
    "start_time": "2022-11-29T11:31:59.465Z"
   },
   {
    "duration": 178,
    "start_time": "2022-11-29T11:32:40.560Z"
   },
   {
    "duration": 169,
    "start_time": "2022-11-29T11:34:02.447Z"
   },
   {
    "duration": 172,
    "start_time": "2022-11-29T11:35:48.158Z"
   },
   {
    "duration": 165,
    "start_time": "2022-11-29T11:37:35.508Z"
   },
   {
    "duration": 205,
    "start_time": "2022-11-29T11:46:15.645Z"
   },
   {
    "duration": 170,
    "start_time": "2022-11-29T11:47:00.287Z"
   },
   {
    "duration": 45,
    "start_time": "2022-11-29T11:47:46.912Z"
   },
   {
    "duration": 53,
    "start_time": "2022-11-29T11:48:24.402Z"
   },
   {
    "duration": 6,
    "start_time": "2022-11-29T11:48:47.097Z"
   },
   {
    "duration": 69,
    "start_time": "2022-11-29T11:48:47.105Z"
   },
   {
    "duration": 6,
    "start_time": "2022-11-29T11:48:47.176Z"
   },
   {
    "duration": 11,
    "start_time": "2022-11-29T11:48:47.185Z"
   },
   {
    "duration": 12,
    "start_time": "2022-11-29T11:48:47.198Z"
   },
   {
    "duration": 64735,
    "start_time": "2022-11-29T11:48:47.211Z"
   },
   {
    "duration": 1115,
    "start_time": "2022-11-29T11:49:51.951Z"
   },
   {
    "duration": 5,
    "start_time": "2022-11-29T11:49:53.067Z"
   },
   {
    "duration": 12,
    "start_time": "2022-11-29T11:49:53.074Z"
   },
   {
    "duration": 27,
    "start_time": "2022-11-29T11:49:53.088Z"
   },
   {
    "duration": 10,
    "start_time": "2022-11-29T11:49:53.117Z"
   },
   {
    "duration": 6,
    "start_time": "2022-11-29T11:49:53.129Z"
   },
   {
    "duration": 14,
    "start_time": "2022-11-29T11:49:53.150Z"
   },
   {
    "duration": 32,
    "start_time": "2022-11-29T11:49:53.166Z"
   },
   {
    "duration": 4,
    "start_time": "2022-11-29T11:49:53.200Z"
   },
   {
    "duration": 45,
    "start_time": "2022-11-29T11:49:53.207Z"
   },
   {
    "duration": 7,
    "start_time": "2022-11-29T11:49:53.254Z"
   },
   {
    "duration": 15,
    "start_time": "2022-11-29T11:49:53.263Z"
   },
   {
    "duration": 6,
    "start_time": "2022-11-29T11:49:53.280Z"
   },
   {
    "duration": 14,
    "start_time": "2022-11-29T11:49:53.288Z"
   },
   {
    "duration": 72,
    "start_time": "2022-11-29T11:49:53.304Z"
   },
   {
    "duration": 153,
    "start_time": "2022-11-29T11:49:53.378Z"
   },
   {
    "duration": 199,
    "start_time": "2022-11-29T11:49:53.534Z"
   },
   {
    "duration": 199,
    "start_time": "2022-11-29T11:49:53.737Z"
   },
   {
    "duration": 3580,
    "start_time": "2022-11-29T11:49:53.938Z"
   },
   {
    "duration": 6,
    "start_time": "2022-11-29T11:49:57.520Z"
   },
   {
    "duration": 36,
    "start_time": "2022-11-29T11:49:57.528Z"
   },
   {
    "duration": 7,
    "start_time": "2022-11-29T11:49:57.566Z"
   },
   {
    "duration": 6,
    "start_time": "2022-11-29T11:49:57.575Z"
   },
   {
    "duration": 5,
    "start_time": "2022-11-29T11:49:57.583Z"
   },
   {
    "duration": 527987,
    "start_time": "2022-11-29T11:49:57.590Z"
   },
   {
    "duration": 4,
    "start_time": "2022-11-29T11:58:45.579Z"
   },
   {
    "duration": 9,
    "start_time": "2022-11-29T11:58:45.585Z"
   },
   {
    "duration": 8,
    "start_time": "2022-11-29T11:58:45.596Z"
   },
   {
    "duration": 163,
    "start_time": "2022-11-29T11:58:45.606Z"
   },
   {
    "duration": 6,
    "start_time": "2022-11-29T12:04:40.912Z"
   },
   {
    "duration": 67,
    "start_time": "2022-11-29T12:04:40.921Z"
   },
   {
    "duration": 7,
    "start_time": "2022-11-29T12:04:40.990Z"
   },
   {
    "duration": 16,
    "start_time": "2022-11-29T12:04:40.999Z"
   },
   {
    "duration": 25,
    "start_time": "2022-11-29T12:04:41.016Z"
   },
   {
    "duration": 67652,
    "start_time": "2022-11-29T12:04:41.052Z"
   },
   {
    "duration": 1185,
    "start_time": "2022-11-29T12:05:48.706Z"
   },
   {
    "duration": 4,
    "start_time": "2022-11-29T12:05:49.893Z"
   },
   {
    "duration": 10,
    "start_time": "2022-11-29T12:05:49.900Z"
   },
   {
    "duration": 15,
    "start_time": "2022-11-29T12:05:49.912Z"
   },
   {
    "duration": 28,
    "start_time": "2022-11-29T12:05:49.929Z"
   },
   {
    "duration": 7,
    "start_time": "2022-11-29T12:05:49.959Z"
   },
   {
    "duration": 16,
    "start_time": "2022-11-29T12:05:49.967Z"
   },
   {
    "duration": 17,
    "start_time": "2022-11-29T12:05:49.985Z"
   },
   {
    "duration": 4,
    "start_time": "2022-11-29T12:05:50.004Z"
   },
   {
    "duration": 45,
    "start_time": "2022-11-29T12:05:50.009Z"
   },
   {
    "duration": 5,
    "start_time": "2022-11-29T12:05:50.056Z"
   },
   {
    "duration": 25,
    "start_time": "2022-11-29T12:05:50.062Z"
   },
   {
    "duration": 9,
    "start_time": "2022-11-29T12:05:50.089Z"
   },
   {
    "duration": 7,
    "start_time": "2022-11-29T12:05:50.100Z"
   },
   {
    "duration": 34,
    "start_time": "2022-11-29T12:05:50.109Z"
   },
   {
    "duration": 163,
    "start_time": "2022-11-29T12:05:50.145Z"
   },
   {
    "duration": 144,
    "start_time": "2022-11-29T12:05:50.309Z"
   },
   {
    "duration": 0,
    "start_time": "2022-11-29T12:05:50.456Z"
   },
   {
    "duration": 0,
    "start_time": "2022-11-29T12:05:50.457Z"
   },
   {
    "duration": 0,
    "start_time": "2022-11-29T12:05:50.458Z"
   },
   {
    "duration": 0,
    "start_time": "2022-11-29T12:05:50.459Z"
   },
   {
    "duration": 0,
    "start_time": "2022-11-29T12:05:50.459Z"
   },
   {
    "duration": 0,
    "start_time": "2022-11-29T12:05:50.460Z"
   },
   {
    "duration": 0,
    "start_time": "2022-11-29T12:05:50.462Z"
   },
   {
    "duration": 0,
    "start_time": "2022-11-29T12:05:50.463Z"
   },
   {
    "duration": 0,
    "start_time": "2022-11-29T12:05:50.463Z"
   },
   {
    "duration": 0,
    "start_time": "2022-11-29T12:05:50.465Z"
   },
   {
    "duration": 0,
    "start_time": "2022-11-29T12:05:50.465Z"
   },
   {
    "duration": 0,
    "start_time": "2022-11-29T12:05:50.466Z"
   },
   {
    "duration": 0,
    "start_time": "2022-11-29T12:05:50.467Z"
   },
   {
    "duration": 180,
    "start_time": "2022-11-29T12:15:09.473Z"
   },
   {
    "duration": 27,
    "start_time": "2022-11-29T12:16:46.595Z"
   },
   {
    "duration": 26,
    "start_time": "2022-11-29T12:17:35.970Z"
   },
   {
    "duration": 44,
    "start_time": "2022-11-29T12:17:41.506Z"
   },
   {
    "duration": 122,
    "start_time": "2022-11-29T12:18:04.034Z"
   },
   {
    "duration": 5,
    "start_time": "2022-11-29T12:19:35.044Z"
   },
   {
    "duration": 67,
    "start_time": "2022-11-29T12:19:35.051Z"
   },
   {
    "duration": 8,
    "start_time": "2022-11-29T12:19:35.120Z"
   },
   {
    "duration": 13,
    "start_time": "2022-11-29T12:19:35.131Z"
   },
   {
    "duration": 16,
    "start_time": "2022-11-29T12:19:35.151Z"
   },
   {
    "duration": 71414,
    "start_time": "2022-11-29T12:19:35.169Z"
   },
   {
    "duration": 1032,
    "start_time": "2022-11-29T12:20:46.585Z"
   },
   {
    "duration": 4,
    "start_time": "2022-11-29T12:20:47.619Z"
   },
   {
    "duration": 8,
    "start_time": "2022-11-29T12:20:47.626Z"
   },
   {
    "duration": 28,
    "start_time": "2022-11-29T12:20:47.636Z"
   },
   {
    "duration": 8,
    "start_time": "2022-11-29T12:20:47.665Z"
   },
   {
    "duration": 5,
    "start_time": "2022-11-29T12:20:47.675Z"
   },
   {
    "duration": 13,
    "start_time": "2022-11-29T12:20:47.682Z"
   },
   {
    "duration": 18,
    "start_time": "2022-11-29T12:20:47.697Z"
   },
   {
    "duration": 3,
    "start_time": "2022-11-29T12:20:47.717Z"
   },
   {
    "duration": 14,
    "start_time": "2022-11-29T12:20:47.751Z"
   },
   {
    "duration": 5,
    "start_time": "2022-11-29T12:20:47.766Z"
   },
   {
    "duration": 15,
    "start_time": "2022-11-29T12:20:47.773Z"
   },
   {
    "duration": 5,
    "start_time": "2022-11-29T12:20:47.790Z"
   },
   {
    "duration": 4,
    "start_time": "2022-11-29T12:20:47.797Z"
   },
   {
    "duration": 64,
    "start_time": "2022-11-29T12:20:47.803Z"
   },
   {
    "duration": 158,
    "start_time": "2022-11-29T12:20:47.869Z"
   },
   {
    "duration": 37,
    "start_time": "2022-11-29T12:20:48.028Z"
   },
   {
    "duration": 272,
    "start_time": "2022-11-29T12:20:48.155Z"
   },
   {
    "duration": 204,
    "start_time": "2022-11-29T12:20:48.429Z"
   },
   {
    "duration": 3656,
    "start_time": "2022-11-29T12:20:48.634Z"
   },
   {
    "duration": 7,
    "start_time": "2022-11-29T12:20:52.292Z"
   },
   {
    "duration": 40,
    "start_time": "2022-11-29T12:20:52.300Z"
   },
   {
    "duration": 24,
    "start_time": "2022-11-29T12:20:52.342Z"
   },
   {
    "duration": 22,
    "start_time": "2022-11-29T12:20:52.368Z"
   },
   {
    "duration": 16,
    "start_time": "2022-11-29T12:20:52.391Z"
   },
   {
    "duration": 508633,
    "start_time": "2022-11-29T12:20:52.408Z"
   },
   {
    "duration": 8,
    "start_time": "2022-11-29T12:29:21.043Z"
   },
   {
    "duration": 10,
    "start_time": "2022-11-29T12:29:21.052Z"
   },
   {
    "duration": 5,
    "start_time": "2022-11-29T12:29:21.064Z"
   },
   {
    "duration": 182,
    "start_time": "2022-11-29T12:29:21.071Z"
   },
   {
    "duration": 0,
    "start_time": "2022-11-29T12:29:21.255Z"
   },
   {
    "duration": 34,
    "start_time": "2022-11-29T12:37:37.830Z"
   },
   {
    "duration": 172,
    "start_time": "2022-11-29T12:38:49.845Z"
   },
   {
    "duration": 209,
    "start_time": "2022-11-29T12:39:20.904Z"
   },
   {
    "duration": 111,
    "start_time": "2022-11-29T12:41:06.548Z"
   },
   {
    "duration": 87,
    "start_time": "2022-11-29T12:41:39.768Z"
   },
   {
    "duration": 112,
    "start_time": "2022-11-29T12:43:18.441Z"
   },
   {
    "duration": 162,
    "start_time": "2022-11-29T12:46:21.392Z"
   },
   {
    "duration": 44,
    "start_time": "2022-11-29T12:46:52.918Z"
   },
   {
    "duration": 1585,
    "start_time": "2022-11-30T08:56:50.506Z"
   },
   {
    "duration": 101,
    "start_time": "2022-11-30T08:56:52.093Z"
   },
   {
    "duration": 8,
    "start_time": "2022-11-30T08:56:52.196Z"
   },
   {
    "duration": 13,
    "start_time": "2022-11-30T08:56:52.206Z"
   },
   {
    "duration": 15,
    "start_time": "2022-11-30T08:56:52.220Z"
   },
   {
    "duration": 57889,
    "start_time": "2022-11-30T08:56:52.237Z"
   },
   {
    "duration": 1123,
    "start_time": "2022-11-30T08:57:50.128Z"
   },
   {
    "duration": 4,
    "start_time": "2022-11-30T08:57:51.253Z"
   },
   {
    "duration": 14,
    "start_time": "2022-11-30T08:57:51.258Z"
   },
   {
    "duration": 32,
    "start_time": "2022-11-30T08:57:51.275Z"
   },
   {
    "duration": 5,
    "start_time": "2022-11-30T08:57:51.309Z"
   },
   {
    "duration": 5,
    "start_time": "2022-11-30T08:57:51.316Z"
   },
   {
    "duration": 13,
    "start_time": "2022-11-30T08:57:51.322Z"
   },
   {
    "duration": 16,
    "start_time": "2022-11-30T08:57:51.337Z"
   },
   {
    "duration": 3,
    "start_time": "2022-11-30T08:57:51.355Z"
   },
   {
    "duration": 48,
    "start_time": "2022-11-30T08:57:51.359Z"
   },
   {
    "duration": 5,
    "start_time": "2022-11-30T08:57:51.409Z"
   },
   {
    "duration": 16,
    "start_time": "2022-11-30T08:57:51.416Z"
   },
   {
    "duration": 5,
    "start_time": "2022-11-30T08:57:51.433Z"
   },
   {
    "duration": 4,
    "start_time": "2022-11-30T08:57:51.439Z"
   },
   {
    "duration": 65,
    "start_time": "2022-11-30T08:57:51.444Z"
   },
   {
    "duration": 135,
    "start_time": "2022-11-30T08:57:51.511Z"
   },
   {
    "duration": 348,
    "start_time": "2022-11-30T08:57:51.648Z"
   },
   {
    "duration": 0,
    "start_time": "2022-11-30T08:57:51.998Z"
   },
   {
    "duration": 0,
    "start_time": "2022-11-30T08:57:51.999Z"
   },
   {
    "duration": 0,
    "start_time": "2022-11-30T08:57:52.000Z"
   },
   {
    "duration": 0,
    "start_time": "2022-11-30T08:57:52.001Z"
   },
   {
    "duration": 0,
    "start_time": "2022-11-30T08:57:52.002Z"
   },
   {
    "duration": 0,
    "start_time": "2022-11-30T08:57:52.003Z"
   },
   {
    "duration": 0,
    "start_time": "2022-11-30T08:57:52.005Z"
   },
   {
    "duration": 0,
    "start_time": "2022-11-30T08:57:52.006Z"
   },
   {
    "duration": 0,
    "start_time": "2022-11-30T08:57:52.007Z"
   },
   {
    "duration": 0,
    "start_time": "2022-11-30T08:57:52.009Z"
   },
   {
    "duration": 0,
    "start_time": "2022-11-30T08:57:52.010Z"
   },
   {
    "duration": 0,
    "start_time": "2022-11-30T08:57:52.011Z"
   },
   {
    "duration": 0,
    "start_time": "2022-11-30T08:57:52.013Z"
   },
   {
    "duration": 151,
    "start_time": "2022-11-30T08:59:26.757Z"
   },
   {
    "duration": 104,
    "start_time": "2022-11-30T08:59:45.298Z"
   },
   {
    "duration": 198,
    "start_time": "2022-11-30T10:44:26.371Z"
   },
   {
    "duration": 192,
    "start_time": "2022-11-30T10:44:34.990Z"
   },
   {
    "duration": 3791,
    "start_time": "2022-11-30T10:44:36.362Z"
   },
   {
    "duration": 7,
    "start_time": "2022-11-30T10:44:40.155Z"
   },
   {
    "duration": 18,
    "start_time": "2022-11-30T10:44:40.164Z"
   },
   {
    "duration": 188,
    "start_time": "2022-11-30T10:47:22.114Z"
   },
   {
    "duration": 5,
    "start_time": "2022-11-30T10:47:52.129Z"
   },
   {
    "duration": 510010,
    "start_time": "2022-11-30T10:47:52.866Z"
   },
   {
    "duration": 4,
    "start_time": "2022-11-30T10:56:22.878Z"
   },
   {
    "duration": 16,
    "start_time": "2022-11-30T10:56:22.883Z"
   },
   {
    "duration": 181,
    "start_time": "2022-11-30T10:56:22.901Z"
   },
   {
    "duration": 6,
    "start_time": "2022-11-30T11:12:36.908Z"
   },
   {
    "duration": 18,
    "start_time": "2022-11-30T11:12:37.673Z"
   },
   {
    "duration": 6,
    "start_time": "2022-11-30T11:13:11.545Z"
   },
   {
    "duration": 4,
    "start_time": "2022-11-30T11:22:53.648Z"
   },
   {
    "duration": 9,
    "start_time": "2022-11-30T11:22:54.170Z"
   },
   {
    "duration": 232,
    "start_time": "2022-11-30T11:22:55.766Z"
   },
   {
    "duration": 60,
    "start_time": "2022-11-30T11:24:46.947Z"
   },
   {
    "duration": 4,
    "start_time": "2022-11-30T11:26:57.335Z"
   },
   {
    "duration": 10,
    "start_time": "2022-11-30T11:26:57.890Z"
   },
   {
    "duration": 153,
    "start_time": "2022-11-30T11:26:58.445Z"
   },
   {
    "duration": 118,
    "start_time": "2022-11-30T11:27:44.889Z"
   },
   {
    "duration": 176,
    "start_time": "2022-11-30T11:28:01.830Z"
   },
   {
    "duration": 18,
    "start_time": "2022-11-30T11:34:17.893Z"
   },
   {
    "duration": 12,
    "start_time": "2022-11-30T11:34:29.141Z"
   },
   {
    "duration": 16,
    "start_time": "2022-11-30T11:36:48.438Z"
   },
   {
    "duration": 19,
    "start_time": "2022-11-30T11:37:28.289Z"
   },
   {
    "duration": 245,
    "start_time": "2022-11-30T11:37:45.276Z"
   },
   {
    "duration": 55,
    "start_time": "2022-11-30T11:39:20.673Z"
   },
   {
    "duration": 11,
    "start_time": "2022-11-30T11:39:38.068Z"
   },
   {
    "duration": 15,
    "start_time": "2022-11-30T11:39:44.801Z"
   },
   {
    "duration": 6,
    "start_time": "2022-11-30T11:47:18.878Z"
   },
   {
    "duration": 10,
    "start_time": "2022-11-30T11:47:20.419Z"
   },
   {
    "duration": 19,
    "start_time": "2022-11-30T11:47:45.293Z"
   },
   {
    "duration": 6,
    "start_time": "2022-11-30T11:48:26.082Z"
   },
   {
    "duration": 20,
    "start_time": "2022-11-30T11:48:26.586Z"
   },
   {
    "duration": 14,
    "start_time": "2022-11-30T11:48:39.464Z"
   },
   {
    "duration": 10,
    "start_time": "2022-11-30T11:48:48.537Z"
   },
   {
    "duration": 13,
    "start_time": "2022-11-30T11:49:02.908Z"
   },
   {
    "duration": 21,
    "start_time": "2022-11-30T11:49:10.791Z"
   },
   {
    "duration": 11,
    "start_time": "2022-11-30T11:49:16.580Z"
   },
   {
    "duration": 116,
    "start_time": "2022-11-30T11:49:25.892Z"
   },
   {
    "duration": 20,
    "start_time": "2022-11-30T12:06:44.368Z"
   },
   {
    "duration": 357,
    "start_time": "2022-11-30T12:10:23.909Z"
   },
   {
    "duration": 352,
    "start_time": "2022-11-30T12:10:44.048Z"
   },
   {
    "duration": 493,
    "start_time": "2022-11-30T12:11:18.805Z"
   },
   {
    "duration": 777,
    "start_time": "2022-11-30T12:12:03.068Z"
   },
   {
    "duration": 1783,
    "start_time": "2022-11-30T12:12:30.231Z"
   },
   {
    "duration": 1829,
    "start_time": "2022-11-30T12:13:49.780Z"
   },
   {
    "duration": 1628,
    "start_time": "2022-12-01T10:48:46.794Z"
   },
   {
    "duration": 113,
    "start_time": "2022-12-01T10:48:48.424Z"
   },
   {
    "duration": 8,
    "start_time": "2022-12-01T10:48:48.539Z"
   },
   {
    "duration": 10,
    "start_time": "2022-12-01T10:48:48.548Z"
   },
   {
    "duration": 12,
    "start_time": "2022-12-01T10:48:48.560Z"
   },
   {
    "duration": 59461,
    "start_time": "2022-12-01T10:48:48.573Z"
   },
   {
    "duration": 1202,
    "start_time": "2022-12-01T10:49:48.036Z"
   },
   {
    "duration": 4,
    "start_time": "2022-12-01T10:49:49.240Z"
   },
   {
    "duration": 9,
    "start_time": "2022-12-01T10:49:49.246Z"
   },
   {
    "duration": 15,
    "start_time": "2022-12-01T10:49:49.258Z"
   },
   {
    "duration": 24,
    "start_time": "2022-12-01T10:49:49.275Z"
   },
   {
    "duration": 5,
    "start_time": "2022-12-01T10:49:49.301Z"
   },
   {
    "duration": 19,
    "start_time": "2022-12-01T10:49:49.308Z"
   },
   {
    "duration": 27,
    "start_time": "2022-12-01T10:49:49.329Z"
   },
   {
    "duration": 5,
    "start_time": "2022-12-01T10:49:49.358Z"
   },
   {
    "duration": 13,
    "start_time": "2022-12-01T10:49:49.396Z"
   },
   {
    "duration": 7,
    "start_time": "2022-12-01T10:49:49.411Z"
   },
   {
    "duration": 16,
    "start_time": "2022-12-01T10:49:49.420Z"
   },
   {
    "duration": 5,
    "start_time": "2022-12-01T10:49:49.437Z"
   },
   {
    "duration": 6,
    "start_time": "2022-12-01T10:49:49.444Z"
   },
   {
    "duration": 60,
    "start_time": "2022-12-01T10:49:49.452Z"
   },
   {
    "duration": 145,
    "start_time": "2022-12-01T10:49:49.515Z"
   },
   {
    "duration": 187,
    "start_time": "2022-12-01T10:49:49.662Z"
   },
   {
    "duration": 187,
    "start_time": "2022-12-01T10:49:49.850Z"
   },
   {
    "duration": 3526,
    "start_time": "2022-12-01T10:49:50.038Z"
   },
   {
    "duration": 6,
    "start_time": "2022-12-01T10:49:53.566Z"
   },
   {
    "duration": 23,
    "start_time": "2022-12-01T10:49:53.574Z"
   },
   {
    "duration": 6,
    "start_time": "2022-12-01T10:49:53.601Z"
   },
   {
    "duration": 7,
    "start_time": "2022-12-01T10:49:53.608Z"
   },
   {
    "duration": 5,
    "start_time": "2022-12-01T10:49:53.616Z"
   },
   {
    "duration": 490541,
    "start_time": "2022-12-01T10:49:53.622Z"
   },
   {
    "duration": 4,
    "start_time": "2022-12-01T10:58:04.165Z"
   },
   {
    "duration": 7,
    "start_time": "2022-12-01T10:58:04.171Z"
   },
   {
    "duration": 185,
    "start_time": "2022-12-01T10:58:04.180Z"
   },
   {
    "duration": 130,
    "start_time": "2022-12-01T10:58:04.368Z"
   },
   {
    "duration": 110,
    "start_time": "2022-12-01T10:58:04.503Z"
   },
   {
    "duration": 2016,
    "start_time": "2022-12-01T10:58:04.696Z"
   },
   {
    "duration": 4,
    "start_time": "2022-12-01T10:58:06.714Z"
   },
   {
    "duration": 23,
    "start_time": "2022-12-01T10:58:06.720Z"
   },
   {
    "duration": 5,
    "start_time": "2022-12-01T10:58:06.745Z"
   },
   {
    "duration": 14,
    "start_time": "2022-12-01T10:58:06.751Z"
   },
   {
    "duration": 131,
    "start_time": "2022-12-01T10:58:06.767Z"
   },
   {
    "duration": 213,
    "start_time": "2022-12-01T10:58:06.902Z"
   },
   {
    "duration": 0,
    "start_time": "2022-12-01T10:58:07.116Z"
   },
   {
    "duration": 193,
    "start_time": "2022-12-01T11:00:45.626Z"
   },
   {
    "duration": 99,
    "start_time": "2022-12-01T11:01:31.698Z"
   },
   {
    "duration": 22,
    "start_time": "2022-12-01T11:01:50.072Z"
   },
   {
    "duration": 1825,
    "start_time": "2022-12-01T11:03:30.512Z"
   },
   {
    "duration": 5,
    "start_time": "2022-12-01T11:05:25.712Z"
   },
   {
    "duration": 63,
    "start_time": "2022-12-01T11:05:25.719Z"
   },
   {
    "duration": 6,
    "start_time": "2022-12-01T11:05:25.783Z"
   },
   {
    "duration": 27,
    "start_time": "2022-12-01T11:05:25.791Z"
   },
   {
    "duration": 12,
    "start_time": "2022-12-01T11:05:25.820Z"
   },
   {
    "duration": 64830,
    "start_time": "2022-12-01T11:05:25.833Z"
   },
   {
    "duration": 1084,
    "start_time": "2022-12-01T11:06:30.665Z"
   },
   {
    "duration": 4,
    "start_time": "2022-12-01T11:06:31.751Z"
   },
   {
    "duration": 36,
    "start_time": "2022-12-01T11:06:31.758Z"
   },
   {
    "duration": 48,
    "start_time": "2022-12-01T11:06:31.795Z"
   },
   {
    "duration": 31,
    "start_time": "2022-12-01T11:06:31.845Z"
   },
   {
    "duration": 37,
    "start_time": "2022-12-01T11:06:31.877Z"
   },
   {
    "duration": 49,
    "start_time": "2022-12-01T11:06:31.915Z"
   },
   {
    "duration": 45,
    "start_time": "2022-12-01T11:06:31.965Z"
   },
   {
    "duration": 45,
    "start_time": "2022-12-01T11:06:32.011Z"
   },
   {
    "duration": 31,
    "start_time": "2022-12-01T11:06:32.057Z"
   },
   {
    "duration": 44,
    "start_time": "2022-12-01T11:06:32.090Z"
   },
   {
    "duration": 40,
    "start_time": "2022-12-01T11:06:32.136Z"
   },
   {
    "duration": 42,
    "start_time": "2022-12-01T11:06:32.178Z"
   },
   {
    "duration": 31,
    "start_time": "2022-12-01T11:06:32.222Z"
   },
   {
    "duration": 62,
    "start_time": "2022-12-01T11:06:32.255Z"
   },
   {
    "duration": 157,
    "start_time": "2022-12-01T11:06:32.319Z"
   },
   {
    "duration": 1813,
    "start_time": "2022-12-01T11:06:32.478Z"
   },
   {
    "duration": 213,
    "start_time": "2022-12-01T11:06:34.299Z"
   },
   {
    "duration": 4033,
    "start_time": "2022-12-01T11:06:34.514Z"
   },
   {
    "duration": 6,
    "start_time": "2022-12-01T11:06:38.549Z"
   },
   {
    "duration": 12,
    "start_time": "2022-12-01T11:06:38.557Z"
   },
   {
    "duration": 37,
    "start_time": "2022-12-01T11:06:38.571Z"
   },
   {
    "duration": 7,
    "start_time": "2022-12-01T11:06:38.610Z"
   },
   {
    "duration": 9,
    "start_time": "2022-12-01T11:06:38.618Z"
   },
   {
    "duration": 509195,
    "start_time": "2022-12-01T11:06:38.629Z"
   },
   {
    "duration": 4,
    "start_time": "2022-12-01T11:15:07.825Z"
   },
   {
    "duration": 7,
    "start_time": "2022-12-01T11:15:07.830Z"
   },
   {
    "duration": 200,
    "start_time": "2022-12-01T11:15:07.838Z"
   },
   {
    "duration": 159,
    "start_time": "2022-12-01T11:15:08.040Z"
   },
   {
    "duration": 129,
    "start_time": "2022-12-01T11:15:08.202Z"
   },
   {
    "duration": 175,
    "start_time": "2022-12-01T11:15:08.333Z"
   },
   {
    "duration": 0,
    "start_time": "2022-12-01T11:15:08.510Z"
   },
   {
    "duration": 0,
    "start_time": "2022-12-01T11:15:08.511Z"
   },
   {
    "duration": 0,
    "start_time": "2022-12-01T11:15:08.513Z"
   },
   {
    "duration": 0,
    "start_time": "2022-12-01T11:15:08.514Z"
   },
   {
    "duration": 0,
    "start_time": "2022-12-01T11:15:08.515Z"
   },
   {
    "duration": 0,
    "start_time": "2022-12-01T11:15:08.516Z"
   },
   {
    "duration": 0,
    "start_time": "2022-12-01T11:15:08.517Z"
   },
   {
    "duration": 0,
    "start_time": "2022-12-01T11:15:08.519Z"
   },
   {
    "duration": 250,
    "start_time": "2022-12-01T11:17:01.428Z"
   },
   {
    "duration": 15,
    "start_time": "2022-12-01T11:18:29.374Z"
   },
   {
    "duration": 37,
    "start_time": "2022-12-01T11:24:57.069Z"
   },
   {
    "duration": 254,
    "start_time": "2022-12-01T11:26:23.629Z"
   },
   {
    "duration": 2082,
    "start_time": "2022-12-01T11:37:34.349Z"
   },
   {
    "duration": 185,
    "start_time": "2022-12-01T11:38:51.165Z"
   },
   {
    "duration": 12,
    "start_time": "2022-12-01T11:39:26.647Z"
   },
   {
    "duration": 519556,
    "start_time": "2022-12-01T11:50:15.783Z"
   },
   {
    "duration": 4,
    "start_time": "2022-12-01T11:58:55.341Z"
   },
   {
    "duration": 519628,
    "start_time": "2022-12-01T11:58:55.348Z"
   },
   {
    "duration": 4,
    "start_time": "2022-12-01T12:07:34.978Z"
   },
   {
    "duration": 30,
    "start_time": "2022-12-01T12:07:34.984Z"
   },
   {
    "duration": 41,
    "start_time": "2022-12-01T12:10:00.063Z"
   },
   {
    "duration": 121,
    "start_time": "2022-12-01T12:23:46.817Z"
   },
   {
    "duration": 128,
    "start_time": "2022-12-01T12:26:09.070Z"
   },
   {
    "duration": 2003,
    "start_time": "2022-12-01T12:26:16.206Z"
   },
   {
    "duration": 189,
    "start_time": "2022-12-01T12:26:18.211Z"
   },
   {
    "duration": 137,
    "start_time": "2022-12-01T12:26:18.401Z"
   },
   {
    "duration": 491894,
    "start_time": "2022-12-01T12:39:45.836Z"
   },
   {
    "duration": 4,
    "start_time": "2022-12-01T12:47:57.732Z"
   },
   {
    "duration": 8,
    "start_time": "2022-12-01T12:47:57.737Z"
   },
   {
    "duration": 255,
    "start_time": "2022-12-01T12:47:57.747Z"
   },
   {
    "duration": 1467,
    "start_time": "2022-12-03T12:40:09.105Z"
   },
   {
    "duration": 195,
    "start_time": "2022-12-03T12:40:10.574Z"
   },
   {
    "duration": 5,
    "start_time": "2022-12-03T12:40:10.770Z"
   },
   {
    "duration": 16,
    "start_time": "2022-12-03T12:40:10.777Z"
   },
   {
    "duration": 15,
    "start_time": "2022-12-03T12:40:10.794Z"
   },
   {
    "duration": 53491,
    "start_time": "2022-12-03T12:40:10.810Z"
   },
   {
    "duration": 1099,
    "start_time": "2022-12-03T12:41:04.303Z"
   },
   {
    "duration": 5,
    "start_time": "2022-12-03T12:41:05.403Z"
   },
   {
    "duration": 12,
    "start_time": "2022-12-03T12:41:05.410Z"
   },
   {
    "duration": 16,
    "start_time": "2022-12-03T12:41:05.424Z"
   },
   {
    "duration": 6,
    "start_time": "2022-12-03T12:41:05.441Z"
   },
   {
    "duration": 11,
    "start_time": "2022-12-03T12:41:05.449Z"
   },
   {
    "duration": 11,
    "start_time": "2022-12-03T12:41:05.479Z"
   },
   {
    "duration": 18,
    "start_time": "2022-12-03T12:41:05.492Z"
   },
   {
    "duration": 4,
    "start_time": "2022-12-03T12:41:05.512Z"
   },
   {
    "duration": 18,
    "start_time": "2022-12-03T12:41:05.518Z"
   },
   {
    "duration": 5,
    "start_time": "2022-12-03T12:41:05.538Z"
   },
   {
    "duration": 43,
    "start_time": "2022-12-03T12:41:05.544Z"
   },
   {
    "duration": 6,
    "start_time": "2022-12-03T12:41:05.589Z"
   },
   {
    "duration": 12,
    "start_time": "2022-12-03T12:41:05.597Z"
   },
   {
    "duration": 43,
    "start_time": "2022-12-03T12:41:05.611Z"
   },
   {
    "duration": 138,
    "start_time": "2022-12-03T12:41:05.656Z"
   },
   {
    "duration": 130,
    "start_time": "2022-12-03T12:41:05.796Z"
   },
   {
    "duration": 0,
    "start_time": "2022-12-03T12:41:05.929Z"
   },
   {
    "duration": 0,
    "start_time": "2022-12-03T12:41:05.931Z"
   },
   {
    "duration": 0,
    "start_time": "2022-12-03T12:41:05.932Z"
   },
   {
    "duration": 0,
    "start_time": "2022-12-03T12:41:05.934Z"
   },
   {
    "duration": 0,
    "start_time": "2022-12-03T12:41:05.935Z"
   },
   {
    "duration": 0,
    "start_time": "2022-12-03T12:41:05.936Z"
   },
   {
    "duration": 0,
    "start_time": "2022-12-03T12:41:05.937Z"
   },
   {
    "duration": 0,
    "start_time": "2022-12-03T12:41:05.938Z"
   },
   {
    "duration": 0,
    "start_time": "2022-12-03T12:41:05.940Z"
   },
   {
    "duration": 0,
    "start_time": "2022-12-03T12:41:05.941Z"
   },
   {
    "duration": 0,
    "start_time": "2022-12-03T12:41:05.942Z"
   },
   {
    "duration": 0,
    "start_time": "2022-12-03T12:41:05.944Z"
   },
   {
    "duration": 0,
    "start_time": "2022-12-03T12:41:05.945Z"
   },
   {
    "duration": 0,
    "start_time": "2022-12-03T12:41:05.946Z"
   },
   {
    "duration": 0,
    "start_time": "2022-12-03T12:41:05.977Z"
   },
   {
    "duration": 0,
    "start_time": "2022-12-03T12:41:05.979Z"
   },
   {
    "duration": 0,
    "start_time": "2022-12-03T12:41:05.982Z"
   },
   {
    "duration": 0,
    "start_time": "2022-12-03T12:41:05.983Z"
   },
   {
    "duration": 0,
    "start_time": "2022-12-03T12:41:05.985Z"
   },
   {
    "duration": 0,
    "start_time": "2022-12-03T12:41:05.986Z"
   },
   {
    "duration": 0,
    "start_time": "2022-12-03T12:41:05.988Z"
   },
   {
    "duration": 41,
    "start_time": "2022-12-03T12:42:36.785Z"
   },
   {
    "duration": 245,
    "start_time": "2022-12-03T12:43:21.973Z"
   },
   {
    "duration": 146,
    "start_time": "2022-12-03T12:43:34.913Z"
   },
   {
    "duration": 4,
    "start_time": "2022-12-03T12:43:42.913Z"
   },
   {
    "duration": 0,
    "start_time": "2022-12-03T12:51:36.002Z"
   },
   {
    "duration": 0,
    "start_time": "2022-12-03T12:51:36.003Z"
   },
   {
    "duration": 0,
    "start_time": "2022-12-03T12:51:36.004Z"
   },
   {
    "duration": 0,
    "start_time": "2022-12-03T12:51:36.005Z"
   },
   {
    "duration": 0,
    "start_time": "2022-12-03T12:51:36.006Z"
   },
   {
    "duration": 0,
    "start_time": "2022-12-03T12:51:36.007Z"
   },
   {
    "duration": 0,
    "start_time": "2022-12-03T12:51:36.008Z"
   },
   {
    "duration": 1,
    "start_time": "2022-12-03T12:51:36.009Z"
   },
   {
    "duration": 0,
    "start_time": "2022-12-03T12:51:36.011Z"
   },
   {
    "duration": 0,
    "start_time": "2022-12-03T12:51:36.011Z"
   },
   {
    "duration": 1,
    "start_time": "2022-12-03T12:51:36.012Z"
   },
   {
    "duration": 0,
    "start_time": "2022-12-03T12:51:36.014Z"
   },
   {
    "duration": 0,
    "start_time": "2022-12-03T12:51:36.015Z"
   },
   {
    "duration": 0,
    "start_time": "2022-12-03T12:51:36.016Z"
   },
   {
    "duration": 0,
    "start_time": "2022-12-03T12:51:36.017Z"
   },
   {
    "duration": 0,
    "start_time": "2022-12-03T12:51:36.019Z"
   },
   {
    "duration": 0,
    "start_time": "2022-12-03T12:51:36.019Z"
   },
   {
    "duration": 0,
    "start_time": "2022-12-03T12:51:36.021Z"
   },
   {
    "duration": 0,
    "start_time": "2022-12-03T12:51:36.022Z"
   },
   {
    "duration": 6,
    "start_time": "2022-12-03T13:09:19.009Z"
   },
   {
    "duration": 98,
    "start_time": "2022-12-03T13:09:19.017Z"
   },
   {
    "duration": 7,
    "start_time": "2022-12-03T13:09:19.117Z"
   },
   {
    "duration": 17,
    "start_time": "2022-12-03T13:09:19.126Z"
   },
   {
    "duration": 35,
    "start_time": "2022-12-03T13:09:19.145Z"
   },
   {
    "duration": 55027,
    "start_time": "2022-12-03T13:09:19.182Z"
   },
   {
    "duration": 990,
    "start_time": "2022-12-03T13:10:14.211Z"
   },
   {
    "duration": 4,
    "start_time": "2022-12-03T13:10:15.204Z"
   },
   {
    "duration": 7,
    "start_time": "2022-12-03T13:10:15.210Z"
   },
   {
    "duration": 14,
    "start_time": "2022-12-03T13:10:15.219Z"
   },
   {
    "duration": 6,
    "start_time": "2022-12-03T13:10:15.236Z"
   },
   {
    "duration": 7,
    "start_time": "2022-12-03T13:10:15.244Z"
   },
   {
    "duration": 12,
    "start_time": "2022-12-03T13:10:15.277Z"
   },
   {
    "duration": 19,
    "start_time": "2022-12-03T13:10:15.291Z"
   },
   {
    "duration": 4,
    "start_time": "2022-12-03T13:10:15.312Z"
   },
   {
    "duration": 16,
    "start_time": "2022-12-03T13:10:15.318Z"
   },
   {
    "duration": 5,
    "start_time": "2022-12-03T13:10:15.336Z"
   },
   {
    "duration": 43,
    "start_time": "2022-12-03T13:10:15.342Z"
   },
   {
    "duration": 5,
    "start_time": "2022-12-03T13:10:15.387Z"
   },
   {
    "duration": 31,
    "start_time": "2022-12-03T13:10:15.394Z"
   },
   {
    "duration": 63,
    "start_time": "2022-12-03T13:10:15.427Z"
   },
   {
    "duration": 129,
    "start_time": "2022-12-03T13:10:15.492Z"
   },
   {
    "duration": 242,
    "start_time": "2022-12-03T13:10:15.623Z"
   },
   {
    "duration": 155,
    "start_time": "2022-12-03T13:10:15.867Z"
   },
   {
    "duration": 5,
    "start_time": "2022-12-03T13:10:16.024Z"
   },
   {
    "duration": 31,
    "start_time": "2022-12-03T13:17:44.288Z"
   },
   {
    "duration": 0,
    "start_time": "2022-12-03T13:17:44.321Z"
   },
   {
    "duration": 0,
    "start_time": "2022-12-03T13:17:44.323Z"
   },
   {
    "duration": 0,
    "start_time": "2022-12-03T13:17:44.324Z"
   },
   {
    "duration": 0,
    "start_time": "2022-12-03T13:17:44.325Z"
   },
   {
    "duration": 0,
    "start_time": "2022-12-03T13:17:44.327Z"
   },
   {
    "duration": 0,
    "start_time": "2022-12-03T13:17:44.329Z"
   },
   {
    "duration": 0,
    "start_time": "2022-12-03T13:17:44.330Z"
   },
   {
    "duration": 0,
    "start_time": "2022-12-03T13:17:44.331Z"
   },
   {
    "duration": 0,
    "start_time": "2022-12-03T13:17:44.333Z"
   },
   {
    "duration": 0,
    "start_time": "2022-12-03T13:17:44.334Z"
   },
   {
    "duration": 0,
    "start_time": "2022-12-03T13:17:44.335Z"
   },
   {
    "duration": 0,
    "start_time": "2022-12-03T13:17:44.336Z"
   },
   {
    "duration": 0,
    "start_time": "2022-12-03T13:17:44.336Z"
   },
   {
    "duration": 0,
    "start_time": "2022-12-03T13:17:44.338Z"
   },
   {
    "duration": 0,
    "start_time": "2022-12-03T13:17:44.339Z"
   },
   {
    "duration": 0,
    "start_time": "2022-12-03T13:17:44.341Z"
   },
   {
    "duration": 0,
    "start_time": "2022-12-03T13:17:44.342Z"
   },
   {
    "duration": 0,
    "start_time": "2022-12-03T13:17:44.343Z"
   },
   {
    "duration": 22,
    "start_time": "2022-12-03T13:17:56.504Z"
   },
   {
    "duration": 105,
    "start_time": "2022-12-03T13:18:10.079Z"
   },
   {
    "duration": 83,
    "start_time": "2022-12-03T13:18:55.296Z"
   },
   {
    "duration": 316705,
    "start_time": "2022-12-03T13:19:33.981Z"
   },
   {
    "duration": 4,
    "start_time": "2022-12-03T13:24:50.688Z"
   },
   {
    "duration": 298,
    "start_time": "2022-12-03T13:24:50.788Z"
   },
   {
    "duration": 146,
    "start_time": "2022-12-03T13:24:51.089Z"
   },
   {
    "duration": 0,
    "start_time": "2022-12-03T13:24:51.237Z"
   },
   {
    "duration": 78,
    "start_time": "2022-12-03T13:26:04.184Z"
   },
   {
    "duration": 75,
    "start_time": "2022-12-03T13:26:37.401Z"
   },
   {
    "duration": 1944,
    "start_time": "2022-12-03T13:26:56.124Z"
   },
   {
    "duration": 20,
    "start_time": "2022-12-03T13:29:51.346Z"
   },
   {
    "duration": 12,
    "start_time": "2022-12-03T13:32:16.505Z"
   },
   {
    "duration": 169,
    "start_time": "2022-12-03T13:32:33.674Z"
   },
   {
    "duration": 115,
    "start_time": "2022-12-03T13:32:51.472Z"
   },
   {
    "duration": 4,
    "start_time": "2022-12-03T13:33:41.320Z"
   },
   {
    "duration": 11,
    "start_time": "2022-12-03T13:33:43.704Z"
   },
   {
    "duration": 4,
    "start_time": "2022-12-03T13:33:55.408Z"
   },
   {
    "duration": 28,
    "start_time": "2022-12-03T13:33:55.458Z"
   },
   {
    "duration": 44,
    "start_time": "2022-12-03T13:35:56.035Z"
   },
   {
    "duration": 88,
    "start_time": "2022-12-03T13:39:31.897Z"
   },
   {
    "duration": 1644,
    "start_time": "2022-12-03T17:10:04.399Z"
   },
   {
    "duration": 188,
    "start_time": "2022-12-03T17:10:06.045Z"
   },
   {
    "duration": 7,
    "start_time": "2022-12-03T17:10:06.235Z"
   },
   {
    "duration": 12,
    "start_time": "2022-12-03T17:10:06.245Z"
   },
   {
    "duration": 15,
    "start_time": "2022-12-03T17:10:06.258Z"
   },
   {
    "duration": 58905,
    "start_time": "2022-12-03T17:10:06.275Z"
   },
   {
    "duration": 1143,
    "start_time": "2022-12-03T17:11:05.182Z"
   },
   {
    "duration": 5,
    "start_time": "2022-12-03T17:11:06.327Z"
   },
   {
    "duration": 17,
    "start_time": "2022-12-03T17:11:06.334Z"
   },
   {
    "duration": 38,
    "start_time": "2022-12-03T17:11:06.354Z"
   },
   {
    "duration": 25,
    "start_time": "2022-12-03T17:11:06.394Z"
   },
   {
    "duration": 27,
    "start_time": "2022-12-03T17:11:06.421Z"
   },
   {
    "duration": 27,
    "start_time": "2022-12-03T17:11:06.450Z"
   },
   {
    "duration": 25,
    "start_time": "2022-12-03T17:11:06.479Z"
   },
   {
    "duration": 5,
    "start_time": "2022-12-03T17:11:06.506Z"
   },
   {
    "duration": 20,
    "start_time": "2022-12-03T17:11:06.513Z"
   },
   {
    "duration": 16,
    "start_time": "2022-12-03T17:11:06.536Z"
   },
   {
    "duration": 18,
    "start_time": "2022-12-03T17:11:06.554Z"
   },
   {
    "duration": 7,
    "start_time": "2022-12-03T17:11:06.574Z"
   },
   {
    "duration": 6,
    "start_time": "2022-12-03T17:11:06.583Z"
   },
   {
    "duration": 70,
    "start_time": "2022-12-03T17:11:06.591Z"
   },
   {
    "duration": 132,
    "start_time": "2022-12-03T17:11:06.663Z"
   },
   {
    "duration": 266,
    "start_time": "2022-12-03T17:11:06.797Z"
   },
   {
    "duration": 179,
    "start_time": "2022-12-03T17:11:07.065Z"
   },
   {
    "duration": 5,
    "start_time": "2022-12-03T17:11:07.246Z"
   },
   {
    "duration": 338346,
    "start_time": "2022-12-03T17:11:07.253Z"
   },
   {
    "duration": 4,
    "start_time": "2022-12-03T17:16:45.600Z"
   },
   {
    "duration": 37,
    "start_time": "2022-12-03T17:16:45.607Z"
   },
   {
    "duration": 283,
    "start_time": "2022-12-03T17:16:45.645Z"
   },
   {
    "duration": 100,
    "start_time": "2022-12-03T17:16:45.930Z"
   },
   {
    "duration": 306,
    "start_time": "2022-12-03T17:16:46.032Z"
   },
   {
    "duration": 1973,
    "start_time": "2022-12-03T17:16:46.339Z"
   },
   {
    "duration": 185,
    "start_time": "2022-12-03T17:16:48.315Z"
   },
   {
    "duration": 138,
    "start_time": "2022-12-03T17:16:48.502Z"
   },
   {
    "duration": 475182,
    "start_time": "2022-12-03T17:16:48.643Z"
   },
   {
    "duration": 4,
    "start_time": "2022-12-03T17:24:43.827Z"
   },
   {
    "duration": 302,
    "start_time": "2022-12-03T17:24:43.833Z"
   },
   {
    "duration": 0,
    "start_time": "2022-12-03T17:24:44.137Z"
   },
   {
    "duration": 0,
    "start_time": "2022-12-03T17:24:44.138Z"
   },
   {
    "duration": 0,
    "start_time": "2022-12-03T17:24:44.140Z"
   },
   {
    "duration": 0,
    "start_time": "2022-12-03T17:24:44.141Z"
   },
   {
    "duration": 0,
    "start_time": "2022-12-03T17:24:44.142Z"
   },
   {
    "duration": 0,
    "start_time": "2022-12-03T17:24:44.143Z"
   },
   {
    "duration": 0,
    "start_time": "2022-12-03T17:24:44.144Z"
   },
   {
    "duration": 0,
    "start_time": "2022-12-03T17:24:44.148Z"
   },
   {
    "duration": 0,
    "start_time": "2022-12-03T17:24:44.149Z"
   },
   {
    "duration": 0,
    "start_time": "2022-12-03T17:24:44.150Z"
   },
   {
    "duration": 8,
    "start_time": "2022-12-03T17:27:25.318Z"
   },
   {
    "duration": 90,
    "start_time": "2022-12-03T17:27:25.328Z"
   },
   {
    "duration": 9,
    "start_time": "2022-12-03T17:27:25.420Z"
   },
   {
    "duration": 23,
    "start_time": "2022-12-03T17:27:25.431Z"
   },
   {
    "duration": 16,
    "start_time": "2022-12-03T17:27:25.456Z"
   },
   {
    "duration": 60615,
    "start_time": "2022-12-03T17:27:25.474Z"
   },
   {
    "duration": 1000,
    "start_time": "2022-12-03T17:28:26.092Z"
   },
   {
    "duration": 5,
    "start_time": "2022-12-03T17:28:27.094Z"
   },
   {
    "duration": 6,
    "start_time": "2022-12-03T17:28:27.100Z"
   },
   {
    "duration": 21,
    "start_time": "2022-12-03T17:28:27.123Z"
   },
   {
    "duration": 7,
    "start_time": "2022-12-03T17:28:27.145Z"
   },
   {
    "duration": 13,
    "start_time": "2022-12-03T17:28:27.154Z"
   },
   {
    "duration": 24,
    "start_time": "2022-12-03T17:28:27.169Z"
   },
   {
    "duration": 47,
    "start_time": "2022-12-03T17:28:27.197Z"
   },
   {
    "duration": 6,
    "start_time": "2022-12-03T17:28:27.246Z"
   },
   {
    "duration": 20,
    "start_time": "2022-12-03T17:28:27.253Z"
   },
   {
    "duration": 6,
    "start_time": "2022-12-03T17:28:27.275Z"
   },
   {
    "duration": 46,
    "start_time": "2022-12-03T17:28:27.283Z"
   },
   {
    "duration": 6,
    "start_time": "2022-12-03T17:28:27.331Z"
   },
   {
    "duration": 10,
    "start_time": "2022-12-03T17:28:27.339Z"
   },
   {
    "duration": 39,
    "start_time": "2022-12-03T17:28:27.351Z"
   },
   {
    "duration": 145,
    "start_time": "2022-12-03T17:28:27.392Z"
   },
   {
    "duration": 250,
    "start_time": "2022-12-03T17:28:27.540Z"
   },
   {
    "duration": 182,
    "start_time": "2022-12-03T17:28:27.792Z"
   },
   {
    "duration": 3,
    "start_time": "2022-12-03T17:28:27.976Z"
   },
   {
    "duration": 278846,
    "start_time": "2022-12-03T17:28:27.980Z"
   },
   {
    "duration": 4,
    "start_time": "2022-12-03T17:33:06.828Z"
   },
   {
    "duration": 58,
    "start_time": "2022-12-03T17:33:06.833Z"
   },
   {
    "duration": 54,
    "start_time": "2022-12-03T17:33:06.893Z"
   },
   {
    "duration": 175,
    "start_time": "2022-12-03T17:33:06.949Z"
   },
   {
    "duration": 1957,
    "start_time": "2022-12-03T17:33:07.550Z"
   },
   {
    "duration": 190,
    "start_time": "2022-12-03T17:33:09.509Z"
   },
   {
    "duration": 139,
    "start_time": "2022-12-03T17:33:09.701Z"
   },
   {
    "duration": 492772,
    "start_time": "2022-12-03T17:33:09.842Z"
   },
   {
    "duration": 14,
    "start_time": "2022-12-03T17:41:22.616Z"
   },
   {
    "duration": 154,
    "start_time": "2022-12-03T17:41:22.637Z"
   },
   {
    "duration": 1,
    "start_time": "2022-12-03T17:41:22.792Z"
   },
   {
    "duration": 0,
    "start_time": "2022-12-03T17:41:22.794Z"
   },
   {
    "duration": 0,
    "start_time": "2022-12-03T17:41:22.795Z"
   },
   {
    "duration": 0,
    "start_time": "2022-12-03T17:41:22.796Z"
   },
   {
    "duration": 0,
    "start_time": "2022-12-03T17:41:22.797Z"
   },
   {
    "duration": 0,
    "start_time": "2022-12-03T17:41:22.798Z"
   },
   {
    "duration": 0,
    "start_time": "2022-12-03T17:41:22.799Z"
   },
   {
    "duration": 0,
    "start_time": "2022-12-03T17:41:22.825Z"
   },
   {
    "duration": 0,
    "start_time": "2022-12-03T17:41:22.828Z"
   },
   {
    "duration": 11,
    "start_time": "2022-12-03T17:42:08.879Z"
   },
   {
    "duration": 401452,
    "start_time": "2022-12-03T17:42:35.210Z"
   },
   {
    "duration": 4,
    "start_time": "2022-12-03T17:49:16.664Z"
   },
   {
    "duration": 66,
    "start_time": "2022-12-03T17:49:16.670Z"
   },
   {
    "duration": 137,
    "start_time": "2022-12-03T17:49:16.738Z"
   },
   {
    "duration": 5,
    "start_time": "2022-12-03T17:49:16.877Z"
   },
   {
    "duration": 14,
    "start_time": "2022-12-03T17:49:16.883Z"
   },
   {
    "duration": 4,
    "start_time": "2022-12-03T17:49:16.898Z"
   },
   {
    "duration": 15,
    "start_time": "2022-12-03T17:49:16.921Z"
   },
   {
    "duration": 191,
    "start_time": "2022-12-03T17:49:16.937Z"
   },
   {
    "duration": 2444,
    "start_time": "2022-12-03T17:49:17.132Z"
   },
   {
    "duration": 1286,
    "start_time": "2022-12-03T17:50:10.582Z"
   },
   {
    "duration": 132,
    "start_time": "2022-12-03T17:52:11.299Z"
   },
   {
    "duration": 2,
    "start_time": "2022-12-03T17:52:16.844Z"
   },
   {
    "duration": 2311,
    "start_time": "2022-12-03T17:52:17.911Z"
   },
   {
    "duration": 3,
    "start_time": "2022-12-03T17:52:31.600Z"
   },
   {
    "duration": 1303,
    "start_time": "2022-12-03T17:52:32.310Z"
   },
   {
    "duration": 242378,
    "start_time": "2022-12-03T18:02:08.732Z"
   },
   {
    "duration": 0,
    "start_time": "2022-12-03T18:15:01.754Z"
   },
   {
    "duration": 0,
    "start_time": "2022-12-03T18:15:01.755Z"
   },
   {
    "duration": 0,
    "start_time": "2022-12-03T18:15:01.757Z"
   },
   {
    "duration": 0,
    "start_time": "2022-12-03T18:15:01.758Z"
   },
   {
    "duration": 0,
    "start_time": "2022-12-03T18:15:01.759Z"
   },
   {
    "duration": 0,
    "start_time": "2022-12-03T18:15:01.760Z"
   },
   {
    "duration": 0,
    "start_time": "2022-12-03T18:15:01.761Z"
   },
   {
    "duration": 0,
    "start_time": "2022-12-03T18:15:01.762Z"
   },
   {
    "duration": 0,
    "start_time": "2022-12-03T18:15:01.763Z"
   },
   {
    "duration": 0,
    "start_time": "2022-12-03T18:15:01.765Z"
   },
   {
    "duration": 0,
    "start_time": "2022-12-03T18:15:01.766Z"
   },
   {
    "duration": 0,
    "start_time": "2022-12-03T18:15:01.767Z"
   },
   {
    "duration": 0,
    "start_time": "2022-12-03T18:15:01.768Z"
   },
   {
    "duration": 0,
    "start_time": "2022-12-03T18:15:01.769Z"
   },
   {
    "duration": 0,
    "start_time": "2022-12-03T18:15:01.769Z"
   },
   {
    "duration": 0,
    "start_time": "2022-12-03T18:15:01.771Z"
   },
   {
    "duration": 0,
    "start_time": "2022-12-03T18:15:01.772Z"
   },
   {
    "duration": 1,
    "start_time": "2022-12-03T18:15:01.772Z"
   },
   {
    "duration": 0,
    "start_time": "2022-12-03T18:15:01.774Z"
   },
   {
    "duration": 0,
    "start_time": "2022-12-03T18:15:01.774Z"
   },
   {
    "duration": 0,
    "start_time": "2022-12-03T18:15:01.775Z"
   },
   {
    "duration": 0,
    "start_time": "2022-12-03T18:15:01.776Z"
   },
   {
    "duration": 0,
    "start_time": "2022-12-03T18:15:01.778Z"
   },
   {
    "duration": 0,
    "start_time": "2022-12-03T18:15:01.779Z"
   },
   {
    "duration": 0,
    "start_time": "2022-12-03T18:15:01.779Z"
   },
   {
    "duration": 0,
    "start_time": "2022-12-03T18:15:01.781Z"
   },
   {
    "duration": 0,
    "start_time": "2022-12-03T18:15:01.782Z"
   },
   {
    "duration": 0,
    "start_time": "2022-12-03T18:15:01.783Z"
   },
   {
    "duration": 0,
    "start_time": "2022-12-03T18:15:01.784Z"
   },
   {
    "duration": 0,
    "start_time": "2022-12-03T18:15:01.785Z"
   },
   {
    "duration": 0,
    "start_time": "2022-12-03T18:15:01.786Z"
   },
   {
    "duration": 0,
    "start_time": "2022-12-03T18:15:01.787Z"
   },
   {
    "duration": 0,
    "start_time": "2022-12-03T18:15:01.789Z"
   },
   {
    "duration": 0,
    "start_time": "2022-12-03T18:15:01.789Z"
   },
   {
    "duration": 0,
    "start_time": "2022-12-03T18:15:01.822Z"
   },
   {
    "duration": 0,
    "start_time": "2022-12-03T18:15:01.823Z"
   },
   {
    "duration": 0,
    "start_time": "2022-12-03T18:15:01.825Z"
   },
   {
    "duration": 0,
    "start_time": "2022-12-03T18:15:01.826Z"
   },
   {
    "duration": 0,
    "start_time": "2022-12-03T18:15:01.828Z"
   },
   {
    "duration": 0,
    "start_time": "2022-12-03T18:15:01.829Z"
   },
   {
    "duration": 0,
    "start_time": "2022-12-03T18:15:01.830Z"
   },
   {
    "duration": 0,
    "start_time": "2022-12-03T18:15:01.831Z"
   },
   {
    "duration": 0,
    "start_time": "2022-12-03T18:15:01.833Z"
   },
   {
    "duration": 0,
    "start_time": "2022-12-03T18:15:01.834Z"
   },
   {
    "duration": 0,
    "start_time": "2022-12-03T18:15:01.835Z"
   },
   {
    "duration": 0,
    "start_time": "2022-12-03T18:15:01.837Z"
   },
   {
    "duration": 0,
    "start_time": "2022-12-03T18:15:01.838Z"
   },
   {
    "duration": 0,
    "start_time": "2022-12-03T18:15:01.840Z"
   },
   {
    "duration": 0,
    "start_time": "2022-12-03T18:15:01.842Z"
   },
   {
    "duration": 0,
    "start_time": "2022-12-03T18:15:01.843Z"
   },
   {
    "duration": 0,
    "start_time": "2022-12-03T18:15:01.844Z"
   },
   {
    "duration": 0,
    "start_time": "2022-12-03T18:15:01.849Z"
   },
   {
    "duration": 0,
    "start_time": "2022-12-03T18:15:01.849Z"
   },
   {
    "duration": 5,
    "start_time": "2022-12-03T18:16:28.735Z"
   },
   {
    "duration": 68,
    "start_time": "2022-12-03T18:16:28.743Z"
   },
   {
    "duration": 7,
    "start_time": "2022-12-03T18:16:28.813Z"
   },
   {
    "duration": 24,
    "start_time": "2022-12-03T18:16:28.822Z"
   },
   {
    "duration": 32,
    "start_time": "2022-12-03T18:16:28.848Z"
   },
   {
    "duration": 0,
    "start_time": "2022-12-03T18:22:02.664Z"
   },
   {
    "duration": 0,
    "start_time": "2022-12-03T18:22:02.666Z"
   },
   {
    "duration": 0,
    "start_time": "2022-12-03T18:22:02.667Z"
   },
   {
    "duration": 0,
    "start_time": "2022-12-03T18:22:02.668Z"
   },
   {
    "duration": 0,
    "start_time": "2022-12-03T18:22:02.669Z"
   },
   {
    "duration": 0,
    "start_time": "2022-12-03T18:22:02.670Z"
   },
   {
    "duration": 0,
    "start_time": "2022-12-03T18:22:02.671Z"
   },
   {
    "duration": 0,
    "start_time": "2022-12-03T18:22:02.672Z"
   },
   {
    "duration": 0,
    "start_time": "2022-12-03T18:22:02.672Z"
   },
   {
    "duration": 0,
    "start_time": "2022-12-03T18:22:02.673Z"
   },
   {
    "duration": 0,
    "start_time": "2022-12-03T18:22:02.674Z"
   },
   {
    "duration": 0,
    "start_time": "2022-12-03T18:22:02.676Z"
   },
   {
    "duration": 0,
    "start_time": "2022-12-03T18:22:02.677Z"
   },
   {
    "duration": 0,
    "start_time": "2022-12-03T18:22:02.678Z"
   },
   {
    "duration": 0,
    "start_time": "2022-12-03T18:22:02.722Z"
   },
   {
    "duration": 0,
    "start_time": "2022-12-03T18:22:02.723Z"
   },
   {
    "duration": 0,
    "start_time": "2022-12-03T18:22:02.724Z"
   },
   {
    "duration": 0,
    "start_time": "2022-12-03T18:22:02.725Z"
   },
   {
    "duration": 0,
    "start_time": "2022-12-03T18:22:02.729Z"
   },
   {
    "duration": 0,
    "start_time": "2022-12-03T18:22:02.729Z"
   },
   {
    "duration": 0,
    "start_time": "2022-12-03T18:22:02.733Z"
   },
   {
    "duration": 0,
    "start_time": "2022-12-03T18:22:02.734Z"
   },
   {
    "duration": 0,
    "start_time": "2022-12-03T18:22:02.735Z"
   },
   {
    "duration": 0,
    "start_time": "2022-12-03T18:22:02.737Z"
   },
   {
    "duration": 0,
    "start_time": "2022-12-03T18:22:02.738Z"
   },
   {
    "duration": 1,
    "start_time": "2022-12-03T18:22:02.739Z"
   },
   {
    "duration": 0,
    "start_time": "2022-12-03T18:22:02.741Z"
   },
   {
    "duration": 0,
    "start_time": "2022-12-03T18:22:02.743Z"
   },
   {
    "duration": 0,
    "start_time": "2022-12-03T18:22:02.744Z"
   },
   {
    "duration": 0,
    "start_time": "2022-12-03T18:22:02.745Z"
   },
   {
    "duration": 0,
    "start_time": "2022-12-03T18:22:02.747Z"
   },
   {
    "duration": 0,
    "start_time": "2022-12-03T18:22:02.748Z"
   },
   {
    "duration": 0,
    "start_time": "2022-12-03T18:22:02.750Z"
   },
   {
    "duration": 0,
    "start_time": "2022-12-03T18:22:02.752Z"
   },
   {
    "duration": 0,
    "start_time": "2022-12-03T18:22:02.753Z"
   },
   {
    "duration": 0,
    "start_time": "2022-12-03T18:22:02.755Z"
   },
   {
    "duration": 0,
    "start_time": "2022-12-03T18:22:02.757Z"
   },
   {
    "duration": 0,
    "start_time": "2022-12-03T18:22:02.759Z"
   },
   {
    "duration": 0,
    "start_time": "2022-12-03T18:22:02.760Z"
   },
   {
    "duration": 0,
    "start_time": "2022-12-03T18:22:02.762Z"
   },
   {
    "duration": 0,
    "start_time": "2022-12-03T18:22:02.763Z"
   },
   {
    "duration": 0,
    "start_time": "2022-12-03T18:22:02.765Z"
   },
   {
    "duration": 0,
    "start_time": "2022-12-03T18:22:02.766Z"
   },
   {
    "duration": 0,
    "start_time": "2022-12-03T18:22:02.822Z"
   },
   {
    "duration": 0,
    "start_time": "2022-12-03T18:22:02.824Z"
   },
   {
    "duration": 0,
    "start_time": "2022-12-03T18:22:02.825Z"
   },
   {
    "duration": 0,
    "start_time": "2022-12-03T18:22:02.827Z"
   },
   {
    "duration": 0,
    "start_time": "2022-12-03T18:22:02.828Z"
   },
   {
    "duration": 0,
    "start_time": "2022-12-03T18:22:02.830Z"
   },
   {
    "duration": 0,
    "start_time": "2022-12-03T18:22:02.832Z"
   },
   {
    "duration": 0,
    "start_time": "2022-12-03T18:22:02.833Z"
   },
   {
    "duration": 0,
    "start_time": "2022-12-03T18:22:02.834Z"
   },
   {
    "duration": 0,
    "start_time": "2022-12-03T18:22:02.836Z"
   },
   {
    "duration": 6,
    "start_time": "2022-12-03T18:27:16.854Z"
   },
   {
    "duration": 64,
    "start_time": "2022-12-03T18:27:16.885Z"
   },
   {
    "duration": 6,
    "start_time": "2022-12-03T18:27:31.912Z"
   },
   {
    "duration": 9,
    "start_time": "2022-12-03T18:27:36.798Z"
   },
   {
    "duration": 9,
    "start_time": "2022-12-03T18:27:38.656Z"
   },
   {
    "duration": 12,
    "start_time": "2022-12-03T18:27:39.938Z"
   },
   {
    "duration": 62105,
    "start_time": "2022-12-03T18:27:42.559Z"
   },
   {
    "duration": 1050,
    "start_time": "2022-12-03T18:28:44.667Z"
   },
   {
    "duration": 6,
    "start_time": "2022-12-03T18:28:45.723Z"
   },
   {
    "duration": 14,
    "start_time": "2022-12-03T18:28:45.732Z"
   },
   {
    "duration": 23,
    "start_time": "2022-12-03T18:28:45.748Z"
   },
   {
    "duration": 9,
    "start_time": "2022-12-03T18:28:45.773Z"
   },
   {
    "duration": 10,
    "start_time": "2022-12-03T18:28:45.784Z"
   },
   {
    "duration": 18,
    "start_time": "2022-12-03T18:28:45.822Z"
   },
   {
    "duration": 45,
    "start_time": "2022-12-03T18:28:45.844Z"
   },
   {
    "duration": 26,
    "start_time": "2022-12-03T18:28:45.897Z"
   },
   {
    "duration": 27,
    "start_time": "2022-12-03T18:28:45.925Z"
   },
   {
    "duration": 6,
    "start_time": "2022-12-03T18:28:45.955Z"
   },
   {
    "duration": 22,
    "start_time": "2022-12-03T18:28:45.963Z"
   },
   {
    "duration": 6,
    "start_time": "2022-12-03T18:28:45.988Z"
   },
   {
    "duration": 6,
    "start_time": "2022-12-03T18:28:45.996Z"
   },
   {
    "duration": 37,
    "start_time": "2022-12-03T18:28:46.023Z"
   },
   {
    "duration": 149,
    "start_time": "2022-12-03T18:28:46.061Z"
   },
   {
    "duration": 240,
    "start_time": "2022-12-03T18:28:46.212Z"
   },
   {
    "duration": 183,
    "start_time": "2022-12-03T18:28:46.454Z"
   },
   {
    "duration": 3,
    "start_time": "2022-12-03T18:28:46.639Z"
   },
   {
    "duration": 1594,
    "start_time": "2022-12-04T10:34:09.952Z"
   },
   {
    "duration": 117,
    "start_time": "2022-12-04T10:34:11.549Z"
   },
   {
    "duration": 6,
    "start_time": "2022-12-04T10:34:11.667Z"
   },
   {
    "duration": 22,
    "start_time": "2022-12-04T10:34:11.674Z"
   },
   {
    "duration": 16,
    "start_time": "2022-12-04T10:34:11.697Z"
   },
   {
    "duration": 54126,
    "start_time": "2022-12-04T10:34:11.714Z"
   },
   {
    "duration": 1133,
    "start_time": "2022-12-04T10:35:05.842Z"
   },
   {
    "duration": 4,
    "start_time": "2022-12-04T10:35:06.977Z"
   },
   {
    "duration": 11,
    "start_time": "2022-12-04T10:35:06.983Z"
   },
   {
    "duration": 23,
    "start_time": "2022-12-04T10:35:06.996Z"
   },
   {
    "duration": 9,
    "start_time": "2022-12-04T10:35:07.021Z"
   },
   {
    "duration": 9,
    "start_time": "2022-12-04T10:35:07.031Z"
   },
   {
    "duration": 12,
    "start_time": "2022-12-04T10:35:07.041Z"
   },
   {
    "duration": 18,
    "start_time": "2022-12-04T10:35:07.054Z"
   },
   {
    "duration": 4,
    "start_time": "2022-12-04T10:35:07.073Z"
   },
   {
    "duration": 17,
    "start_time": "2022-12-04T10:35:07.078Z"
   },
   {
    "duration": 5,
    "start_time": "2022-12-04T10:35:07.116Z"
   },
   {
    "duration": 15,
    "start_time": "2022-12-04T10:35:07.122Z"
   },
   {
    "duration": 4,
    "start_time": "2022-12-04T10:35:07.139Z"
   },
   {
    "duration": 8,
    "start_time": "2022-12-04T10:35:07.145Z"
   },
   {
    "duration": 39,
    "start_time": "2022-12-04T10:35:07.154Z"
   },
   {
    "duration": 137,
    "start_time": "2022-12-04T10:35:07.195Z"
   },
   {
    "duration": 224,
    "start_time": "2022-12-04T10:35:07.334Z"
   },
   {
    "duration": 158,
    "start_time": "2022-12-04T10:35:07.559Z"
   },
   {
    "duration": 2,
    "start_time": "2022-12-04T10:35:07.719Z"
   },
   {
    "duration": 254608,
    "start_time": "2022-12-04T10:35:07.723Z"
   },
   {
    "duration": 3,
    "start_time": "2022-12-04T10:39:22.333Z"
   },
   {
    "duration": 26,
    "start_time": "2022-12-04T10:39:22.339Z"
   },
   {
    "duration": 29,
    "start_time": "2022-12-04T10:39:22.367Z"
   },
   {
    "duration": 121,
    "start_time": "2022-12-04T10:39:22.397Z"
   },
   {
    "duration": 111,
    "start_time": "2022-12-04T10:39:22.520Z"
   },
   {
    "duration": 286,
    "start_time": "2022-12-04T10:39:22.634Z"
   },
   {
    "duration": 1901,
    "start_time": "2022-12-04T10:39:22.921Z"
   },
   {
    "duration": 167,
    "start_time": "2022-12-04T10:39:24.824Z"
   },
   {
    "duration": 130,
    "start_time": "2022-12-04T10:39:24.993Z"
   },
   {
    "duration": 43,
    "start_time": "2022-12-04T10:39:25.124Z"
   },
   {
    "duration": 0,
    "start_time": "2022-12-04T10:39:25.168Z"
   },
   {
    "duration": 0,
    "start_time": "2022-12-04T10:39:25.169Z"
   },
   {
    "duration": 0,
    "start_time": "2022-12-04T10:39:25.170Z"
   },
   {
    "duration": 0,
    "start_time": "2022-12-04T10:39:25.171Z"
   },
   {
    "duration": 1,
    "start_time": "2022-12-04T10:39:25.172Z"
   },
   {
    "duration": 0,
    "start_time": "2022-12-04T10:39:25.173Z"
   },
   {
    "duration": 0,
    "start_time": "2022-12-04T10:39:25.174Z"
   },
   {
    "duration": 0,
    "start_time": "2022-12-04T10:39:25.175Z"
   },
   {
    "duration": 0,
    "start_time": "2022-12-04T10:39:25.177Z"
   },
   {
    "duration": 0,
    "start_time": "2022-12-04T10:39:25.178Z"
   },
   {
    "duration": 0,
    "start_time": "2022-12-04T10:39:25.179Z"
   },
   {
    "duration": 0,
    "start_time": "2022-12-04T10:39:25.180Z"
   },
   {
    "duration": 0,
    "start_time": "2022-12-04T10:39:25.181Z"
   },
   {
    "duration": 0,
    "start_time": "2022-12-04T10:39:25.182Z"
   },
   {
    "duration": 0,
    "start_time": "2022-12-04T10:39:25.183Z"
   },
   {
    "duration": 0,
    "start_time": "2022-12-04T10:39:25.185Z"
   },
   {
    "duration": 1,
    "start_time": "2022-12-04T10:39:25.185Z"
   },
   {
    "duration": 261028,
    "start_time": "2022-12-04T10:49:42.458Z"
   },
   {
    "duration": 108,
    "start_time": "2022-12-04T10:54:45.451Z"
   },
   {
    "duration": 4,
    "start_time": "2022-12-04T10:55:03.110Z"
   },
   {
    "duration": 56,
    "start_time": "2022-12-04T10:55:21.209Z"
   },
   {
    "duration": 104,
    "start_time": "2022-12-04T10:55:34.980Z"
   },
   {
    "duration": 1932,
    "start_time": "2022-12-04T10:57:20.432Z"
   },
   {
    "duration": 109,
    "start_time": "2022-12-04T10:57:27.425Z"
   },
   {
    "duration": 4,
    "start_time": "2022-12-04T10:59:20.789Z"
   },
   {
    "duration": 11,
    "start_time": "2022-12-04T10:59:22.026Z"
   },
   {
    "duration": 4,
    "start_time": "2022-12-04T10:59:23.861Z"
   },
   {
    "duration": 10,
    "start_time": "2022-12-04T10:59:24.502Z"
   },
   {
    "duration": 189,
    "start_time": "2022-12-04T10:59:26.228Z"
   },
   {
    "duration": 34,
    "start_time": "2022-12-04T10:59:34.397Z"
   },
   {
    "duration": 3,
    "start_time": "2022-12-04T10:59:45.401Z"
   },
   {
    "duration": 2319,
    "start_time": "2022-12-04T10:59:45.952Z"
   },
   {
    "duration": 3,
    "start_time": "2022-12-04T11:00:05.056Z"
   },
   {
    "duration": 1186,
    "start_time": "2022-12-04T11:00:05.659Z"
   },
   {
    "duration": 2,
    "start_time": "2022-12-04T11:00:16.286Z"
   },
   {
    "duration": 225013,
    "start_time": "2022-12-04T11:00:17.200Z"
   },
   {
    "duration": 46,
    "start_time": "2022-12-04T11:57:31.198Z"
   },
   {
    "duration": 1316,
    "start_time": "2022-12-04T11:58:35.581Z"
   },
   {
    "duration": 64,
    "start_time": "2022-12-04T11:58:36.899Z"
   },
   {
    "duration": 6,
    "start_time": "2022-12-04T11:58:37.951Z"
   },
   {
    "duration": 8,
    "start_time": "2022-12-04T11:58:38.653Z"
   },
   {
    "duration": 12,
    "start_time": "2022-12-04T11:58:39.980Z"
   },
   {
    "duration": 25,
    "start_time": "2022-12-04T11:59:36.893Z"
   },
   {
    "duration": 59,
    "start_time": "2022-12-04T11:59:36.920Z"
   },
   {
    "duration": 7,
    "start_time": "2022-12-04T11:59:36.981Z"
   },
   {
    "duration": 16,
    "start_time": "2022-12-04T11:59:36.991Z"
   },
   {
    "duration": 16,
    "start_time": "2022-12-04T11:59:37.009Z"
   },
   {
    "duration": 55399,
    "start_time": "2022-12-04T11:59:37.026Z"
   },
   {
    "duration": 949,
    "start_time": "2022-12-04T12:00:32.427Z"
   },
   {
    "duration": 4,
    "start_time": "2022-12-04T12:00:33.377Z"
   },
   {
    "duration": 7,
    "start_time": "2022-12-04T12:00:33.383Z"
   },
   {
    "duration": 22,
    "start_time": "2022-12-04T12:00:33.392Z"
   },
   {
    "duration": 5,
    "start_time": "2022-12-04T12:00:33.416Z"
   },
   {
    "duration": 12,
    "start_time": "2022-12-04T12:00:33.422Z"
   },
   {
    "duration": 16,
    "start_time": "2022-12-04T12:00:33.435Z"
   },
   {
    "duration": 24,
    "start_time": "2022-12-04T12:00:33.453Z"
   },
   {
    "duration": 3,
    "start_time": "2022-12-04T12:00:33.479Z"
   },
   {
    "duration": 16,
    "start_time": "2022-12-04T12:00:33.484Z"
   },
   {
    "duration": 13,
    "start_time": "2022-12-04T12:00:33.502Z"
   },
   {
    "duration": 10,
    "start_time": "2022-12-04T12:00:33.519Z"
   },
   {
    "duration": 4,
    "start_time": "2022-12-04T12:00:33.531Z"
   },
   {
    "duration": 27,
    "start_time": "2022-12-04T12:00:33.537Z"
   },
   {
    "duration": 49,
    "start_time": "2022-12-04T12:00:33.565Z"
   },
   {
    "duration": 121,
    "start_time": "2022-12-04T12:00:33.615Z"
   },
   {
    "duration": 250,
    "start_time": "2022-12-04T12:00:33.737Z"
   },
   {
    "duration": 181,
    "start_time": "2022-12-04T12:00:33.989Z"
   },
   {
    "duration": 2,
    "start_time": "2022-12-04T12:00:34.172Z"
   },
   {
    "duration": 5,
    "start_time": "2022-12-04T12:40:10.285Z"
   },
   {
    "duration": 55,
    "start_time": "2022-12-04T12:40:12.146Z"
   },
   {
    "duration": 6,
    "start_time": "2022-12-04T12:40:20.749Z"
   },
   {
    "duration": 9,
    "start_time": "2022-12-04T12:40:22.098Z"
   },
   {
    "duration": 12,
    "start_time": "2022-12-04T12:40:23.527Z"
   },
   {
    "duration": 56405,
    "start_time": "2022-12-04T12:40:25.025Z"
   },
   {
    "duration": 970,
    "start_time": "2022-12-04T12:41:21.432Z"
   },
   {
    "duration": 5,
    "start_time": "2022-12-04T12:41:22.404Z"
   },
   {
    "duration": 10,
    "start_time": "2022-12-04T12:41:22.416Z"
   },
   {
    "duration": 20,
    "start_time": "2022-12-04T12:41:22.427Z"
   },
   {
    "duration": 9,
    "start_time": "2022-12-04T12:41:22.448Z"
   },
   {
    "duration": 11,
    "start_time": "2022-12-04T12:41:22.459Z"
   },
   {
    "duration": 19,
    "start_time": "2022-12-04T12:41:22.472Z"
   },
   {
    "duration": 25,
    "start_time": "2022-12-04T12:41:22.493Z"
   },
   {
    "duration": 3,
    "start_time": "2022-12-04T12:41:22.520Z"
   },
   {
    "duration": 19,
    "start_time": "2022-12-04T12:41:22.525Z"
   },
   {
    "duration": 10,
    "start_time": "2022-12-04T12:41:22.545Z"
   },
   {
    "duration": 14,
    "start_time": "2022-12-04T12:41:22.556Z"
   },
   {
    "duration": 4,
    "start_time": "2022-12-04T12:41:22.572Z"
   },
   {
    "duration": 17,
    "start_time": "2022-12-04T12:41:22.577Z"
   },
   {
    "duration": 40,
    "start_time": "2022-12-04T12:41:22.596Z"
   },
   {
    "duration": 128,
    "start_time": "2022-12-04T12:41:22.638Z"
   },
   {
    "duration": 220,
    "start_time": "2022-12-04T12:41:22.768Z"
   },
   {
    "duration": 170,
    "start_time": "2022-12-04T12:41:22.990Z"
   },
   {
    "duration": 139,
    "start_time": "2022-12-04T12:41:23.162Z"
   },
   {
    "duration": 13,
    "start_time": "2022-12-04T12:41:23.303Z"
   },
   {
    "duration": 5,
    "start_time": "2022-12-04T12:47:27.910Z"
   },
   {
    "duration": 13,
    "start_time": "2022-12-04T12:47:27.917Z"
   },
   {
    "duration": 14,
    "start_time": "2022-12-04T12:47:27.931Z"
   },
   {
    "duration": 73,
    "start_time": "2022-12-04T12:47:27.947Z"
   },
   {
    "duration": 202,
    "start_time": "2022-12-04T12:47:28.023Z"
   },
   {
    "duration": 617874,
    "start_time": "2022-12-04T13:02:05.861Z"
   },
   {
    "duration": 165,
    "start_time": "2022-12-04T13:12:23.737Z"
   },
   {
    "duration": 300,
    "start_time": "2022-12-04T13:12:24.325Z"
   },
   {
    "duration": 89,
    "start_time": "2022-12-04T13:12:24.627Z"
   },
   {
    "duration": 74,
    "start_time": "2022-12-04T13:22:43.547Z"
   },
   {
    "duration": 291,
    "start_time": "2022-12-04T13:22:43.624Z"
   },
   {
    "duration": 1502,
    "start_time": "2022-12-04T13:22:43.918Z"
   },
   {
    "duration": 194,
    "start_time": "2022-12-04T13:22:45.422Z"
   },
   {
    "duration": 137,
    "start_time": "2022-12-04T13:22:45.618Z"
   },
   {
    "duration": 618608,
    "start_time": "2022-12-04T13:22:45.757Z"
   },
   {
    "duration": 3,
    "start_time": "2022-12-04T13:33:04.367Z"
   },
   {
    "duration": 59,
    "start_time": "2022-12-04T13:33:04.371Z"
   },
   {
    "duration": 13,
    "start_time": "2022-12-04T13:33:04.432Z"
   },
   {
    "duration": 0,
    "start_time": "2022-12-04T13:33:04.449Z"
   },
   {
    "duration": 0,
    "start_time": "2022-12-04T13:33:04.450Z"
   },
   {
    "duration": 0,
    "start_time": "2022-12-04T13:33:04.451Z"
   },
   {
    "duration": 0,
    "start_time": "2022-12-04T13:33:04.452Z"
   },
   {
    "duration": 0,
    "start_time": "2022-12-04T13:33:04.454Z"
   },
   {
    "duration": 154,
    "start_time": "2022-12-04T13:36:31.706Z"
   },
   {
    "duration": 47,
    "start_time": "2022-12-06T09:57:10.279Z"
   },
   {
    "duration": 1658,
    "start_time": "2022-12-06T09:58:19.235Z"
   },
   {
    "duration": 12,
    "start_time": "2022-12-06T09:59:34.239Z"
   },
   {
    "duration": 74,
    "start_time": "2022-12-06T10:13:46.711Z"
   },
   {
    "duration": 9,
    "start_time": "2022-12-06T10:18:53.578Z"
   },
   {
    "duration": 79,
    "start_time": "2022-12-06T10:19:30.341Z"
   },
   {
    "duration": 124,
    "start_time": "2022-12-06T10:19:31.825Z"
   },
   {
    "duration": 7,
    "start_time": "2022-12-06T10:19:34.346Z"
   },
   {
    "duration": 11,
    "start_time": "2022-12-06T10:19:35.802Z"
   },
   {
    "duration": 13,
    "start_time": "2022-12-06T10:19:37.940Z"
   },
   {
    "duration": 58162,
    "start_time": "2022-12-06T10:19:40.879Z"
   },
   {
    "duration": 1134,
    "start_time": "2022-12-06T10:20:39.044Z"
   },
   {
    "duration": 78,
    "start_time": "2022-12-06T10:20:40.180Z"
   },
   {
    "duration": 4,
    "start_time": "2022-12-06T10:20:52.481Z"
   },
   {
    "duration": 5,
    "start_time": "2022-12-06T10:20:57.206Z"
   },
   {
    "duration": 19,
    "start_time": "2022-12-06T10:20:58.891Z"
   },
   {
    "duration": 2,
    "start_time": "2022-12-06T10:21:00.647Z"
   },
   {
    "duration": 4,
    "start_time": "2022-12-06T10:21:02.705Z"
   },
   {
    "duration": 5,
    "start_time": "2022-12-06T10:21:29.699Z"
   },
   {
    "duration": 5,
    "start_time": "2022-12-06T10:21:30.238Z"
   },
   {
    "duration": 12,
    "start_time": "2022-12-06T10:21:35.044Z"
   },
   {
    "duration": 4,
    "start_time": "2022-12-06T10:21:59.055Z"
   },
   {
    "duration": 13,
    "start_time": "2022-12-06T10:23:06.586Z"
   },
   {
    "duration": 20,
    "start_time": "2022-12-06T10:23:08.376Z"
   },
   {
    "duration": 4,
    "start_time": "2022-12-06T10:23:09.840Z"
   },
   {
    "duration": 12,
    "start_time": "2022-12-06T10:23:12.672Z"
   },
   {
    "duration": 6,
    "start_time": "2022-12-06T10:23:19.846Z"
   },
   {
    "duration": 19,
    "start_time": "2022-12-06T10:23:20.840Z"
   },
   {
    "duration": 5,
    "start_time": "2022-12-06T10:23:22.148Z"
   },
   {
    "duration": 3,
    "start_time": "2022-12-06T10:23:28.716Z"
   },
   {
    "duration": 41,
    "start_time": "2022-12-06T10:23:29.462Z"
   },
   {
    "duration": 121,
    "start_time": "2022-12-06T10:23:31.824Z"
   },
   {
    "duration": 237,
    "start_time": "2022-12-06T10:23:37.189Z"
   },
   {
    "duration": 171,
    "start_time": "2022-12-06T10:23:50.210Z"
   },
   {
    "duration": 130,
    "start_time": "2022-12-06T10:24:13.460Z"
   },
   {
    "duration": 137,
    "start_time": "2022-12-06T10:24:30.126Z"
   },
   {
    "duration": 137619,
    "start_time": "2022-12-06T10:50:25.005Z"
   },
   {
    "duration": 4,
    "start_time": "2022-12-06T10:52:42.730Z"
   },
   {
    "duration": 41,
    "start_time": "2022-12-06T10:52:42.735Z"
   },
   {
    "duration": 53,
    "start_time": "2022-12-06T10:52:42.777Z"
   },
   {
    "duration": 325,
    "start_time": "2022-12-06T10:52:42.831Z"
   },
   {
    "duration": 558,
    "start_time": "2022-12-06T10:53:35.284Z"
   },
   {
    "duration": 19,
    "start_time": "2022-12-06T11:21:07.307Z"
   },
   {
    "duration": 6,
    "start_time": "2022-12-06T11:23:07.194Z"
   },
   {
    "duration": 54,
    "start_time": "2022-12-06T11:23:28.590Z"
   },
   {
    "duration": 16,
    "start_time": "2022-12-06T11:23:55.941Z"
   },
   {
    "duration": 14,
    "start_time": "2022-12-06T11:24:36.253Z"
   },
   {
    "duration": 11,
    "start_time": "2022-12-06T11:25:20.346Z"
   },
   {
    "duration": 11,
    "start_time": "2022-12-06T11:26:07.136Z"
   },
   {
    "duration": 15930,
    "start_time": "2022-12-06T11:27:06.471Z"
   },
   {
    "duration": 4,
    "start_time": "2022-12-06T11:28:01.627Z"
   },
   {
    "duration": 11,
    "start_time": "2022-12-06T11:31:24.288Z"
   },
   {
    "duration": 15662,
    "start_time": "2022-12-06T11:31:40.342Z"
   },
   {
    "duration": 5,
    "start_time": "2022-12-06T11:31:56.006Z"
   },
   {
    "duration": 15121,
    "start_time": "2022-12-06T11:32:39.181Z"
   },
   {
    "duration": 95,
    "start_time": "2022-12-06T11:32:54.303Z"
   },
   {
    "duration": 15063,
    "start_time": "2022-12-06T11:34:44.541Z"
   },
   {
    "duration": 92,
    "start_time": "2022-12-06T11:34:59.606Z"
   },
   {
    "duration": 31200,
    "start_time": "2022-12-06T11:37:00.505Z"
   },
   {
    "duration": 93,
    "start_time": "2022-12-06T11:37:31.707Z"
   },
   {
    "duration": 31099,
    "start_time": "2022-12-06T11:39:26.107Z"
   },
   {
    "duration": 5,
    "start_time": "2022-12-06T11:39:57.297Z"
   },
   {
    "duration": 61895,
    "start_time": "2022-12-06T11:41:51.502Z"
   },
   {
    "duration": 3,
    "start_time": "2022-12-06T11:42:53.400Z"
   },
   {
    "duration": 61750,
    "start_time": "2022-12-06T11:43:57.458Z"
   },
   {
    "duration": 3,
    "start_time": "2022-12-06T11:44:59.210Z"
   },
   {
    "duration": 59406,
    "start_time": "2022-12-06T11:45:56.991Z"
   },
   {
    "duration": 96,
    "start_time": "2022-12-06T11:46:56.401Z"
   },
   {
    "duration": 59504,
    "start_time": "2022-12-06T11:52:10.002Z"
   },
   {
    "duration": 95,
    "start_time": "2022-12-06T11:53:09.602Z"
   },
   {
    "duration": 74799,
    "start_time": "2022-12-06T11:59:04.908Z"
   },
   {
    "duration": 90,
    "start_time": "2022-12-06T12:00:19.708Z"
   },
   {
    "duration": 28008,
    "start_time": "2022-12-06T12:04:43.299Z"
   },
   {
    "duration": 7,
    "start_time": "2022-12-06T12:05:11.398Z"
   },
   {
    "duration": 14998,
    "start_time": "2022-12-06T12:05:39.602Z"
   },
   {
    "duration": 4,
    "start_time": "2022-12-06T12:05:54.602Z"
   },
   {
    "duration": 8849,
    "start_time": "2022-12-06T12:07:25.355Z"
   },
   {
    "duration": 5,
    "start_time": "2022-12-06T12:07:34.206Z"
   },
   {
    "duration": 8388,
    "start_time": "2022-12-06T12:08:01.418Z"
   },
   {
    "duration": 89,
    "start_time": "2022-12-06T12:08:09.808Z"
   },
   {
    "duration": 8879,
    "start_time": "2022-12-06T12:08:26.627Z"
   },
   {
    "duration": 89,
    "start_time": "2022-12-06T12:08:35.509Z"
   },
   {
    "duration": 8603,
    "start_time": "2022-12-06T12:11:48.295Z"
   },
   {
    "duration": 4,
    "start_time": "2022-12-06T12:11:56.900Z"
   },
   {
    "duration": 15061,
    "start_time": "2022-12-06T12:12:17.636Z"
   },
   {
    "duration": 4,
    "start_time": "2022-12-06T12:12:32.700Z"
   },
   {
    "duration": 18802,
    "start_time": "2022-12-06T12:12:39.995Z"
   },
   {
    "duration": 4,
    "start_time": "2022-12-06T12:12:58.800Z"
   },
   {
    "duration": 14796,
    "start_time": "2022-12-06T12:14:46.005Z"
   },
   {
    "duration": 93,
    "start_time": "2022-12-06T12:15:00.805Z"
   },
   {
    "duration": 8982,
    "start_time": "2022-12-06T12:15:21.518Z"
   },
   {
    "duration": 4,
    "start_time": "2022-12-06T12:15:30.502Z"
   },
   {
    "duration": 10229,
    "start_time": "2022-12-06T12:15:44.070Z"
   },
   {
    "duration": 4,
    "start_time": "2022-12-06T12:15:54.301Z"
   },
   {
    "duration": 18,
    "start_time": "2022-12-06T12:55:09.850Z"
   },
   {
    "duration": 21,
    "start_time": "2022-12-06T12:55:30.148Z"
   },
   {
    "duration": 29052,
    "start_time": "2022-12-06T12:56:48.948Z"
   },
   {
    "duration": 4,
    "start_time": "2022-12-06T12:57:18.002Z"
   },
   {
    "duration": 18,
    "start_time": "2022-12-06T12:57:18.007Z"
   },
   {
    "duration": 1154,
    "start_time": "2022-12-06T12:59:51.644Z"
   },
   {
    "duration": 14,
    "start_time": "2022-12-06T13:00:06.309Z"
   },
   {
    "duration": 147667,
    "start_time": "2022-12-06T13:00:16.132Z"
   },
   {
    "duration": 4,
    "start_time": "2022-12-06T13:02:43.801Z"
   },
   {
    "duration": 90,
    "start_time": "2022-12-06T13:02:43.807Z"
   },
   {
    "duration": 0,
    "start_time": "2022-12-06T13:30:06.609Z"
   },
   {
    "duration": 0,
    "start_time": "2022-12-06T13:30:06.610Z"
   },
   {
    "duration": 0,
    "start_time": "2022-12-06T13:30:06.612Z"
   },
   {
    "duration": 6,
    "start_time": "2022-12-06T16:35:36.520Z"
   },
   {
    "duration": 71,
    "start_time": "2022-12-06T16:35:36.530Z"
   },
   {
    "duration": 6,
    "start_time": "2022-12-06T16:35:36.603Z"
   },
   {
    "duration": 12,
    "start_time": "2022-12-06T16:35:36.611Z"
   },
   {
    "duration": 14,
    "start_time": "2022-12-06T16:35:36.626Z"
   },
   {
    "duration": 58963,
    "start_time": "2022-12-06T16:35:36.642Z"
   },
   {
    "duration": 1055,
    "start_time": "2022-12-06T16:36:35.607Z"
   },
   {
    "duration": 2,
    "start_time": "2022-12-06T16:36:36.664Z"
   },
   {
    "duration": 9,
    "start_time": "2022-12-06T16:36:36.668Z"
   },
   {
    "duration": 18,
    "start_time": "2022-12-06T16:36:36.679Z"
   },
   {
    "duration": 16,
    "start_time": "2022-12-06T16:36:36.700Z"
   },
   {
    "duration": 2,
    "start_time": "2022-12-06T16:36:36.717Z"
   },
   {
    "duration": 8,
    "start_time": "2022-12-06T16:36:36.721Z"
   },
   {
    "duration": 6,
    "start_time": "2022-12-06T16:36:36.730Z"
   },
   {
    "duration": 14,
    "start_time": "2022-12-06T16:36:36.738Z"
   },
   {
    "duration": 55,
    "start_time": "2022-12-06T16:36:36.754Z"
   },
   {
    "duration": 4,
    "start_time": "2022-12-06T16:36:36.811Z"
   },
   {
    "duration": 15,
    "start_time": "2022-12-06T16:36:36.816Z"
   },
   {
    "duration": 4,
    "start_time": "2022-12-06T16:36:36.833Z"
   },
   {
    "duration": 14,
    "start_time": "2022-12-06T16:36:36.839Z"
   },
   {
    "duration": 5,
    "start_time": "2022-12-06T16:36:36.854Z"
   },
   {
    "duration": 10,
    "start_time": "2022-12-06T16:36:36.861Z"
   },
   {
    "duration": 36,
    "start_time": "2022-12-06T16:36:36.873Z"
   },
   {
    "duration": 0,
    "start_time": "2022-12-06T16:36:36.913Z"
   },
   {
    "duration": 0,
    "start_time": "2022-12-06T16:36:36.915Z"
   },
   {
    "duration": 0,
    "start_time": "2022-12-06T16:36:36.917Z"
   },
   {
    "duration": 0,
    "start_time": "2022-12-06T16:36:36.919Z"
   },
   {
    "duration": 0,
    "start_time": "2022-12-06T16:36:36.920Z"
   },
   {
    "duration": 0,
    "start_time": "2022-12-06T16:36:36.921Z"
   },
   {
    "duration": 0,
    "start_time": "2022-12-06T16:36:36.922Z"
   },
   {
    "duration": 0,
    "start_time": "2022-12-06T16:36:36.923Z"
   },
   {
    "duration": 0,
    "start_time": "2022-12-06T16:36:36.924Z"
   },
   {
    "duration": 0,
    "start_time": "2022-12-06T16:36:36.925Z"
   },
   {
    "duration": 0,
    "start_time": "2022-12-06T16:36:36.926Z"
   },
   {
    "duration": 0,
    "start_time": "2022-12-06T16:36:36.927Z"
   },
   {
    "duration": 0,
    "start_time": "2022-12-06T16:36:36.928Z"
   },
   {
    "duration": 0,
    "start_time": "2022-12-06T16:36:36.929Z"
   },
   {
    "duration": 0,
    "start_time": "2022-12-06T16:36:36.930Z"
   },
   {
    "duration": 0,
    "start_time": "2022-12-06T16:36:36.931Z"
   },
   {
    "duration": 0,
    "start_time": "2022-12-06T16:36:36.932Z"
   },
   {
    "duration": 0,
    "start_time": "2022-12-06T16:36:36.933Z"
   },
   {
    "duration": 0,
    "start_time": "2022-12-06T16:36:36.934Z"
   },
   {
    "duration": 0,
    "start_time": "2022-12-06T16:36:36.935Z"
   },
   {
    "duration": 0,
    "start_time": "2022-12-06T16:36:36.936Z"
   },
   {
    "duration": 0,
    "start_time": "2022-12-06T16:36:36.937Z"
   },
   {
    "duration": 0,
    "start_time": "2022-12-06T16:36:36.938Z"
   },
   {
    "duration": 0,
    "start_time": "2022-12-06T16:36:36.938Z"
   },
   {
    "duration": 0,
    "start_time": "2022-12-06T16:36:36.939Z"
   },
   {
    "duration": 0,
    "start_time": "2022-12-06T16:36:36.940Z"
   },
   {
    "duration": 0,
    "start_time": "2022-12-06T16:36:36.941Z"
   },
   {
    "duration": 0,
    "start_time": "2022-12-06T16:36:36.997Z"
   },
   {
    "duration": 0,
    "start_time": "2022-12-06T16:36:36.998Z"
   },
   {
    "duration": 0,
    "start_time": "2022-12-06T16:36:36.999Z"
   },
   {
    "duration": 0,
    "start_time": "2022-12-06T16:36:37.001Z"
   },
   {
    "duration": 0,
    "start_time": "2022-12-06T16:36:37.002Z"
   },
   {
    "duration": 0,
    "start_time": "2022-12-06T16:36:37.003Z"
   },
   {
    "duration": 0,
    "start_time": "2022-12-06T16:36:37.004Z"
   },
   {
    "duration": 0,
    "start_time": "2022-12-06T16:36:37.005Z"
   },
   {
    "duration": 0,
    "start_time": "2022-12-06T16:36:37.006Z"
   },
   {
    "duration": 0,
    "start_time": "2022-12-06T16:36:37.008Z"
   },
   {
    "duration": 0,
    "start_time": "2022-12-06T16:36:37.009Z"
   },
   {
    "duration": 0,
    "start_time": "2022-12-06T16:36:37.010Z"
   },
   {
    "duration": 0,
    "start_time": "2022-12-06T16:36:37.011Z"
   },
   {
    "duration": 0,
    "start_time": "2022-12-06T16:36:37.013Z"
   },
   {
    "duration": 0,
    "start_time": "2022-12-06T16:36:37.014Z"
   },
   {
    "duration": 0,
    "start_time": "2022-12-06T16:36:37.014Z"
   },
   {
    "duration": 0,
    "start_time": "2022-12-06T16:36:37.015Z"
   },
   {
    "duration": 1,
    "start_time": "2022-12-06T16:36:37.016Z"
   },
   {
    "duration": 0,
    "start_time": "2022-12-06T16:36:37.017Z"
   },
   {
    "duration": 0,
    "start_time": "2022-12-06T16:36:37.018Z"
   },
   {
    "duration": 1670,
    "start_time": "2022-12-07T08:08:28.813Z"
   },
   {
    "duration": 0,
    "start_time": "2022-12-07T08:08:30.487Z"
   },
   {
    "duration": 0,
    "start_time": "2022-12-07T08:08:30.488Z"
   },
   {
    "duration": 0,
    "start_time": "2022-12-07T08:08:30.489Z"
   },
   {
    "duration": 0,
    "start_time": "2022-12-07T08:08:30.490Z"
   },
   {
    "duration": 0,
    "start_time": "2022-12-07T08:08:30.491Z"
   },
   {
    "duration": 0,
    "start_time": "2022-12-07T08:08:30.492Z"
   },
   {
    "duration": 0,
    "start_time": "2022-12-07T08:08:30.494Z"
   },
   {
    "duration": 0,
    "start_time": "2022-12-07T08:08:30.495Z"
   },
   {
    "duration": 0,
    "start_time": "2022-12-07T08:08:30.496Z"
   },
   {
    "duration": 0,
    "start_time": "2022-12-07T08:08:30.505Z"
   },
   {
    "duration": 0,
    "start_time": "2022-12-07T08:08:30.506Z"
   },
   {
    "duration": 0,
    "start_time": "2022-12-07T08:08:30.507Z"
   },
   {
    "duration": 0,
    "start_time": "2022-12-07T08:08:30.508Z"
   },
   {
    "duration": 0,
    "start_time": "2022-12-07T08:08:30.509Z"
   },
   {
    "duration": 0,
    "start_time": "2022-12-07T08:08:30.510Z"
   },
   {
    "duration": 0,
    "start_time": "2022-12-07T08:08:30.511Z"
   },
   {
    "duration": 0,
    "start_time": "2022-12-07T08:08:30.512Z"
   },
   {
    "duration": 0,
    "start_time": "2022-12-07T08:08:30.513Z"
   },
   {
    "duration": 0,
    "start_time": "2022-12-07T08:08:30.514Z"
   },
   {
    "duration": 0,
    "start_time": "2022-12-07T08:08:30.515Z"
   },
   {
    "duration": 1,
    "start_time": "2022-12-07T08:08:30.515Z"
   },
   {
    "duration": 0,
    "start_time": "2022-12-07T08:08:30.517Z"
   },
   {
    "duration": 0,
    "start_time": "2022-12-07T08:08:30.518Z"
   },
   {
    "duration": 0,
    "start_time": "2022-12-07T08:08:30.519Z"
   },
   {
    "duration": 0,
    "start_time": "2022-12-07T08:08:30.519Z"
   },
   {
    "duration": 0,
    "start_time": "2022-12-07T08:08:30.520Z"
   },
   {
    "duration": 0,
    "start_time": "2022-12-07T08:08:30.521Z"
   },
   {
    "duration": 0,
    "start_time": "2022-12-07T08:08:30.522Z"
   },
   {
    "duration": 0,
    "start_time": "2022-12-07T08:08:30.522Z"
   },
   {
    "duration": 0,
    "start_time": "2022-12-07T08:08:30.523Z"
   },
   {
    "duration": 0,
    "start_time": "2022-12-07T08:08:30.524Z"
   },
   {
    "duration": 0,
    "start_time": "2022-12-07T08:08:30.525Z"
   },
   {
    "duration": 0,
    "start_time": "2022-12-07T08:08:30.526Z"
   },
   {
    "duration": 0,
    "start_time": "2022-12-07T08:08:30.527Z"
   },
   {
    "duration": 0,
    "start_time": "2022-12-07T08:08:30.528Z"
   },
   {
    "duration": 0,
    "start_time": "2022-12-07T08:08:30.529Z"
   },
   {
    "duration": 0,
    "start_time": "2022-12-07T08:08:30.530Z"
   },
   {
    "duration": 0,
    "start_time": "2022-12-07T08:08:30.531Z"
   },
   {
    "duration": 0,
    "start_time": "2022-12-07T08:08:30.532Z"
   },
   {
    "duration": 0,
    "start_time": "2022-12-07T08:08:30.533Z"
   },
   {
    "duration": 0,
    "start_time": "2022-12-07T08:08:30.534Z"
   },
   {
    "duration": 0,
    "start_time": "2022-12-07T08:08:30.535Z"
   },
   {
    "duration": 0,
    "start_time": "2022-12-07T08:08:30.536Z"
   },
   {
    "duration": 0,
    "start_time": "2022-12-07T08:08:30.537Z"
   },
   {
    "duration": 0,
    "start_time": "2022-12-07T08:08:30.538Z"
   },
   {
    "duration": 0,
    "start_time": "2022-12-07T08:08:30.539Z"
   },
   {
    "duration": 0,
    "start_time": "2022-12-07T08:08:30.541Z"
   },
   {
    "duration": 0,
    "start_time": "2022-12-07T08:08:30.542Z"
   },
   {
    "duration": 0,
    "start_time": "2022-12-07T08:08:30.543Z"
   },
   {
    "duration": 0,
    "start_time": "2022-12-07T08:08:30.544Z"
   },
   {
    "duration": 0,
    "start_time": "2022-12-07T08:08:30.545Z"
   },
   {
    "duration": 0,
    "start_time": "2022-12-07T08:08:30.546Z"
   },
   {
    "duration": 0,
    "start_time": "2022-12-07T08:08:30.547Z"
   },
   {
    "duration": 0,
    "start_time": "2022-12-07T08:08:30.549Z"
   },
   {
    "duration": 0,
    "start_time": "2022-12-07T08:08:30.550Z"
   },
   {
    "duration": 0,
    "start_time": "2022-12-07T08:08:30.551Z"
   },
   {
    "duration": 0,
    "start_time": "2022-12-07T08:08:30.552Z"
   },
   {
    "duration": 0,
    "start_time": "2022-12-07T08:08:30.553Z"
   },
   {
    "duration": 0,
    "start_time": "2022-12-07T08:08:30.554Z"
   },
   {
    "duration": 0,
    "start_time": "2022-12-07T08:08:30.555Z"
   },
   {
    "duration": 0,
    "start_time": "2022-12-07T08:08:30.557Z"
   },
   {
    "duration": 0,
    "start_time": "2022-12-07T08:08:30.558Z"
   },
   {
    "duration": 0,
    "start_time": "2022-12-07T08:08:30.559Z"
   },
   {
    "duration": 0,
    "start_time": "2022-12-07T08:08:30.561Z"
   },
   {
    "duration": 0,
    "start_time": "2022-12-07T08:08:30.562Z"
   },
   {
    "duration": 0,
    "start_time": "2022-12-07T08:08:30.563Z"
   },
   {
    "duration": 0,
    "start_time": "2022-12-07T08:08:30.564Z"
   },
   {
    "duration": 0,
    "start_time": "2022-12-07T08:08:30.565Z"
   },
   {
    "duration": 0,
    "start_time": "2022-12-07T08:08:30.566Z"
   },
   {
    "duration": 11,
    "start_time": "2022-12-07T08:17:50.628Z"
   },
   {
    "duration": 78,
    "start_time": "2022-12-07T08:20:14.516Z"
   },
   {
    "duration": 78,
    "start_time": "2022-12-07T08:20:23.087Z"
   },
   {
    "duration": 75,
    "start_time": "2022-12-07T08:21:02.975Z"
   },
   {
    "duration": 115,
    "start_time": "2022-12-07T08:21:34.983Z"
   },
   {
    "duration": 72,
    "start_time": "2022-12-07T08:27:04.693Z"
   },
   {
    "duration": 3373,
    "start_time": "2022-12-07T08:27:19.921Z"
   },
   {
    "duration": 91,
    "start_time": "2022-12-07T08:27:36.779Z"
   },
   {
    "duration": 2095,
    "start_time": "2022-12-07T08:27:50.169Z"
   },
   {
    "duration": 6,
    "start_time": "2022-12-07T08:27:55.063Z"
   },
   {
    "duration": 22,
    "start_time": "2022-12-07T08:28:22.641Z"
   },
   {
    "duration": 185,
    "start_time": "2022-12-07T08:28:32.839Z"
   },
   {
    "duration": 5,
    "start_time": "2022-12-07T08:28:35.271Z"
   },
   {
    "duration": 9,
    "start_time": "2022-12-07T08:28:36.679Z"
   },
   {
    "duration": 13,
    "start_time": "2022-12-07T08:28:38.520Z"
   },
   {
    "duration": 53471,
    "start_time": "2022-12-07T08:28:40.242Z"
   },
   {
    "duration": 919,
    "start_time": "2022-12-07T08:29:33.715Z"
   },
   {
    "duration": 13240,
    "start_time": "2022-12-07T08:29:34.636Z"
   },
   {
    "duration": 107,
    "start_time": "2022-12-07T08:36:57.920Z"
   },
   {
    "duration": 11,
    "start_time": "2022-12-07T08:57:09.489Z"
   },
   {
    "duration": 2275,
    "start_time": "2022-12-07T08:57:16.702Z"
   },
   {
    "duration": 7,
    "start_time": "2022-12-07T08:57:18.980Z"
   },
   {
    "duration": 84,
    "start_time": "2022-12-07T08:57:18.989Z"
   },
   {
    "duration": 7,
    "start_time": "2022-12-07T08:57:19.075Z"
   },
   {
    "duration": 12,
    "start_time": "2022-12-07T08:57:19.083Z"
   },
   {
    "duration": 21,
    "start_time": "2022-12-07T08:57:19.096Z"
   },
   {
    "duration": 54910,
    "start_time": "2022-12-07T08:57:19.118Z"
   },
   {
    "duration": 937,
    "start_time": "2022-12-07T08:58:14.030Z"
   },
   {
    "duration": 13626,
    "start_time": "2022-12-07T08:58:14.969Z"
   },
   {
    "duration": 6,
    "start_time": "2022-12-07T08:58:28.606Z"
   },
   {
    "duration": 21,
    "start_time": "2022-12-07T08:58:28.614Z"
   },
   {
    "duration": 18,
    "start_time": "2022-12-07T08:58:28.637Z"
   },
   {
    "duration": 2,
    "start_time": "2022-12-07T08:58:28.657Z"
   },
   {
    "duration": 9,
    "start_time": "2022-12-07T08:58:28.661Z"
   },
   {
    "duration": 6,
    "start_time": "2022-12-07T08:58:28.672Z"
   },
   {
    "duration": 32,
    "start_time": "2022-12-07T08:58:28.680Z"
   },
   {
    "duration": 23,
    "start_time": "2022-12-07T08:58:28.714Z"
   },
   {
    "duration": 3,
    "start_time": "2022-12-07T08:58:28.739Z"
   },
   {
    "duration": 13,
    "start_time": "2022-12-07T08:58:28.744Z"
   },
   {
    "duration": 5,
    "start_time": "2022-12-07T08:58:28.758Z"
   },
   {
    "duration": 42,
    "start_time": "2022-12-07T08:58:28.764Z"
   },
   {
    "duration": 4,
    "start_time": "2022-12-07T08:58:28.808Z"
   },
   {
    "duration": 6,
    "start_time": "2022-12-07T08:58:28.814Z"
   },
   {
    "duration": 16,
    "start_time": "2022-12-07T08:58:28.821Z"
   },
   {
    "duration": 0,
    "start_time": "2022-12-07T08:58:28.840Z"
   },
   {
    "duration": 0,
    "start_time": "2022-12-07T08:58:28.841Z"
   },
   {
    "duration": 0,
    "start_time": "2022-12-07T08:58:28.842Z"
   },
   {
    "duration": 0,
    "start_time": "2022-12-07T08:58:28.843Z"
   },
   {
    "duration": 0,
    "start_time": "2022-12-07T08:58:28.844Z"
   },
   {
    "duration": 0,
    "start_time": "2022-12-07T08:58:28.845Z"
   },
   {
    "duration": 0,
    "start_time": "2022-12-07T08:58:28.846Z"
   },
   {
    "duration": 0,
    "start_time": "2022-12-07T08:58:28.847Z"
   },
   {
    "duration": 0,
    "start_time": "2022-12-07T08:58:28.847Z"
   },
   {
    "duration": 0,
    "start_time": "2022-12-07T08:58:28.848Z"
   },
   {
    "duration": 0,
    "start_time": "2022-12-07T08:58:28.849Z"
   },
   {
    "duration": 0,
    "start_time": "2022-12-07T08:58:28.851Z"
   },
   {
    "duration": 0,
    "start_time": "2022-12-07T08:58:28.852Z"
   },
   {
    "duration": 0,
    "start_time": "2022-12-07T08:58:28.853Z"
   },
   {
    "duration": 0,
    "start_time": "2022-12-07T08:58:28.854Z"
   },
   {
    "duration": 0,
    "start_time": "2022-12-07T08:58:28.855Z"
   },
   {
    "duration": 0,
    "start_time": "2022-12-07T08:58:28.856Z"
   },
   {
    "duration": 0,
    "start_time": "2022-12-07T08:58:28.857Z"
   },
   {
    "duration": 0,
    "start_time": "2022-12-07T08:58:28.858Z"
   },
   {
    "duration": 0,
    "start_time": "2022-12-07T08:58:28.859Z"
   },
   {
    "duration": 0,
    "start_time": "2022-12-07T08:58:28.905Z"
   },
   {
    "duration": 0,
    "start_time": "2022-12-07T08:58:28.905Z"
   },
   {
    "duration": 0,
    "start_time": "2022-12-07T08:58:28.906Z"
   },
   {
    "duration": 0,
    "start_time": "2022-12-07T08:58:28.908Z"
   },
   {
    "duration": 0,
    "start_time": "2022-12-07T08:58:28.909Z"
   },
   {
    "duration": 0,
    "start_time": "2022-12-07T08:58:28.910Z"
   },
   {
    "duration": 0,
    "start_time": "2022-12-07T08:58:28.912Z"
   },
   {
    "duration": 0,
    "start_time": "2022-12-07T08:58:28.912Z"
   },
   {
    "duration": 0,
    "start_time": "2022-12-07T08:58:28.914Z"
   },
   {
    "duration": 0,
    "start_time": "2022-12-07T08:58:28.915Z"
   },
   {
    "duration": 0,
    "start_time": "2022-12-07T08:58:28.916Z"
   },
   {
    "duration": 0,
    "start_time": "2022-12-07T08:58:28.916Z"
   },
   {
    "duration": 0,
    "start_time": "2022-12-07T08:58:28.917Z"
   },
   {
    "duration": 0,
    "start_time": "2022-12-07T08:58:28.918Z"
   },
   {
    "duration": 0,
    "start_time": "2022-12-07T08:58:28.919Z"
   },
   {
    "duration": 0,
    "start_time": "2022-12-07T08:58:28.920Z"
   },
   {
    "duration": 0,
    "start_time": "2022-12-07T08:58:28.921Z"
   },
   {
    "duration": 0,
    "start_time": "2022-12-07T08:58:28.922Z"
   },
   {
    "duration": 0,
    "start_time": "2022-12-07T08:58:28.923Z"
   },
   {
    "duration": 0,
    "start_time": "2022-12-07T08:58:28.924Z"
   },
   {
    "duration": 0,
    "start_time": "2022-12-07T08:58:28.925Z"
   },
   {
    "duration": 0,
    "start_time": "2022-12-07T08:58:28.925Z"
   },
   {
    "duration": 0,
    "start_time": "2022-12-07T08:58:28.926Z"
   },
   {
    "duration": 0,
    "start_time": "2022-12-07T08:58:28.927Z"
   },
   {
    "duration": 0,
    "start_time": "2022-12-07T08:58:28.928Z"
   },
   {
    "duration": 0,
    "start_time": "2022-12-07T08:58:28.929Z"
   },
   {
    "duration": 0,
    "start_time": "2022-12-07T08:58:28.930Z"
   },
   {
    "duration": 6,
    "start_time": "2022-12-07T09:00:49.054Z"
   },
   {
    "duration": 6,
    "start_time": "2022-12-07T09:00:50.697Z"
   },
   {
    "duration": 4,
    "start_time": "2022-12-07T09:00:59.849Z"
   },
   {
    "duration": 6,
    "start_time": "2022-12-07T09:01:00.985Z"
   },
   {
    "duration": 14,
    "start_time": "2022-12-07T09:04:56.294Z"
   },
   {
    "duration": 5,
    "start_time": "2022-12-07T09:04:57.250Z"
   },
   {
    "duration": 11,
    "start_time": "2022-12-07T09:05:01.636Z"
   },
   {
    "duration": 20,
    "start_time": "2022-12-07T09:05:06.970Z"
   },
   {
    "duration": 4,
    "start_time": "2022-12-07T09:05:08.151Z"
   },
   {
    "duration": 16,
    "start_time": "2022-12-07T09:05:10.937Z"
   },
   {
    "duration": 2314,
    "start_time": "2022-12-07T09:05:29.701Z"
   },
   {
    "duration": 7,
    "start_time": "2022-12-07T09:05:32.018Z"
   },
   {
    "duration": 75,
    "start_time": "2022-12-07T09:05:32.027Z"
   },
   {
    "duration": 7,
    "start_time": "2022-12-07T09:05:32.105Z"
   },
   {
    "duration": 25,
    "start_time": "2022-12-07T09:05:32.114Z"
   },
   {
    "duration": 18,
    "start_time": "2022-12-07T09:05:32.141Z"
   },
   {
    "duration": 57253,
    "start_time": "2022-12-07T09:05:32.161Z"
   },
   {
    "duration": 1279,
    "start_time": "2022-12-07T09:06:29.415Z"
   },
   {
    "duration": 13342,
    "start_time": "2022-12-07T09:06:30.696Z"
   },
   {
    "duration": 4,
    "start_time": "2022-12-07T09:06:44.041Z"
   },
   {
    "duration": 8,
    "start_time": "2022-12-07T09:06:44.047Z"
   },
   {
    "duration": 15,
    "start_time": "2022-12-07T09:06:44.057Z"
   },
   {
    "duration": 2,
    "start_time": "2022-12-07T09:06:44.073Z"
   },
   {
    "duration": 37,
    "start_time": "2022-12-07T09:06:44.076Z"
   },
   {
    "duration": 6,
    "start_time": "2022-12-07T09:06:44.114Z"
   },
   {
    "duration": 14,
    "start_time": "2022-12-07T09:06:44.122Z"
   },
   {
    "duration": 25,
    "start_time": "2022-12-07T09:06:44.137Z"
   },
   {
    "duration": 5,
    "start_time": "2022-12-07T09:06:44.163Z"
   },
   {
    "duration": 41,
    "start_time": "2022-12-07T09:06:44.169Z"
   },
   {
    "duration": 4,
    "start_time": "2022-12-07T09:06:44.212Z"
   },
   {
    "duration": 12,
    "start_time": "2022-12-07T09:06:44.218Z"
   },
   {
    "duration": 4,
    "start_time": "2022-12-07T09:06:44.231Z"
   },
   {
    "duration": 4,
    "start_time": "2022-12-07T09:06:44.237Z"
   },
   {
    "duration": 16,
    "start_time": "2022-12-07T09:06:44.242Z"
   },
   {
    "duration": 0,
    "start_time": "2022-12-07T09:06:44.260Z"
   },
   {
    "duration": 0,
    "start_time": "2022-12-07T09:06:44.262Z"
   },
   {
    "duration": 0,
    "start_time": "2022-12-07T09:06:44.263Z"
   },
   {
    "duration": 0,
    "start_time": "2022-12-07T09:06:44.264Z"
   },
   {
    "duration": 0,
    "start_time": "2022-12-07T09:06:44.265Z"
   },
   {
    "duration": 0,
    "start_time": "2022-12-07T09:06:44.266Z"
   },
   {
    "duration": 0,
    "start_time": "2022-12-07T09:06:44.267Z"
   },
   {
    "duration": 0,
    "start_time": "2022-12-07T09:06:44.268Z"
   },
   {
    "duration": 0,
    "start_time": "2022-12-07T09:06:44.269Z"
   },
   {
    "duration": 0,
    "start_time": "2022-12-07T09:06:44.304Z"
   },
   {
    "duration": 0,
    "start_time": "2022-12-07T09:06:44.306Z"
   },
   {
    "duration": 0,
    "start_time": "2022-12-07T09:06:44.307Z"
   },
   {
    "duration": 0,
    "start_time": "2022-12-07T09:06:44.308Z"
   },
   {
    "duration": 0,
    "start_time": "2022-12-07T09:06:44.309Z"
   },
   {
    "duration": 0,
    "start_time": "2022-12-07T09:06:44.310Z"
   },
   {
    "duration": 0,
    "start_time": "2022-12-07T09:06:44.311Z"
   },
   {
    "duration": 0,
    "start_time": "2022-12-07T09:06:44.312Z"
   },
   {
    "duration": 0,
    "start_time": "2022-12-07T09:06:44.313Z"
   },
   {
    "duration": 0,
    "start_time": "2022-12-07T09:06:44.314Z"
   },
   {
    "duration": 0,
    "start_time": "2022-12-07T09:06:44.315Z"
   },
   {
    "duration": 0,
    "start_time": "2022-12-07T09:06:44.317Z"
   },
   {
    "duration": 0,
    "start_time": "2022-12-07T09:06:44.318Z"
   },
   {
    "duration": 0,
    "start_time": "2022-12-07T09:06:44.319Z"
   },
   {
    "duration": 0,
    "start_time": "2022-12-07T09:06:44.320Z"
   },
   {
    "duration": 0,
    "start_time": "2022-12-07T09:06:44.321Z"
   },
   {
    "duration": 0,
    "start_time": "2022-12-07T09:06:44.322Z"
   },
   {
    "duration": 0,
    "start_time": "2022-12-07T09:06:44.322Z"
   },
   {
    "duration": 0,
    "start_time": "2022-12-07T09:06:44.323Z"
   },
   {
    "duration": 0,
    "start_time": "2022-12-07T09:06:44.325Z"
   },
   {
    "duration": 0,
    "start_time": "2022-12-07T09:06:44.326Z"
   },
   {
    "duration": 0,
    "start_time": "2022-12-07T09:06:44.327Z"
   },
   {
    "duration": 0,
    "start_time": "2022-12-07T09:06:44.328Z"
   },
   {
    "duration": 0,
    "start_time": "2022-12-07T09:06:44.329Z"
   },
   {
    "duration": 0,
    "start_time": "2022-12-07T09:06:44.330Z"
   },
   {
    "duration": 0,
    "start_time": "2022-12-07T09:06:44.331Z"
   },
   {
    "duration": 0,
    "start_time": "2022-12-07T09:06:44.332Z"
   },
   {
    "duration": 0,
    "start_time": "2022-12-07T09:06:44.333Z"
   },
   {
    "duration": 0,
    "start_time": "2022-12-07T09:06:44.334Z"
   },
   {
    "duration": 0,
    "start_time": "2022-12-07T09:06:44.335Z"
   },
   {
    "duration": 0,
    "start_time": "2022-12-07T09:06:44.337Z"
   },
   {
    "duration": 0,
    "start_time": "2022-12-07T09:06:44.338Z"
   },
   {
    "duration": 0,
    "start_time": "2022-12-07T09:06:44.339Z"
   },
   {
    "duration": 0,
    "start_time": "2022-12-07T09:06:44.340Z"
   },
   {
    "duration": 0,
    "start_time": "2022-12-07T09:06:44.405Z"
   },
   {
    "duration": 0,
    "start_time": "2022-12-07T09:06:44.406Z"
   },
   {
    "duration": 0,
    "start_time": "2022-12-07T09:06:44.407Z"
   },
   {
    "duration": 0,
    "start_time": "2022-12-07T09:06:44.408Z"
   },
   {
    "duration": 3,
    "start_time": "2022-12-07T09:07:35.313Z"
   },
   {
    "duration": 54,
    "start_time": "2022-12-07T09:07:37.179Z"
   },
   {
    "duration": 127,
    "start_time": "2022-12-07T09:07:45.156Z"
   },
   {
    "duration": 241,
    "start_time": "2022-12-07T09:07:47.937Z"
   },
   {
    "duration": 165,
    "start_time": "2022-12-07T09:07:52.577Z"
   },
   {
    "duration": 129,
    "start_time": "2022-12-07T09:07:59.370Z"
   },
   {
    "duration": 117464,
    "start_time": "2022-12-07T09:08:06.940Z"
   },
   {
    "duration": 3,
    "start_time": "2022-12-07T09:10:04.406Z"
   },
   {
    "duration": 37,
    "start_time": "2022-12-07T09:10:04.411Z"
   },
   {
    "duration": 40,
    "start_time": "2022-12-07T09:10:04.450Z"
   },
   {
    "duration": 473,
    "start_time": "2022-12-07T09:10:04.504Z"
   },
   {
    "duration": 38,
    "start_time": "2022-12-07T09:10:04.978Z"
   },
   {
    "duration": 103704,
    "start_time": "2022-12-07T09:10:05.106Z"
   },
   {
    "duration": 4,
    "start_time": "2022-12-07T09:11:48.812Z"
   },
   {
    "duration": 33,
    "start_time": "2022-12-07T09:12:37.273Z"
   },
   {
    "duration": 74,
    "start_time": "2022-12-07T09:26:12.214Z"
   },
   {
    "duration": 73,
    "start_time": "2022-12-07T09:27:03.635Z"
   },
   {
    "duration": 141,
    "start_time": "2022-12-07T09:27:45.873Z"
   },
   {
    "duration": 171215,
    "start_time": "2022-12-07T09:28:58.802Z"
   },
   {
    "duration": 4,
    "start_time": "2022-12-07T09:31:50.019Z"
   },
   {
    "duration": 86,
    "start_time": "2022-12-07T09:31:50.025Z"
   },
   {
    "duration": 262912,
    "start_time": "2022-12-07T09:32:37.907Z"
   },
   {
    "duration": 4,
    "start_time": "2022-12-07T09:37:00.821Z"
   },
   {
    "duration": 85,
    "start_time": "2022-12-07T09:37:00.826Z"
   },
   {
    "duration": 194,
    "start_time": "2022-12-07T09:37:00.914Z"
   },
   {
    "duration": 102397,
    "start_time": "2022-12-07T09:39:12.213Z"
   },
   {
    "duration": 5,
    "start_time": "2022-12-07T09:40:54.612Z"
   },
   {
    "duration": 92,
    "start_time": "2022-12-07T09:40:54.618Z"
   },
   {
    "duration": 94,
    "start_time": "2022-12-07T09:41:29.993Z"
   },
   {
    "duration": 71,
    "start_time": "2022-12-07T09:41:48.436Z"
   },
   {
    "duration": 73,
    "start_time": "2022-12-07T09:41:58.487Z"
   },
   {
    "duration": 79,
    "start_time": "2022-12-07T09:42:16.543Z"
   },
   {
    "duration": 15,
    "start_time": "2022-12-07T09:42:25.347Z"
   },
   {
    "duration": 54401,
    "start_time": "2022-12-07T09:42:41.416Z"
   },
   {
    "duration": 88,
    "start_time": "2022-12-07T09:43:35.819Z"
   },
   {
    "duration": 95,
    "start_time": "2022-12-07T09:43:35.909Z"
   },
   {
    "duration": 15,
    "start_time": "2022-12-07T09:43:53.112Z"
   },
   {
    "duration": 36550,
    "start_time": "2022-12-07T09:44:02.656Z"
   },
   {
    "duration": 4,
    "start_time": "2022-12-07T09:44:39.207Z"
   },
   {
    "duration": 98,
    "start_time": "2022-12-07T09:44:39.212Z"
   },
   {
    "duration": 53936,
    "start_time": "2022-12-07T09:44:59.982Z"
   },
   {
    "duration": 87,
    "start_time": "2022-12-07T09:45:53.920Z"
   },
   {
    "duration": 98,
    "start_time": "2022-12-07T09:45:54.008Z"
   },
   {
    "duration": 5692,
    "start_time": "2022-12-07T09:46:35.014Z"
   },
   {
    "duration": 3,
    "start_time": "2022-12-07T09:46:40.708Z"
   },
   {
    "duration": 98,
    "start_time": "2022-12-07T09:46:40.713Z"
   },
   {
    "duration": 53345,
    "start_time": "2022-12-07T09:47:18.468Z"
   },
   {
    "duration": 3,
    "start_time": "2022-12-07T09:48:11.815Z"
   },
   {
    "duration": 89,
    "start_time": "2022-12-07T09:48:11.820Z"
   },
   {
    "duration": 102,
    "start_time": "2022-12-07T09:48:54.539Z"
   },
   {
    "duration": 100,
    "start_time": "2022-12-07T09:48:59.507Z"
   },
   {
    "duration": 113,
    "start_time": "2022-12-07T09:49:02.491Z"
   },
   {
    "duration": 124,
    "start_time": "2022-12-07T09:49:05.380Z"
   },
   {
    "duration": 1029,
    "start_time": "2022-12-07T09:49:07.681Z"
   },
   {
    "duration": 194,
    "start_time": "2022-12-07T09:49:17.138Z"
   },
   {
    "duration": 450,
    "start_time": "2022-12-07T09:50:07.943Z"
   },
   {
    "duration": 2245,
    "start_time": "2022-12-07T09:56:05.473Z"
   },
   {
    "duration": 19,
    "start_time": "2022-12-07T09:56:07.736Z"
   },
   {
    "duration": 89,
    "start_time": "2022-12-07T09:56:07.817Z"
   },
   {
    "duration": 0,
    "start_time": "2022-12-07T09:56:09.088Z"
   },
   {
    "duration": 0,
    "start_time": "2022-12-07T09:56:09.090Z"
   },
   {
    "duration": 0,
    "start_time": "2022-12-07T09:56:09.093Z"
   },
   {
    "duration": 0,
    "start_time": "2022-12-07T09:56:09.096Z"
   },
   {
    "duration": 0,
    "start_time": "2022-12-07T09:56:09.099Z"
   },
   {
    "duration": 0,
    "start_time": "2022-12-07T09:56:09.101Z"
   },
   {
    "duration": 0,
    "start_time": "2022-12-07T09:56:09.105Z"
   },
   {
    "duration": 0,
    "start_time": "2022-12-07T09:56:09.107Z"
   },
   {
    "duration": 0,
    "start_time": "2022-12-07T09:56:09.109Z"
   },
   {
    "duration": 1,
    "start_time": "2022-12-07T09:56:09.112Z"
   },
   {
    "duration": 0,
    "start_time": "2022-12-07T09:56:09.115Z"
   },
   {
    "duration": 0,
    "start_time": "2022-12-07T09:56:09.118Z"
   },
   {
    "duration": 0,
    "start_time": "2022-12-07T09:56:09.121Z"
   },
   {
    "duration": 0,
    "start_time": "2022-12-07T09:56:09.123Z"
   },
   {
    "duration": 0,
    "start_time": "2022-12-07T09:56:09.126Z"
   },
   {
    "duration": 0,
    "start_time": "2022-12-07T09:56:09.129Z"
   },
   {
    "duration": 0,
    "start_time": "2022-12-07T09:56:09.135Z"
   },
   {
    "duration": 0,
    "start_time": "2022-12-07T09:56:09.137Z"
   },
   {
    "duration": 0,
    "start_time": "2022-12-07T09:56:09.140Z"
   },
   {
    "duration": 0,
    "start_time": "2022-12-07T09:56:09.143Z"
   },
   {
    "duration": 0,
    "start_time": "2022-12-07T09:56:09.206Z"
   },
   {
    "duration": 0,
    "start_time": "2022-12-07T09:56:09.209Z"
   },
   {
    "duration": 0,
    "start_time": "2022-12-07T09:56:09.211Z"
   },
   {
    "duration": 0,
    "start_time": "2022-12-07T09:56:09.213Z"
   },
   {
    "duration": 0,
    "start_time": "2022-12-07T09:56:09.215Z"
   },
   {
    "duration": 1,
    "start_time": "2022-12-07T09:56:09.217Z"
   },
   {
    "duration": 0,
    "start_time": "2022-12-07T09:56:09.219Z"
   },
   {
    "duration": 0,
    "start_time": "2022-12-07T09:56:09.221Z"
   },
   {
    "duration": 0,
    "start_time": "2022-12-07T09:56:09.224Z"
   },
   {
    "duration": 0,
    "start_time": "2022-12-07T09:56:09.225Z"
   },
   {
    "duration": 0,
    "start_time": "2022-12-07T09:56:09.227Z"
   },
   {
    "duration": 0,
    "start_time": "2022-12-07T09:56:09.230Z"
   },
   {
    "duration": 0,
    "start_time": "2022-12-07T09:56:09.233Z"
   },
   {
    "duration": 0,
    "start_time": "2022-12-07T09:56:09.235Z"
   },
   {
    "duration": 0,
    "start_time": "2022-12-07T09:56:09.238Z"
   },
   {
    "duration": 0,
    "start_time": "2022-12-07T09:56:09.240Z"
   },
   {
    "duration": 0,
    "start_time": "2022-12-07T09:56:09.242Z"
   },
   {
    "duration": 0,
    "start_time": "2022-12-07T09:56:09.243Z"
   },
   {
    "duration": 0,
    "start_time": "2022-12-07T09:56:09.306Z"
   },
   {
    "duration": 0,
    "start_time": "2022-12-07T09:56:09.308Z"
   },
   {
    "duration": 0,
    "start_time": "2022-12-07T09:56:09.310Z"
   },
   {
    "duration": 0,
    "start_time": "2022-12-07T09:56:09.312Z"
   },
   {
    "duration": 0,
    "start_time": "2022-12-07T09:56:09.314Z"
   },
   {
    "duration": 0,
    "start_time": "2022-12-07T09:56:09.316Z"
   },
   {
    "duration": 0,
    "start_time": "2022-12-07T09:56:09.317Z"
   },
   {
    "duration": 0,
    "start_time": "2022-12-07T09:56:09.319Z"
   },
   {
    "duration": 0,
    "start_time": "2022-12-07T09:56:09.321Z"
   },
   {
    "duration": 0,
    "start_time": "2022-12-07T09:56:09.323Z"
   },
   {
    "duration": 0,
    "start_time": "2022-12-07T09:56:09.325Z"
   },
   {
    "duration": 0,
    "start_time": "2022-12-07T09:56:09.327Z"
   },
   {
    "duration": 0,
    "start_time": "2022-12-07T09:56:09.329Z"
   },
   {
    "duration": 0,
    "start_time": "2022-12-07T09:56:09.331Z"
   },
   {
    "duration": 0,
    "start_time": "2022-12-07T09:56:09.334Z"
   },
   {
    "duration": 0,
    "start_time": "2022-12-07T09:56:09.336Z"
   },
   {
    "duration": 0,
    "start_time": "2022-12-07T09:56:09.338Z"
   },
   {
    "duration": 0,
    "start_time": "2022-12-07T09:56:09.340Z"
   },
   {
    "duration": 0,
    "start_time": "2022-12-07T09:56:09.342Z"
   },
   {
    "duration": 0,
    "start_time": "2022-12-07T09:56:09.344Z"
   },
   {
    "duration": 0,
    "start_time": "2022-12-07T09:56:09.405Z"
   },
   {
    "duration": 0,
    "start_time": "2022-12-07T09:56:09.406Z"
   },
   {
    "duration": 0,
    "start_time": "2022-12-07T09:56:09.407Z"
   },
   {
    "duration": 0,
    "start_time": "2022-12-07T09:56:09.409Z"
   },
   {
    "duration": 0,
    "start_time": "2022-12-07T09:56:09.410Z"
   },
   {
    "duration": 0,
    "start_time": "2022-12-07T09:56:09.411Z"
   },
   {
    "duration": 0,
    "start_time": "2022-12-07T09:56:09.411Z"
   },
   {
    "duration": 0,
    "start_time": "2022-12-07T09:56:09.412Z"
   },
   {
    "duration": 0,
    "start_time": "2022-12-07T09:56:09.413Z"
   },
   {
    "duration": 0,
    "start_time": "2022-12-07T09:56:09.415Z"
   },
   {
    "duration": 7,
    "start_time": "2022-12-07T09:59:53.621Z"
   },
   {
    "duration": 8,
    "start_time": "2022-12-07T09:59:55.260Z"
   },
   {
    "duration": 13,
    "start_time": "2022-12-07T09:59:59.402Z"
   },
   {
    "duration": 60121,
    "start_time": "2022-12-07T10:00:00.974Z"
   },
   {
    "duration": 969,
    "start_time": "2022-12-07T10:01:01.105Z"
   },
   {
    "duration": 13592,
    "start_time": "2022-12-07T10:01:02.075Z"
   },
   {
    "duration": 4,
    "start_time": "2022-12-07T10:01:15.669Z"
   },
   {
    "duration": 23,
    "start_time": "2022-12-07T10:01:15.675Z"
   },
   {
    "duration": 37,
    "start_time": "2022-12-07T10:01:15.700Z"
   },
   {
    "duration": 19,
    "start_time": "2022-12-07T10:01:15.738Z"
   },
   {
    "duration": 29,
    "start_time": "2022-12-07T10:01:15.759Z"
   },
   {
    "duration": 19,
    "start_time": "2022-12-07T10:01:15.790Z"
   },
   {
    "duration": 21,
    "start_time": "2022-12-07T10:01:15.812Z"
   },
   {
    "duration": 31,
    "start_time": "2022-12-07T10:01:15.834Z"
   },
   {
    "duration": 8,
    "start_time": "2022-12-07T10:01:15.867Z"
   },
   {
    "duration": 26,
    "start_time": "2022-12-07T10:01:15.877Z"
   },
   {
    "duration": 20,
    "start_time": "2022-12-07T10:01:15.905Z"
   },
   {
    "duration": 51,
    "start_time": "2022-12-07T10:01:15.927Z"
   },
   {
    "duration": 24,
    "start_time": "2022-12-07T10:01:15.979Z"
   },
   {
    "duration": 21,
    "start_time": "2022-12-07T10:01:16.005Z"
   },
   {
    "duration": 65,
    "start_time": "2022-12-07T10:01:16.027Z"
   },
   {
    "duration": 133,
    "start_time": "2022-12-07T10:01:16.093Z"
   },
   {
    "duration": 234,
    "start_time": "2022-12-07T10:01:16.228Z"
   },
   {
    "duration": 170,
    "start_time": "2022-12-07T10:01:16.463Z"
   },
   {
    "duration": 158,
    "start_time": "2022-12-07T10:01:16.635Z"
   },
   {
    "duration": 240,
    "start_time": "2022-12-07T10:14:37.808Z"
   },
   {
    "duration": 2225,
    "start_time": "2022-12-07T10:17:31.614Z"
   },
   {
    "duration": 6,
    "start_time": "2022-12-07T10:17:33.841Z"
   },
   {
    "duration": 62,
    "start_time": "2022-12-07T10:17:52.702Z"
   },
   {
    "duration": 8,
    "start_time": "2022-12-07T10:18:01.706Z"
   },
   {
    "duration": 9,
    "start_time": "2022-12-07T10:18:04.011Z"
   },
   {
    "duration": 5,
    "start_time": "2022-12-07T10:18:18.422Z"
   },
   {
    "duration": 4,
    "start_time": "2022-12-07T10:18:21.329Z"
   },
   {
    "duration": 14,
    "start_time": "2022-12-07T10:18:22.149Z"
   },
   {
    "duration": 3,
    "start_time": "2022-12-07T10:18:25.814Z"
   },
   {
    "duration": 16,
    "start_time": "2022-12-07T10:18:27.409Z"
   },
   {
    "duration": 5,
    "start_time": "2022-12-07T10:18:28.136Z"
   },
   {
    "duration": 12,
    "start_time": "2022-12-07T10:18:29.880Z"
   },
   {
    "duration": 23,
    "start_time": "2022-12-07T10:18:33.773Z"
   },
   {
    "duration": 4,
    "start_time": "2022-12-07T10:18:35.508Z"
   },
   {
    "duration": 13,
    "start_time": "2022-12-07T10:18:36.160Z"
   },
   {
    "duration": 6,
    "start_time": "2022-12-07T10:18:38.718Z"
   },
   {
    "duration": 14,
    "start_time": "2022-12-07T10:18:39.806Z"
   },
   {
    "duration": 6,
    "start_time": "2022-12-07T10:18:40.895Z"
   },
   {
    "duration": 2,
    "start_time": "2022-12-07T10:18:45.649Z"
   },
   {
    "duration": 41,
    "start_time": "2022-12-07T10:18:46.334Z"
   },
   {
    "duration": 121,
    "start_time": "2022-12-07T10:18:49.727Z"
   },
   {
    "duration": 269,
    "start_time": "2022-12-07T10:18:57.479Z"
   },
   {
    "duration": 170,
    "start_time": "2022-12-07T10:19:02.443Z"
   },
   {
    "duration": 123,
    "start_time": "2022-12-07T10:19:06.742Z"
   },
   {
    "duration": 117149,
    "start_time": "2022-12-07T10:19:24.131Z"
   },
   {
    "duration": 3,
    "start_time": "2022-12-07T10:21:21.282Z"
   },
   {
    "duration": 72,
    "start_time": "2022-12-07T10:21:21.287Z"
   },
   {
    "duration": 70,
    "start_time": "2022-12-07T10:21:21.361Z"
   },
   {
    "duration": 754,
    "start_time": "2022-12-07T10:32:00.093Z"
   },
   {
    "duration": 127,
    "start_time": "2022-12-07T10:32:10.384Z"
   },
   {
    "duration": 54694,
    "start_time": "2022-12-07T10:32:14.321Z"
   },
   {
    "duration": 4,
    "start_time": "2022-12-07T10:33:09.018Z"
   },
   {
    "duration": 83,
    "start_time": "2022-12-07T10:33:09.023Z"
   },
   {
    "duration": 105,
    "start_time": "2022-12-07T10:33:21.518Z"
   },
   {
    "duration": 32,
    "start_time": "2022-12-07T10:33:28.535Z"
   },
   {
    "duration": 139,
    "start_time": "2022-12-07T10:33:34.146Z"
   },
   {
    "duration": 141,
    "start_time": "2022-12-07T10:33:39.638Z"
   },
   {
    "duration": 943,
    "start_time": "2022-12-07T10:33:46.564Z"
   },
   {
    "duration": 185,
    "start_time": "2022-12-07T10:33:52.403Z"
   },
   {
    "duration": 139,
    "start_time": "2022-12-07T10:34:01.104Z"
   },
   {
    "duration": 121995,
    "start_time": "2022-12-07T10:34:10.792Z"
   },
   {
    "duration": 4,
    "start_time": "2022-12-07T10:36:12.789Z"
   },
   {
    "duration": 80,
    "start_time": "2022-12-07T10:36:12.805Z"
   },
   {
    "duration": 356,
    "start_time": "2022-12-07T10:37:38.650Z"
   },
   {
    "duration": 157,
    "start_time": "2022-12-07T10:37:41.324Z"
   },
   {
    "duration": 4,
    "start_time": "2022-12-07T10:37:46.054Z"
   },
   {
    "duration": 537,
    "start_time": "2022-12-07T10:38:10.841Z"
   },
   {
    "duration": 13,
    "start_time": "2022-12-07T10:38:25.550Z"
   },
   {
    "duration": 4,
    "start_time": "2022-12-07T10:38:26.502Z"
   },
   {
    "duration": 12,
    "start_time": "2022-12-07T10:38:28.239Z"
   },
   {
    "duration": 124,
    "start_time": "2022-12-07T10:38:31.794Z"
   },
   {
    "duration": 135,
    "start_time": "2022-12-07T10:38:39.121Z"
   },
   {
    "duration": 37,
    "start_time": "2022-12-07T10:38:43.375Z"
   },
   {
    "duration": 138,
    "start_time": "2022-12-07T10:38:48.539Z"
   },
   {
    "duration": 3,
    "start_time": "2022-12-07T10:38:52.350Z"
   },
   {
    "duration": 2470,
    "start_time": "2022-12-07T10:38:52.891Z"
   },
   {
    "duration": 170,
    "start_time": "2022-12-07T10:38:56.501Z"
   },
   {
    "duration": 2,
    "start_time": "2022-12-07T10:39:00.115Z"
   },
   {
    "duration": 1190,
    "start_time": "2022-12-07T10:39:00.598Z"
   },
   {
    "duration": 150,
    "start_time": "2022-12-07T10:39:10.669Z"
   },
   {
    "duration": 78361,
    "start_time": "2022-12-07T10:42:01.197Z"
   },
   {
    "duration": 4,
    "start_time": "2022-12-07T10:43:19.559Z"
   },
   {
    "duration": 259,
    "start_time": "2022-12-07T10:43:19.564Z"
   },
   {
    "duration": 234,
    "start_time": "2022-12-07T10:43:41.125Z"
   },
   {
    "duration": 443,
    "start_time": "2022-12-07T10:49:30.481Z"
   },
   {
    "duration": 342758,
    "start_time": "2022-12-07T10:49:30.926Z"
   },
   {
    "duration": 3,
    "start_time": "2022-12-07T10:55:13.686Z"
   },
   {
    "duration": 489,
    "start_time": "2022-12-07T10:55:13.691Z"
   },
   {
    "duration": 39,
    "start_time": "2022-12-07T10:57:04.135Z"
   },
   {
    "duration": 527,
    "start_time": "2022-12-07T10:59:05.805Z"
   },
   {
    "duration": 460,
    "start_time": "2022-12-07T11:04:11.419Z"
   }
  ],
  "kernelspec": {
   "display_name": "Python 3 (ipykernel)",
   "language": "python",
   "name": "python3"
  },
  "language_info": {
   "codemirror_mode": {
    "name": "ipython",
    "version": 3
   },
   "file_extension": ".py",
   "mimetype": "text/x-python",
   "name": "python",
   "nbconvert_exporter": "python",
   "pygments_lexer": "ipython3",
   "version": "3.9.12"
  },
  "toc": {
   "base_numbering": 1,
   "nav_menu": {
    "height": "16px",
    "width": "160px"
   },
   "number_sections": true,
   "sideBar": true,
   "skip_h1_title": true,
   "title_cell": "Содержание",
   "title_sidebar": "Contents",
   "toc_cell": true,
   "toc_position": {
    "height": "calc(100% - 180px)",
    "left": "10px",
    "top": "150px",
    "width": "165px"
   },
   "toc_section_display": true,
   "toc_window_display": true
  }
 },
 "nbformat": 4,
 "nbformat_minor": 2
}
